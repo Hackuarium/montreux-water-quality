{
 "cells": [
  {
   "cell_type": "code",
   "execution_count": null,
   "id": "allied-profile",
   "metadata": {},
   "outputs": [],
   "source": [
    "import pandas as pd\n",
    "import numpy as np\n",
    "import matplotlib\n",
    "import matplotlib.pyplot as plt\n",
    "import json\n",
    "import re\n",
    "from textwrap import wrap\n",
    "import matplotlib.ticker\n",
    "import os\n",
    "import seaborn as sns\n",
    "sns.color_palette(\"bright\", 8)\n",
    "sns.set_palette(\"bright\")\n",
    "sns.set(rc={'figure.figsize':(11.7,8.27)})\n",
    "sns.set_style(\"whitegrid\", {'axes.grid' : False})"
   ]
  },
  {
   "cell_type": "code",
   "execution_count": null,
   "id": "referenced-reason",
   "metadata": {},
   "outputs": [],
   "source": [
    "def append_vars(ds, cols):\n",
    "    v=ds[cols]\n",
    "    X=ds.drop(columns=cols)\n",
    "    return pd.concat([X.assign(cfu=ds[col], name=ds['year'].apply(lambda y: f\"{col} {y}\")) for col in cols]).dropna()"
   ]
  },
  {
   "cell_type": "code",
   "execution_count": null,
   "id": "british-consultancy",
   "metadata": {},
   "outputs": [],
   "source": [
    "def save_plot(fname):\n",
    "    plt.savefig(f\"plots/{fname}.svg\")\n",
    "    plt.savefig(f\"plots/{fname}.png\")"
   ]
  },
  {
   "cell_type": "code",
   "execution_count": null,
   "id": "balanced-exclusive",
   "metadata": {},
   "outputs": [],
   "source": [
    "import matplotlib.ticker as mtick\n",
    "\n",
    "def make_dfs(df,fname):\n",
    "    #colors = ['#00008b', '#1e90ff', '#40e0d0', 'g', 'y']\n",
    "    fig, ax = plt.subplots(figsize=(12,8))\n",
    "    #sns.set_palette(colors)\n",
    "    ax=sns.swarmplot(x='week', y='cfu', hue='name', data=df,  alpha=0.8, size=12, linewidth=1, edgecolor='w')\n",
    "    #ax=sns.scatterplot(x='week', y='cfu', hue='name', data=c,  alpha=0.8, size= 14, linewidth=1, edgecolor='w')\n",
    "    plt.axvline(x=1.42, color='b', linestyle='-.', alpha=0.8)\n",
    "    plt.axvline(x=3.7, color='b', linestyle='-.', alpha=0.8)\n",
    "    ax.text(2.56, 1960,  \"Jazz 2016\", ha=\"center\", va=\"center\", size=14, color='b')\n",
    "    ax.annotate(\"\", xy=(1.42, 1900), xycoords='data',\n",
    "               xytext=(3.7, 1900), textcoords='data',\n",
    "               arrowprops=dict(arrowstyle=\"<|-|>\", connectionstyle=\"arc3\", color='b', alpha=0.8))\n",
    "    plt.axvline(x=2.4, color='r', linestyle='-.', alpha=0.8)\n",
    "    plt.axvline(x=4.58, color='r', linestyle='-.', alpha=0.8)\n",
    "    ax.text(3.4, 2240,  \"Jazz 2017\", ha=\"center\", va=\"center\", size=14, color='r')\n",
    "    ax.annotate(\"\", xy=(2.4, 2200), xycoords='data',\n",
    "               xytext=(4.58, 2200), textcoords='data',\n",
    "               arrowprops=dict(arrowstyle=\"<|-|>\", connectionstyle=\"arc3\", color='r', alpha=0.8))\n",
    "    ax.xaxis.grid(which=\"major\", color='b', linewidth=0.7, alpha=0.1)\n",
    "    ax.set_xlabel(\"Sample weeks 2016, 2017 and 2020\", size=16, labelpad=20)\n",
    "    ax.set_ylabel(\"Colony forming units per 100mL\", size=16, labelpad=20)\n",
    "    plt.suptitle(\"Montreux large events and the occurrence of bacteria in lake water\" , fontsize=16, family='sans')\n",
    "    plt.title(\"Colonies grouped by year and week number\", fontsize=16, family='sans', y=1.03)\n",
    "    ax.legend(loc='upper right', fontsize=14)\n",
    "    save_plot(fname)"
   ]
  },
  {
   "cell_type": "code",
   "execution_count": null,
   "id": "appreciated-median",
   "metadata": {},
   "outputs": [],
   "source": [
    "A=pd.read_pickle(\"data/allyears-avg_plate.pkl\")\n",
    "A['Date_dt'] = pd.to_datetime(A['Date'])\n",
    "R=pd.read_csv('data/rain_all.csv')\n",
    "A2=append_vars(A,['Bioindicator', 'Bioindicator UV+', 'Coliform'])"
   ]
  },
  {
   "cell_type": "code",
   "execution_count": null,
   "id": "unknown-objective",
   "metadata": {},
   "outputs": [],
   "source": [
    "make_dfs(A2,'YEAR_OVER_YEAR_CFUINCREASE_JAZZ_2016_2017_2020')"
   ]
  },
  {
   "cell_type": "code",
   "execution_count": null,
   "id": "classified-brighton",
   "metadata": {},
   "outputs": [],
   "source": [
    "def plot_with_rain(df,col_name, rain, sup_title, title, filename):\n",
    "    mindate=df['Date'].min()\n",
    "    R=rain.query(f\"Date>'{mindate}'\")\n",
    "    collss=['darkred', 'darkslategray', 'teal']\n",
    "    fig, ax2 = plt.subplots(figsize=(10,6), edgecolor='midnightblue')    \n",
    "    ylim = [1]\n",
    "    for i, n in enumerate(df['Location'].unique()):\n",
    "        yn=df.query(f\"Location=='{n}'\")\n",
    "        maxn = yn[col_name].max()\n",
    "        ratio = yn[col_name].std()/maxn\n",
    "        for index, row in yn.iterrows():\n",
    "            t, c, j = ax2.errorbar(row['Date_dt'], row[col_name], yerr=row[col_name]*ratio, capsize=2, alpha=0.4, ecolor='magenta',)\n",
    "            for k in j:\n",
    "                k.set_linestyle('--')\n",
    "            for cap in c:\n",
    "                cap.set_marker(\"o\")\n",
    "        ax2.plot(yn['Date_dt'], yn[col_name], label=n, color=collss[i], linewidth=3)\n",
    "        if maxn > max(ylim):\n",
    "            ylim.append(maxn)\n",
    "        ax2.set_ylim(bottom=0, top=max(ylim)+100)\n",
    "\n",
    "    ax1 = ax2.twinx() \n",
    "    ax1.bar(pd.to_datetime(R['Date']).values, R['Rain'].values, color='lightskyblue', width=0.99, alpha=0.4, label=\"mm of rain\")\n",
    "      \n",
    "    for pos in ['bottom', 'top', 'left', 'right']:\n",
    "        ax1.spines[pos].set_color('midnightblue')\n",
    "    ax1.grid(which='major', color='midnightblue', linestyle='--', alpha=0.2, axis='y')\n",
    "    ax1.tick_params(axis='both', which='both', color='midnightblue')\n",
    "    ax1.set_ylabel('Millimeters of rain per day', labelpad=10, fontsize=14)\n",
    "    \n",
    "    ax2.set_ylabel('Colony forming units per 100mL', labelpad=10, fontsize=14)\n",
    "    fig.legend( loc=(0.74, 0.55), frameon=True, fontsize=12, edgecolor='midnightblue', framealpha=0.8 )\n",
    "    \n",
    "    plt.xticks(df['Date'].unique(), [f\"Week {i+1}\" for i in range(8)], fontsize=11 )\n",
    "    plt.suptitle(sup_title, fontsize=16, family='sans')\n",
    "    plt.title(title, fontsize=16, family='sans', y=1.03)\n",
    "    plt.subplots_adjust(top=0.85)\n",
    "    save_plot(filename)\n",
    "    plt.show()"
   ]
  },
  {
   "cell_type": "code",
   "execution_count": null,
   "id": "first-furniture",
   "metadata": {},
   "outputs": [],
   "source": [
    "plot_with_rain(A.query('year == 20'),'total',R.query('year == 20'),\n",
    "               'Weekly average total colony forming units',\n",
    "               'June - Aug 2020; medium: Easygel+, 24hrs, n=65',\n",
    "               '2020_AVG_Total_CFU_week')"
   ]
  },
  {
   "cell_type": "code",
   "execution_count": null,
   "id": "controlling-election",
   "metadata": {},
   "outputs": [],
   "source": [
    "plot_with_rain(A.query('year == 20'),'Bioindicator',R.query('year == 20'),\n",
    "                'Weekly average Bioindicator colony forming units',\n",
    "               'June - Aug 2020; medium: Easygel+, 24hrs, n=65',\n",
    "                '2020_AVG_Bioindicator_CFU_week')"
   ]
  },
  {
   "cell_type": "code",
   "execution_count": null,
   "id": "applied-pastor",
   "metadata": {},
   "outputs": [],
   "source": [
    "plot_with_rain(A.query('year == 17'),'total',R.query('year == 17'),  \n",
    "               'Weekly average total colony forming units', \n",
    "               'June - July 2017; medium: Easygel+, 24hrs, n=69', \n",
    "               '2017_AVG_Total_CFU_week')"
   ]
  },
  {
   "cell_type": "code",
   "execution_count": null,
   "id": "maritime-modern",
   "metadata": {},
   "outputs": [],
   "source": [
    "plot_with_rain(A.query('year == 17'),'Bioindicator',R.query('year == 17'), \n",
    "               'Weekly average Bioindicator colony forming units',\n",
    "               'June - July 2017; medium: Easygel+, 24hrs, n=69',\n",
    "               '2017_AVG_BigBlue_CFU_week')"
   ]
  },
  {
   "cell_type": "code",
   "execution_count": null,
   "id": "forbidden-divorce",
   "metadata": {},
   "outputs": [],
   "source": [
    "plot_with_rain(A.query('year == 17'),'Bioindicator UV+',R.query('year == 17'),\n",
    "               'Weekly average UV+ Bioindicator colony forming units',\n",
    "               'June - july 2017; medium: Easygel+, 24hrs, n=69',\n",
    "               '2017_AVG_UltraViolet_CFU_week')"
   ]
  },
  {
   "cell_type": "code",
   "execution_count": null,
   "id": "psychological-startup",
   "metadata": {},
   "outputs": [],
   "source": [
    "plot_with_rain(A.query('year == 16'),'total',R.query('year == 16'),\n",
    "               'Weekly average total colony forming units', \n",
    "                'June - July 2016; medium: Easygel, 24hrs, n=72', \n",
    "                '2016_AVG_Total_CFU_week_16')"
   ]
  },
  {
   "cell_type": "code",
   "execution_count": null,
   "id": "competent-world",
   "metadata": {},
   "outputs": [],
   "source": [
    "plot_with_rain(A.query('year == 16'),'Bioindicator',R.query('year == 16'),\n",
    "               'Weekly average Bioindicator colony forming units',\n",
    "                'June - August 2016; medium: Easygel, 24hrs, n=72',\n",
    "                '2016_AVG_BigBlue_CFU_week')"
   ]
  },
  {
   "cell_type": "code",
   "execution_count": null,
   "id": "musical-romantic",
   "metadata": {},
   "outputs": [],
   "source": []
  }
 ],
 "metadata": {
  "kernelspec": {
   "display_name": "Python 3",
   "language": "python",
   "name": "python3"
  },
  "language_info": {
   "codemirror_mode": {
    "name": "ipython",
    "version": 3
   },
   "file_extension": ".py",
   "mimetype": "text/x-python",
   "name": "python",
   "nbconvert_exporter": "python",
   "pygments_lexer": "ipython3",
   "version": "3.9.2"
  }
 },
 "nbformat": 4,
 "nbformat_minor": 5
}
