{
 "cells": [
  {
   "cell_type": "code",
   "execution_count": null,
   "id": "db7b7628",
   "metadata": {},
   "outputs": [],
   "source": [
    "%%bash\n",
    "pip install numpy\n",
    "pip install pandas\n",
    "pip install seaborn\n",
    "pip install mlxtend\n",
    "pip install arch"
   ]
  },
  {
   "cell_type": "code",
   "execution_count": null,
   "id": "46d67144",
   "metadata": {},
   "outputs": [],
   "source": [
    "import pandas as pd\n",
    "import numpy as np\n",
    "import matplotlib\n",
    "import matplotlib.pyplot as plt\n",
    "import json\n",
    "import re\n",
    "from textwrap import wrap\n",
    "import matplotlib.ticker\n",
    "import os\n",
    "import seaborn as sns\n",
    "sns.color_palette(\"bright\", 8)\n",
    "sns.set_palette(\"bright\")\n",
    "sns.set(rc={'figure.figsize':(11.7,8.27)})\n",
    "sns.set_style(\"whitegrid\", {'axes.grid' : False})\n",
    "\n",
    "import matplotlib.pyplot as plt\n",
    "plt.rcParams[\"figure.figsize\"] = (11.7,8.27)\n",
    "\n",
    "%matplotlib inline"
   ]
  },
  {
   "cell_type": "code",
   "execution_count": null,
   "id": "a2a1f729",
   "metadata": {},
   "outputs": [],
   "source": [
    "def append_vars(ds, cols):\n",
    "    v=ds[cols]\n",
    "    X=ds.drop(columns=cols)\n",
    "    return pd.concat([X.assign(cfu=ds[col], name=ds['year'].apply(lambda y: f\"{col} {y}\")) for col in cols]).dropna()"
   ]
  },
  {
   "cell_type": "code",
   "execution_count": null,
   "id": "98da11bd",
   "metadata": {},
   "outputs": [],
   "source": [
    "def save_plot(fname):\n",
    "    plt.savefig(f\"plots/{fname}.svg\")\n",
    "    plt.savefig(f\"plots/{fname}.png\")"
   ]
  },
  {
   "cell_type": "code",
   "execution_count": null,
   "id": "3052d38f",
   "metadata": {},
   "outputs": [],
   "source": [
    "import matplotlib.ticker as mtick\n",
    "\n",
    "def make_dfs(df,fname):\n",
    "    colors = ['#000A9C', '#5B0094', '#005903', '#68DFFC', '#4275FF', '#C973FF', '#A2FCA5']\n",
    "    fig, ax = plt.subplots(figsize=(16,8))\n",
    "    #sns.set_palette(colors)\n",
    "    ax=sns.stripplot(x='week', y='cfu', hue='name', data=df,  alpha=1.0, size=12, linewidth=1, edgecolor='w', palette=colors)\n",
    "    #ax=sns.scatterplot(x='week', y='cfu', hue='name', data=c,  alpha=0.8, size= 14, linewidth=1, edgecolor='w')\n",
    "    plt.axvline(x=1.42, color='b', linestyle='-.', alpha=0.8)\n",
    "    plt.axvline(x=3.7, color='b', linestyle='-.', alpha=0.8)\n",
    "    ax.text(2.56, 1960,  \"Festival 2016\", ha=\"center\", va=\"center\", size=16, color='b')\n",
    "    ax.annotate(\"\", xy=(1.42, 1900), xycoords='data',\n",
    "               xytext=(3.7, 1900), textcoords='data',\n",
    "               arrowprops=dict(arrowstyle=\"<|-|>\", connectionstyle=\"arc3\", color='b', alpha=0.8))\n",
    "    plt.axvline(x=2.4, color='r', linestyle='-.', alpha=0.8)\n",
    "    plt.axvline(x=4.58, color='r', linestyle='-.', alpha=0.8)\n",
    "    ax.text(3.4, 2260,  \"Festival 2017\", ha=\"center\", va=\"center\", size=16, color='r')\n",
    "    ax.annotate(\"\", xy=(2.4, 2200), xycoords='data',\n",
    "               xytext=(4.58, 2200), textcoords='data',\n",
    "               arrowprops=dict(arrowstyle=\"<|-|>\", connectionstyle=\"arc3\", color='r', alpha=0.8))\n",
    "    ax.xaxis.grid(which=\"major\", color='b', linewidth=0.7, alpha=0.1)\n",
    "    ax.set_xlabel(\"Sample weeks 2016, 2017 and 2020\", size=16, labelpad=20)\n",
    "    ax.set_ylabel(\"Colony forming units per 100mL\", size=16, labelpad=20)\n",
    "    plt.suptitle(\"Festival and occurrence of bacteria in lake water\" , fontsize=16, family='sans')\n",
    "    plt.title(\"Colonies grouped by year and week number\", fontsize=16, family='sans', y=1.03)\n",
    "    ax.legend(loc='upper right', fontsize=14)\n",
    "    save_plot(fname)"
   ]
  },
  {
   "cell_type": "code",
   "execution_count": null,
   "id": "7ff8976b",
   "metadata": {},
   "outputs": [],
   "source": [
    "A=pd.read_pickle(\"data/allyears-avg_plate.pkl\")\n",
    "A['Date_dt'] = pd.to_datetime(A['Date'])\n",
    "R=pd.read_csv('data/rain_all.csv')\n",
    "A2=append_vars(A,['Bioindicator', 'Bioindicator UV+', 'Coliform'])"
   ]
  },
  {
   "cell_type": "code",
   "execution_count": null,
   "id": "505401bf",
   "metadata": {},
   "outputs": [],
   "source": [
    "A"
   ]
  },
  {
   "cell_type": "markdown",
   "id": "a280df71",
   "metadata": {},
   "source": [
    "## Year over year 2016 2017 and 2020"
   ]
  },
  {
   "cell_type": "markdown",
   "id": "7756b1b1",
   "metadata": {},
   "source": [
    "### Bioindicator + Coliform"
   ]
  },
  {
   "cell_type": "code",
   "execution_count": null,
   "id": "93f90b94",
   "metadata": {},
   "outputs": [],
   "source": [
    "#sns.set_palette(\"muted\")\n",
    "make_dfs(A2,'YEAR_OVER_YEAR_CFUINCREASE_JAZZ_2016_2017_2020')"
   ]
  },
  {
   "cell_type": "code",
   "execution_count": null,
   "id": "2a9cdf4f",
   "metadata": {},
   "outputs": [],
   "source": [
    "#make_dfs(A2[A2.name.str.contains('Bioindicator')],'YEAR_OVER_YEAR_CFUINCREASE_JAZZ_2016_2017_2020')"
   ]
  },
  {
   "cell_type": "markdown",
   "id": "4ba81db3",
   "metadata": {},
   "source": [
    "## Year over year 2016 2017 "
   ]
  },
  {
   "cell_type": "code",
   "execution_count": null,
   "id": "853087fe",
   "metadata": {},
   "outputs": [],
   "source": [
    "def make_dfs_2016_2017(df,fname):\n",
    "    #colors = ['#00008b', '#1e90ff', '#40e0d0', 'g', 'y']\n",
    "    colors = ['#000A9C', '#5B0094', '#68DFFC', '#4275FF', '#C973FF']\n",
    "    fig, ax = plt.subplots(figsize=(16,8))\n",
    "    #sns.set_palette(colors)\n",
    "    ax=sns.stripplot(x='week', y='cfu', hue='name', data=df,  alpha=0.8, size=12, linewidth=1, edgecolor='w', palette=colors)\n",
    "   #ax=sns.scatterplot(x='week', y='cfu', hue='name', data=c,  alpha=0.8, size= 14, linewidth=1, edgecolor='w')\n",
    "    plt.axvline(x=1.42, color='b', linestyle='-.', alpha=0.8)\n",
    "    plt.axvline(x=3.7, color='b', linestyle='-.', alpha=0.8)\n",
    "    ax.text(2.56, 600,  \"Festival 2016\", ha=\"center\", va=\"center\", size=14, color='b')\n",
    "    ax.annotate(\"\", xy=(1.42, 580), xycoords='data',\n",
    "               xytext=(3.7, 580), textcoords='data',\n",
    "               arrowprops=dict(arrowstyle=\"<|-|>\", connectionstyle=\"arc3\", color='b', alpha=0.8))\n",
    "    plt.axvline(x=2.4, color='r', linestyle='-.', alpha=0.8)\n",
    "    plt.axvline(x=4.58, color='r', linestyle='-.', alpha=0.8)\n",
    "    ax.text(3.4, 800,  \"Festival 2017\", ha=\"center\", va=\"center\", size=14, color='r')\n",
    "    ax.annotate(\"\", xy=(2.4, 780), xycoords='data',\n",
    "               xytext=(4.58, 780), textcoords='data',\n",
    "               arrowprops=dict(arrowstyle=\"<|-|>\", connectionstyle=\"arc3\", color='r', alpha=0.8))\n",
    "    ax.xaxis.grid(which=\"major\", color='b', linewidth=0.7, alpha=0.1)\n",
    "    ax.set_xlabel(\"Sample weeks 2016, 2017\", size=16, labelpad=20)\n",
    "    ax.set_ylabel(\"Colony forming units per 100mL\", size=16, labelpad=20)\n",
    "    plt.suptitle(\"Festival and occurrence of bacteria in lake water\" , fontsize=16, family='sans')\n",
    "    plt.title(\"Colonies grouped by year and week number\", fontsize=16, family='sans', y=1.03)\n",
    "    ax.legend(loc='upper right', fontsize=14)\n",
    "    save_plot(fname)"
   ]
  },
  {
   "cell_type": "code",
   "execution_count": null,
   "id": "fa8b8ae4",
   "metadata": {},
   "outputs": [],
   "source": [
    "make_dfs_2016_2017(A2.query('year != 20'),'YEAR_OVER_YEAR_CFUINCREASE_JAZZ_2016_2017')"
   ]
  },
  {
   "cell_type": "markdown",
   "id": "9b05d59e",
   "metadata": {},
   "source": [
    "## Problem with 0 values"
   ]
  },
  {
   "cell_type": "code",
   "execution_count": null,
   "id": "dd90789d",
   "metadata": {},
   "outputs": [],
   "source": [
    "def print_full(x):\n",
    "    pd.set_option('display.max_rows', len(x))\n",
    "    print(x)\n",
    "    pd.reset_option('display.max_rows')\n",
    "\n",
    "A=pd.read_pickle(\"data/allyears.pkl\")\n"
   ]
  },
  {
   "cell_type": "markdown",
   "id": "cbf18b9b",
   "metadata": {},
   "source": [
    "## Rain plots"
   ]
  },
  {
   "cell_type": "code",
   "execution_count": null,
   "id": "80a0ab39",
   "metadata": {},
   "outputs": [],
   "source": [
    "def plot_with_rain(df,col_name, rain, sup_title, title, filename):\n",
    "    mindate=df['Date'].min()\n",
    "    R=rain.query(f\"Date>'{mindate}'\")\n",
    "    collss=['red', 'blue', 'teal']\n",
    "    markers =['x','o','s']\n",
    "    \n",
    "    fig, ax1 = plt.subplots(figsize=(15,8), edgecolor='midnightblue')\n",
    "    \n",
    "    ax1.bar(pd.to_datetime(R['Date']).values, R['Rain'].values, color='lightskyblue', width=0.99, alpha=0.4, label=\"mm of rain\")\n",
    "    \n",
    "    ax2 = ax1.twinx() \n",
    "\n",
    "    ylim = [1]\n",
    "    for i, n in enumerate(df['Location'].unique()):\n",
    "        yn=df.query(f\"Location=='{n}'\")\n",
    "        maxn = yn[col_name].max()\n",
    "        ratio = yn[col_name].std()/maxn\n",
    "        for index, row in yn.iterrows():\n",
    "            t, c, j = ax2.errorbar(row['Date_dt'], row[col_name], yerr=row[col_name]*ratio, capsize=2, alpha=0.4, ecolor='magenta',)\n",
    "            for k in j:\n",
    "                k.set_linestyle('--')\n",
    "            for mm, cap in enumerate(c):\n",
    "                cap.set_marker('o')\n",
    "        ax2.scatter(yn['Date_dt'], yn[col_name], label=n, color=collss[i], marker=markers[i], s=60, linewidth=3)\n",
    "        if maxn > max(ylim):\n",
    "            ylim.append(maxn)\n",
    "        ax2.set_ylim(bottom=0, top=max(ylim)+100)\n",
    "\n",
    " \n",
    "      \n",
    "    for pos in ['bottom', 'top', 'left', 'right']:\n",
    "        ax1.spines[pos].set_color('midnightblue')\n",
    "    ax1.grid(which='major', color='midnightblue', linestyle='--', alpha=0.2, axis='y')\n",
    "    ax1.tick_params(axis='both', which='both', color='midnightblue')\n",
    "    \n",
    "    \n",
    "    ax2.set_ylabel('$\\itE. coli$ colony forming units per 100mL', labelpad=10, fontsize=14)\n",
    "    #ax2.yaxis.set_label_position(\"left\")\n",
    "    ax2.yaxis.tick_left()\n",
    "    ax2.yaxis.set_label_position(\"left\")\n",
    "\n",
    "    ax1.set_ylabel('Millimeters of rain per day', labelpad=10, fontsize=14)\n",
    "    #ax1.yaxis.set_label_position(\"right\")\n",
    "    ax1.yaxis.tick_right()\n",
    "    ax1.yaxis.set_label_position(\"right\")\n",
    "    \n",
    "    fig.legend( loc=(0.74, 0.55), frameon=True, fontsize=12, edgecolor='midnightblue', framealpha=0.8 )\n",
    "    \n",
    "    plt.xticks(df['Date'].unique(), [f\"Week {i+1}\" for i in range(8)], fontsize=11 )\n",
    "    plt.suptitle(sup_title, fontsize=16, family='sans')\n",
    "    plt.title(title, fontsize=16, family='sans', y=1.03)\n",
    "    plt.subplots_adjust(top=0.85)\n",
    "    save_plot(filename)\n",
    "    plt.show()"
   ]
  },
  {
   "cell_type": "code",
   "execution_count": null,
   "id": "f3e233fe",
   "metadata": {},
   "outputs": [],
   "source": [
    "A.query('year == 20')"
   ]
  },
  {
   "cell_type": "code",
   "execution_count": null,
   "id": "fabd5bde",
   "metadata": {},
   "outputs": [],
   "source": [
    "plot_with_rain(A.query('year == 20'),'total',R.query('year == 20'),\n",
    "               'Weekly average total colony forming units',\n",
    "               'June - Aug 2020; medium: Easygel+, 24hrs, n={}'.format(len(A.query('year == 20'))),\n",
    "               '2020_AVG_Total_CFU_week')"
   ]
  },
  {
   "cell_type": "code",
   "execution_count": null,
   "id": "fe95bdef",
   "metadata": {},
   "outputs": [],
   "source": [
    "plot_with_rain(A.query('year == 20'),'Bioindicator',R.query('year == 20'),\n",
    "                'Weekly average Bioindicator colony forming units',\n",
    "               'June - Aug 2020; medium: Easygel+, 24hrs, n={}'.format(len(A.query('year == 20'))),\n",
    "                '2020_AVG_Bioindicator_CFU_week')"
   ]
  },
  {
   "cell_type": "code",
   "execution_count": null,
   "id": "0ef3d3b2",
   "metadata": {},
   "outputs": [],
   "source": [
    "plot_with_rain(A.query('year == 17'),'total',R.query('year == 17'),  \n",
    "               'Weekly average total colony forming units', \n",
    "               'June - July 2017; medium: Easygel+, 24hrs, n={}'.format(len(A.query('year == 17'))), \n",
    "               '2017_AVG_Total_CFU_week')"
   ]
  },
  {
   "cell_type": "code",
   "execution_count": null,
   "id": "b5f9b7e2",
   "metadata": {},
   "outputs": [],
   "source": [
    "plot_with_rain(A.query('year == 17'),'Bioindicator',R.query('year == 17'), \n",
    "               'Weekly average Bioindicator colony forming units',\n",
    "               'June - July 2017; medium: Easygel+, 24hrs, n={}'.format(len(A.query('year == 17'))),\n",
    "               '2017_AVG_BigBlue_CFU_week')"
   ]
  },
  {
   "cell_type": "code",
   "execution_count": null,
   "id": "2b489c71",
   "metadata": {},
   "outputs": [],
   "source": [
    "plot_with_rain(A.query('year == 17'),'Bioindicator UV+',R.query('year == 17'),\n",
    "               'Weekly average UV+ Bioindicator colony forming units',\n",
    "               'June - july 2017; medium: Easygel+, 24hrs, n={}'.format(len(A.query('year == 17'))),\n",
    "               '2017_AVG_UltraViolet_CFU_week')"
   ]
  },
  {
   "cell_type": "code",
   "execution_count": null,
   "id": "e65ab89c",
   "metadata": {},
   "outputs": [],
   "source": [
    "plot_with_rain(A.query('year == 16'),'total',R.query('year == 16'),\n",
    "               'Weekly average total colony forming units', \n",
    "                'June - July 2016; medium: Easygel, 24hrs, n={}'.format(len(A.query('year == 16'))), \n",
    "                '2016_AVG_Total_CFU_week_16')"
   ]
  },
  {
   "cell_type": "code",
   "execution_count": null,
   "id": "1f97af66",
   "metadata": {},
   "outputs": [],
   "source": [
    "plot_with_rain(A.query('year == 16'),'Bioindicator',R.query('year == 16'),\n",
    "               'Weekly average Bioindicator colony forming units',\n",
    "                'June - August 2016; medium: Easygel, 24hrs, n={}'.format(len(A.query('year == 16'))),\n",
    "                '2016_AVG_BigBlue_CFU_week')"
   ]
  },
  {
   "cell_type": "markdown",
   "id": "bb0dcf11",
   "metadata": {},
   "source": [
    "## Rain 72hours sum graph"
   ]
  },
  {
   "cell_type": "code",
   "execution_count": null,
   "id": "4d8d7709",
   "metadata": {},
   "outputs": [],
   "source": [
    "rain_sum_df = A2.groupby(['name','Date']).sum().reset_index()\n",
    "rain_sum_df"
   ]
  },
  {
   "cell_type": "code",
   "execution_count": null,
   "id": "ca8122b1",
   "metadata": {},
   "outputs": [],
   "source": [
    "import matplotlib.ticker as ticker\n",
    "import matplotlib.ticker as mticker\n",
    "\n",
    "\n",
    "def make_rain_sum(df, fname, colors):\n",
    "    #colors = ['#00008b', '#8b008b', '#468b00', '#add8e6'] #, '#ffb6c1']\n",
    "    #colors = ['#000A9C', '#5B0094', '#005903', '#68DFFC', '#4275FF', '#C973FF', '#A2FCA5']\n",
    "    fig, ax = plt.subplots(figsize=(15,8))\n",
    "    \n",
    "    ax=sns.scatterplot(x='rain', y='cfu', hue='name', data=df,  alpha=1, s=100, linewidth=1, edgecolor='w', palette=colors, legend='full')\n",
    "\n",
    "    ax.xaxis.grid(which=\"major\", color='b', linewidth=0.7, alpha=0.1)\n",
    "    ax.set_xlabel(\"Montreux 72 hour rainfall total in millimiters. 2016, 2017 and 2020\", size=16, labelpad=20)\n",
    "    ax.set_ylabel(\"Colony forming units per 100mL\", size=16, labelpad=20)\n",
    "    plt.suptitle(\"Rainfall and the occurrence of coliform bacteria in laker water\" , fontsize=16, family='sans')\n",
    "    plt.title(\"Grouped by 72 hours rainfall total and colony color\", fontsize=16, family='sans', y=1.03)\n",
    "    ax.legend(loc='upper right', fontsize=14)\n",
    "    ax.xaxis.set_major_locator(ticker.MultipleLocator(4))#mticker.MultipleLocator(1))\n",
    "\n",
    "    save_plot(fname)"
   ]
  },
  {
   "cell_type": "code",
   "execution_count": null,
   "id": "3269a2aa",
   "metadata": {},
   "outputs": [],
   "source": [
    "make_rain_sum(rain_sum_df[rain_sum_df.name.str.contains('Bioindicator')].round(decimals=5), \n",
    "              'Rainfall_sum_2016_2017_2020', \n",
    "              ['#000A9C', '#5B0094', '#005903', '#68DFFC'])\n"
   ]
  },
  {
   "cell_type": "code",
   "execution_count": null,
   "id": "c218a507",
   "metadata": {},
   "outputs": [],
   "source": [
    "def make_rain_sum_2016_2017(df, fname, colors):\n",
    "    #colors = ['#000A9C', '#5B0094', '#68DFFC', '#4275FF', '#C973FF']\n",
    "    #colors = ['#00008b', '#8b008b', '#008000', '#468b00', '#add8e6', '#ffb6c1', '#90ee90']\n",
    "    fig, ax = plt.subplots(figsize=(15,8))\n",
    "    \n",
    "    ax=sns.scatterplot(x='rain', y='cfu', hue='name', data=df,  alpha=1, s=100, linewidth=1, edgecolor='w', palette=colors, legend='full')\n",
    "\n",
    "    ax.xaxis.grid(which=\"major\", color='b', linewidth=0.7, alpha=0.1)\n",
    "    ax.set_xlabel(\"Montreux 72 hour rainfall total in millimiters. 2016 and 2017\", size=16, labelpad=20)\n",
    "    ax.set_ylabel(\"Colony forming units per 100mL\", size=16, labelpad=20)\n",
    "    plt.suptitle(\"Rainfall and the occurrence of coliform bacteria in laker water\" , fontsize=16, family='sans')\n",
    "    plt.title(\"Grouped by 72 hours rainfall total and colony color\", fontsize=16, family='sans', y=1.03)\n",
    "    ax.legend(loc='upper right', fontsize=14)\n",
    "    ax.xaxis.set_major_locator(ticker.MultipleLocator(4))#mticker.MultipleLocator(1))\n",
    "\n",
    "    save_plot(fname)"
   ]
  },
  {
   "cell_type": "code",
   "execution_count": null,
   "id": "ea218164",
   "metadata": {},
   "outputs": [],
   "source": [
    "make_rain_sum_2016_2017(rain_sum_df[rain_sum_df.name.str.contains('Bioindicator')].query('year != 60').round(decimals=5), \n",
    "                        'Rainfall_sum_2016_2017', \n",
    "                        ['#000A9C', '#5B0094', '#005903'])"
   ]
  },
  {
   "cell_type": "code",
   "execution_count": null,
   "id": "fb5cf641",
   "metadata": {},
   "outputs": [],
   "source": [
    "make_rain_sum_2016_2017(rain_sum_df.query('year != 60').round(decimals=2), \n",
    "                        'Rainfall_sum_2016_2017', \n",
    "                        ['#000A9C', '#5B0094', '#005903', '#68DFFC', '#4275FF'])"
   ]
  },
  {
   "cell_type": "markdown",
   "id": "d43021e1",
   "metadata": {},
   "source": [
    "## Results before, during and after"
   ]
  },
  {
   "cell_type": "code",
   "execution_count": null,
   "id": "bb4965ae",
   "metadata": {},
   "outputs": [],
   "source": [
    "#A=pd.read_pickle(\"data/allyears.pkl\")\n",
    "A=pd.read_pickle(\"data/allyears-avg_plate.pkl\")\n",
    "A['Date_dt'] = pd.to_datetime(A['Date'])\n",
    "A2=append_vars(A,['Bioindicator', 'Bioindicator UV+', 'Coliform'])"
   ]
  },
  {
   "cell_type": "code",
   "execution_count": null,
   "id": "780f6ca0",
   "metadata": {},
   "outputs": [],
   "source": [
    "festival = A2.query('year != 20')\n",
    "nofestival = A2.query('year == 20').copy()\n",
    "nofestival['festival'] = 'No festival'\n",
    "\n",
    "barplot = pd.concat([festival, nofestival])\n",
    "barplot = barplot[barplot.name.str.contains('Bioindicator')].query('name != \"Bioindicator UV+ 17\"')\n",
    "barplot"
   ]
  },
  {
   "cell_type": "markdown",
   "id": "8f98d415",
   "metadata": {},
   "source": [
    "## With Statistics annotations"
   ]
  },
  {
   "cell_type": "markdown",
   "id": "8f1244e7",
   "metadata": {},
   "source": [
    "### Permutation Test"
   ]
  },
  {
   "cell_type": "code",
   "execution_count": null,
   "id": "e6239c64",
   "metadata": {},
   "outputs": [],
   "source": [
    "from statannot import add_stat_annotation\n",
    "\n",
    "data = barplot.query('year != 20')\n",
    "x = \"festival\"\n",
    "y = \"cfu\"\n",
    "order= ['before', 'during', 'after']\n",
    "\n",
    "box_pairs=[(\"before\", \"during\"), (\"before\", \"after\"), (\"during\", \"after\")]\n",
    "\n",
    "#from scipy.stats import brunnermunzel\n",
    "\n",
    "test_short_name = 'Permutation Test'\n",
    "pvalues = [0.0001,0.1020,0.0359]\n",
    "\n",
    "sns.set(rc={'figure.figsize':(11.7,8.27)})\n",
    "sns.set_style(\"whitegrid\", {'axes.grid' : False})\n",
    "plt.rcParams[\"figure.figsize\"] = (11.7,8.27)\n",
    "\n",
    "ax = sns.boxplot(x=x, y=y, data=data, order=order, color='lightblue')\n",
    "sns.stripplot(ax=ax, x=x, y=y, data=data, alpha=1, linewidth=2, order=order, color='darkblue')\n",
    "\n",
    "ax.xaxis.grid(which=\"major\", color='b', linewidth=0.7, alpha=0.1)\n",
    "ax.set_xlabel(\"Results grouped in relation to Montreux Festival\", size=16, labelpad=20)\n",
    "ax.set_ylabel(\"$\\itE. coli$ colony forming units per 100mL\", size=16, labelpad=20)\n",
    "plt.suptitle(\"Distribution of survey results summer 2016 & 2017\" , fontsize=16, family='sans')\n",
    "plt.title(\"colony forming units per 100mL; n={}\".format(len(data)), fontsize=16, family='sans', y=1.03)\n",
    "\n",
    "test_results = add_stat_annotation(ax, data=data, x=x, y=y,\n",
    "                                   box_pairs=box_pairs,\n",
    "                                   perform_stat_test=False, pvalues=pvalues, test_short_name=test_short_name,\n",
    "                                   pvalue_thresholds=[[1.1e-4, \"****\"], [1.1e-3, \"***\"], [1.1e-2, \"**\"], [0.05, \"*\"], [1, \"ns\"]],text_format='star', verbose=2)\n",
    "plt.savefig(f\"plots/permutation_test_2016_2017_distribution.svg\")\n",
    "plt.savefig(f\"plots/permutation_test_2016_2017_distribution.png\")\n",
    "\n",
    "\n",
    "test_results\n",
    "\n"
   ]
  },
  {
   "cell_type": "code",
   "execution_count": null,
   "id": "74fde9b1",
   "metadata": {},
   "outputs": [],
   "source": [
    "import matplotlib.ticker as ticker\n",
    "\n",
    "data = barplot\n",
    "x = \"festival\"\n",
    "y = \"cfu\"\n",
    "order= ['before', 'during', 'after', 'No festival']\n",
    "\n",
    "box_pairs=[(\"before\", \"during\"), (\"before\", \"after\"), (\"during\", \"after\"),\n",
    "           (\"before\",\"No festival\"), (\"during\",\"No festival\"), (\"after\",\"No festival\")]\n",
    "\n",
    "test_short_name = 'Permutation Test'\n",
    "pvalues = [0.0001,0.1020,0.0359, 0.0001, 0.0001,0.0001 ]\n",
    "\n",
    "sns.set(rc={'figure.figsize':(11.7,8.27)})\n",
    "sns.set_style(\"whitegrid\", {'axes.grid' : False})\n",
    "plt.rcParams[\"figure.figsize\"] = (11.7,8.27)\n",
    "\n",
    "ax = sns.boxplot(x=x, y=y, data=data, order=order, color='lightblue', showfliers=False)\n",
    "sns.stripplot(ax=ax, x=x, y=y, data=data, alpha=1, linewidth=2, order=order, color='darkblue')\n",
    "\n",
    "ax.xaxis.grid(which=\"major\", color='b', linewidth=0.7, alpha=0.1)\n",
    "ax.set_xlabel(\"Results grouped in relation to Montreux Festival\", size=16, labelpad=20)\n",
    "ax.set_ylabel(\"$\\itE. coli$ colony forming units per 100mL\", size=16, labelpad=20)\n",
    "plt.suptitle(\"Distribution of survey results summer 2016, 2017 and 2020\" , fontsize=16, family='sans')\n",
    "plt.title(f\"colony forming units per 100mL; n={len(barplot)}\", fontsize=16, family='sans', y=1.03)\n",
    "ax.yaxis.set_major_locator(ticker.MultipleLocator(100))\n",
    "\n",
    "\n",
    "test_results = add_stat_annotation(ax, data=data, x=x, y=y, order=order, fontsize='medium',\n",
    "                                   box_pairs=box_pairs,\n",
    "                                   perform_stat_test=False, pvalues=pvalues, test_short_name=test_short_name,\n",
    "                                   show_test_name=False,text_format='star',\n",
    "                                   pvalue_thresholds=[[1.1e-4, \"****\"], [1.1e-3, \"***\"], [1.1e-2, \"**\"], [0.05, \"*\"], [1, \"ns\"]],verbose=2)\n",
    "test_results\n",
    "\n",
    "plt.savefig(f\"plots/permutation_test_distribution.svg\")\n",
    "plt.savefig(f\"plots/permutation_test_distribution.png\")"
   ]
  },
  {
   "cell_type": "markdown",
   "id": "49c043ed",
   "metadata": {},
   "source": [
    "The confidence interval should be extracted manually"
   ]
  },
  {
   "cell_type": "code",
   "execution_count": null,
   "id": "c9aaf2f0",
   "metadata": {},
   "outputs": [],
   "source": [
    "fig1, ax1 = plt.subplots()\n",
    "a = ax1.boxplot(barplot.query('festival == \"before\"')[\"cfu\"])\n",
    "print('Median c.i. for before goes from {} to {} and a median of {}'.format(ax1.lines[0].get_xydata()[1][1]\n",
    ",ax1.lines[0].get_xydata()[2][1], ax1.lines[5].get_xydata()[0][1]))\n",
    "\n",
    "fig1, ax1 = plt.subplots()\n",
    "a = ax1.boxplot(barplot.query('festival == \"during\"')[\"cfu\"])\n",
    "print('Median c.i. for during goes from {} to {} and a median of {}'.format(ax1.lines[0].get_xydata()[1][1]\n",
    ",ax1.lines[0].get_xydata()[2][1], ax1.lines[5].get_xydata()[0][1]))\n",
    "\n",
    "fig1, ax1 = plt.subplots()\n",
    "a = ax1.boxplot(barplot.query('festival == \"after\"')[\"cfu\"])\n",
    "print('Median c.i. for after goes from {} to {} and a median of {}'.format(ax1.lines[0].get_xydata()[1][1]\n",
    ",ax1.lines[0].get_xydata()[2][1], ax1.lines[5].get_xydata()[0][1]))\n",
    "\n",
    "fig1, ax1 = plt.subplots()\n",
    "a = ax1.boxplot(barplot.query('festival == \"No festival\"')[\"cfu\"])\n",
    "print('Median c.i. for No festival goes from {} to {} and a median of {}'.format(ax1.lines[0].get_xydata()[1][1]\n",
    ",ax1.lines[0].get_xydata()[2][1], ax1.lines[5].get_xydata()[0][1]))\n"
   ]
  }
 ],
 "metadata": {
  "kernelspec": {
   "display_name": "Python 3",
   "language": "python",
   "name": "python3"
  },
  "language_info": {
   "codemirror_mode": {
    "name": "ipython",
    "version": 3
   },
   "file_extension": ".py",
   "mimetype": "text/x-python",
   "name": "python",
   "nbconvert_exporter": "python",
   "pygments_lexer": "ipython3",
   "version": "3.9.5"
  }
 },
 "nbformat": 4,
 "nbformat_minor": 5
}
