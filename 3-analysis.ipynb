{
 "cells": [
  {
   "cell_type": "code",
   "execution_count": 2,
   "id": "6e4dbbdd",
   "metadata": {},
   "outputs": [
    {
     "name": "stdout",
     "output_type": "stream",
     "text": [
      "Requirement already satisfied: arch in /srv/conda/envs/notebook/lib/python3.7/site-packages (4.19)\n",
      "Requirement already satisfied: statsmodels>=0.10 in /srv/conda/envs/notebook/lib/python3.7/site-packages (from arch) (0.12.2)\n",
      "Requirement already satisfied: numpy>=1.14 in /srv/conda/envs/notebook/lib/python3.7/site-packages (from arch) (1.20.2)\n",
      "Requirement already satisfied: pandas>=0.23 in /srv/conda/envs/notebook/lib/python3.7/site-packages (from arch) (1.2.4)\n",
      "Requirement already satisfied: cython>=0.29.14 in /srv/conda/envs/notebook/lib/python3.7/site-packages (from arch) (0.29.23)\n",
      "Requirement already satisfied: property-cached>=1.6.4 in /srv/conda/envs/notebook/lib/python3.7/site-packages (from arch) (1.6.4)\n",
      "Requirement already satisfied: scipy>=1.2.3 in /srv/conda/envs/notebook/lib/python3.7/site-packages (from arch) (1.6.2)\n",
      "Requirement already satisfied: python-dateutil>=2.7.3 in /srv/conda/envs/notebook/lib/python3.7/site-packages (from pandas>=0.23->arch) (2.8.1)\n",
      "Requirement already satisfied: pytz>=2017.3 in /srv/conda/envs/notebook/lib/python3.7/site-packages (from pandas>=0.23->arch) (2021.1)\n",
      "Requirement already satisfied: six>=1.5 in /srv/conda/envs/notebook/lib/python3.7/site-packages (from python-dateutil>=2.7.3->pandas>=0.23->arch) (1.15.0)\n",
      "Requirement already satisfied: patsy>=0.5 in /srv/conda/envs/notebook/lib/python3.7/site-packages (from statsmodels>=0.10->arch) (0.5.1)\n",
      "Requirement already satisfied: numpy in /srv/conda/envs/notebook/lib/python3.7/site-packages (1.20.2)\n",
      "Requirement already satisfied: pandas in /srv/conda/envs/notebook/lib/python3.7/site-packages (1.2.4)\n",
      "Requirement already satisfied: python-dateutil>=2.7.3 in /srv/conda/envs/notebook/lib/python3.7/site-packages (from pandas) (2.8.1)\n",
      "Requirement already satisfied: pytz>=2017.3 in /srv/conda/envs/notebook/lib/python3.7/site-packages (from pandas) (2021.1)\n",
      "Requirement already satisfied: numpy>=1.16.5 in /srv/conda/envs/notebook/lib/python3.7/site-packages (from pandas) (1.20.2)\n",
      "Requirement already satisfied: six>=1.5 in /srv/conda/envs/notebook/lib/python3.7/site-packages (from python-dateutil>=2.7.3->pandas) (1.15.0)\n",
      "Requirement already satisfied: seaborn in /srv/conda/envs/notebook/lib/python3.7/site-packages (0.11.1)\n",
      "Requirement already satisfied: matplotlib>=2.2 in /srv/conda/envs/notebook/lib/python3.7/site-packages (from seaborn) (3.4.1)\n",
      "Requirement already satisfied: scipy>=1.0 in /srv/conda/envs/notebook/lib/python3.7/site-packages (from seaborn) (1.6.2)\n",
      "Requirement already satisfied: pandas>=0.23 in /srv/conda/envs/notebook/lib/python3.7/site-packages (from seaborn) (1.2.4)\n",
      "Requirement already satisfied: numpy>=1.15 in /srv/conda/envs/notebook/lib/python3.7/site-packages (from seaborn) (1.20.2)\n",
      "Requirement already satisfied: cycler>=0.10 in /srv/conda/envs/notebook/lib/python3.7/site-packages (from matplotlib>=2.2->seaborn) (0.10.0)\n",
      "Requirement already satisfied: kiwisolver>=1.0.1 in /srv/conda/envs/notebook/lib/python3.7/site-packages (from matplotlib>=2.2->seaborn) (1.3.1)\n",
      "Requirement already satisfied: python-dateutil>=2.7 in /srv/conda/envs/notebook/lib/python3.7/site-packages (from matplotlib>=2.2->seaborn) (2.8.1)\n",
      "Requirement already satisfied: pyparsing>=2.2.1 in /srv/conda/envs/notebook/lib/python3.7/site-packages (from matplotlib>=2.2->seaborn) (2.4.7)\n",
      "Requirement already satisfied: pillow>=6.2.0 in /srv/conda/envs/notebook/lib/python3.7/site-packages (from matplotlib>=2.2->seaborn) (8.2.0)\n",
      "Requirement already satisfied: six in /srv/conda/envs/notebook/lib/python3.7/site-packages (from cycler>=0.10->matplotlib>=2.2->seaborn) (1.15.0)\n",
      "Requirement already satisfied: pytz>=2017.3 in /srv/conda/envs/notebook/lib/python3.7/site-packages (from pandas>=0.23->seaborn) (2021.1)\n",
      "Requirement already satisfied: mlxtend in /srv/conda/envs/notebook/lib/python3.7/site-packages (0.18.0)\n",
      "Requirement already satisfied: scipy>=1.2.1 in /srv/conda/envs/notebook/lib/python3.7/site-packages (from mlxtend) (1.6.2)\n",
      "Requirement already satisfied: numpy>=1.16.2 in /srv/conda/envs/notebook/lib/python3.7/site-packages (from mlxtend) (1.20.2)\n",
      "Requirement already satisfied: matplotlib>=3.0.0 in /srv/conda/envs/notebook/lib/python3.7/site-packages (from mlxtend) (3.4.1)\n",
      "Requirement already satisfied: joblib>=0.13.2 in /srv/conda/envs/notebook/lib/python3.7/site-packages (from mlxtend) (1.0.1)\n",
      "Requirement already satisfied: setuptools in /srv/conda/envs/notebook/lib/python3.7/site-packages (from mlxtend) (49.6.0.post20210108)\n",
      "Requirement already satisfied: scikit-learn>=0.20.3 in /srv/conda/envs/notebook/lib/python3.7/site-packages (from mlxtend) (0.24.1)\n",
      "Requirement already satisfied: pandas>=0.24.2 in /srv/conda/envs/notebook/lib/python3.7/site-packages (from mlxtend) (1.2.4)\n",
      "Requirement already satisfied: python-dateutil>=2.7 in /srv/conda/envs/notebook/lib/python3.7/site-packages (from matplotlib>=3.0.0->mlxtend) (2.8.1)\n",
      "Requirement already satisfied: pyparsing>=2.2.1 in /srv/conda/envs/notebook/lib/python3.7/site-packages (from matplotlib>=3.0.0->mlxtend) (2.4.7)\n",
      "Requirement already satisfied: cycler>=0.10 in /srv/conda/envs/notebook/lib/python3.7/site-packages (from matplotlib>=3.0.0->mlxtend) (0.10.0)\n",
      "Requirement already satisfied: pillow>=6.2.0 in /srv/conda/envs/notebook/lib/python3.7/site-packages (from matplotlib>=3.0.0->mlxtend) (8.2.0)\n",
      "Requirement already satisfied: kiwisolver>=1.0.1 in /srv/conda/envs/notebook/lib/python3.7/site-packages (from matplotlib>=3.0.0->mlxtend) (1.3.1)\n",
      "Requirement already satisfied: six in /srv/conda/envs/notebook/lib/python3.7/site-packages (from cycler>=0.10->matplotlib>=3.0.0->mlxtend) (1.15.0)\n",
      "Requirement already satisfied: pytz>=2017.3 in /srv/conda/envs/notebook/lib/python3.7/site-packages (from pandas>=0.24.2->mlxtend) (2021.1)\n",
      "Requirement already satisfied: threadpoolctl>=2.0.0 in /srv/conda/envs/notebook/lib/python3.7/site-packages (from scikit-learn>=0.20.3->mlxtend) (2.1.0)\n"
     ]
    }
   ],
   "source": [
    "%%bash \n",
    "pip install arch\n",
    "pip install numpy\n",
    "pip install pandas\n",
    "pip install seaborn\n",
    "pip install mlxtend"
   ]
  },
  {
   "cell_type": "code",
   "execution_count": 1,
   "id": "744f2136",
   "metadata": {},
   "outputs": [],
   "source": [
    "import pandas as pd\n",
    "import numpy as np\n",
    "import matplotlib\n",
    "import matplotlib.pyplot as plt\n",
    "import matplotlib.ticker\n",
    "import os\n",
    "import seaborn as sns\n",
    "from scipy import stats\n",
    "from mlxtend.evaluate import permutation_test"
   ]
  },
  {
   "cell_type": "code",
   "execution_count": 61,
   "id": "b18d4820",
   "metadata": {},
   "outputs": [],
   "source": [
    "#A=pd.read_pickle(\"data/allyears-avg_plate.pkl\")\n",
    "A=pd.read_pickle(\"data/allyears-avg_plate.pkl\")"
   ]
  },
  {
   "cell_type": "code",
   "execution_count": 114,
   "id": "35a1ac1f",
   "metadata": {},
   "outputs": [],
   "source": [
    "# # Permutation test for combined off-festival vs festival period\n",
    "# p_value = permutation_test( A.loc[A['festival'] == 'during', 'Bioindicator'] , \n",
    "#                             A.loc[A['festival'] != 'during', 'Bioindicator'] , \n",
    "#                            method='approximate',\n",
    "#                            num_rounds=10000,\n",
    "#                            seed=0)\n",
    "# print(p_value)"
   ]
  },
  {
   "cell_type": "code",
   "execution_count": 113,
   "id": "4af35022",
   "metadata": {},
   "outputs": [],
   "source": [
    "# for c in ['Bioindicator','Coliform']:\n",
    "#     p1 = permutation_test( A.loc[A['year'] == 16 , c] , \n",
    "#                                 A.loc[A['year'] == 17, c] , \n",
    "#                                method='approximate',\n",
    "#                                num_rounds=10000,\n",
    "#                                seed=0)\n",
    "#     p2 = permutation_test( A.loc[A['year'] == 16 , c] , \n",
    "#                                 A.loc[A['year'] == 20, c] , \n",
    "#                                method='approximate',\n",
    "#                                num_rounds=10000,\n",
    "#                                seed=0)\n",
    "#     p3 = permutation_test( A.loc[A['year'] == 17 , c] , \n",
    "#                                 A.loc[A['year'] == 20, c] , \n",
    "#                                method='approximate',\n",
    "#                                num_rounds=10000,\n",
    "#                                seed=0)\n",
    "#     print(f\"16vs17 = {p1}, 16vs20 = {p2}, 17vs20 = {p3} on {c}\")"
   ]
  },
  {
   "cell_type": "code",
   "execution_count": 112,
   "id": "bc157312",
   "metadata": {},
   "outputs": [],
   "source": [
    "# p_value = permutation_test( A.loc[(A['year']==16) & (A['festival'] == 'during'), 'Bioindicator'] , \n",
    "#                             A.loc[(A['year']==17) & (A['festival'] == 'during'), 'Bioindicator'], \n",
    "#                            method='approximate',\n",
    "#                            num_rounds=10000,\n",
    "#                            seed=0)\n",
    "# print(p_value)\n",
    "#0.35326467353264673 BUV+"
   ]
  },
  {
   "cell_type": "code",
   "execution_count": 111,
   "id": "3ddac6bc",
   "metadata": {},
   "outputs": [],
   "source": [
    "# p_value = permutation_test( A.loc[(A['year']==16) & (A['festival'] == 'during'), 'Bioindicator'] , \n",
    "#                             A.loc[(A['year']==16) & (A['festival'] != 'during'), 'Bioindicator'], \n",
    "#                            method='approximate',\n",
    "#                            num_rounds=10000,\n",
    "#                            seed=0)\n",
    "# print(p_value)"
   ]
  },
  {
   "cell_type": "code",
   "execution_count": 110,
   "id": "17d012da",
   "metadata": {},
   "outputs": [],
   "source": [
    "# p_value = permutation_test( A.loc[(A['year']==17) & (A['festival'] == 'during'), 'Bioindicator'] , \n",
    "#                             A.loc[(A['year']==17) & (A['festival'] != 'during'), 'Bioindicator'], \n",
    "#                            method='approximate',\n",
    "#                            num_rounds=10000,\n",
    "#                            seed=0)\n",
    "# print(p_value)"
   ]
  },
  {
   "cell_type": "markdown",
   "id": "8548f09a",
   "metadata": {},
   "source": [
    "## Permutation test figure 4B"
   ]
  },
  {
   "cell_type": "code",
   "execution_count": 54,
   "id": "20c15da4",
   "metadata": {},
   "outputs": [],
   "source": [
    "def print_full(x):\n",
    "    pd.set_option('display.max_rows', len(x))\n",
    "    print(x)\n",
    "    pd.reset_option('display.max_rows')"
   ]
  },
  {
   "cell_type": "code",
   "execution_count": 68,
   "id": "5b4fe9d7",
   "metadata": {},
   "outputs": [
    {
     "name": "stdout",
     "output_type": "stream",
     "text": [
      "0.00019998000199980003\n"
     ]
    }
   ],
   "source": [
    "p_value = permutation_test( A.loc[((A['year']==16) | (A['year']==17)) & (A['festival'] == 'before'), 'Bioindicator'] , \n",
    "                            A.loc[((A['year']==16) | (A['year']==17)) & (A['festival'] == 'during'), 'Bioindicator'], \n",
    "                           method='approximate',\n",
    "                           num_rounds=10000,\n",
    "                           seed=0)\n",
    "print(p_value)"
   ]
  },
  {
   "cell_type": "code",
   "execution_count": 69,
   "id": "07059d04",
   "metadata": {},
   "outputs": [
    {
     "name": "stdout",
     "output_type": "stream",
     "text": [
      "0.035996400359964\n"
     ]
    }
   ],
   "source": [
    "p_value = permutation_test( A.loc[((A['year']==16) | (A['year']==17)) & (A['festival'] == 'during'), 'Bioindicator'] , \n",
    "                            A.loc[((A['year']==16) | (A['year']==17)) & (A['festival'] == 'after'), 'Bioindicator'], \n",
    "                           method='approximate',\n",
    "                           num_rounds=10000,\n",
    "                           seed=0)\n",
    "print(p_value)"
   ]
  },
  {
   "cell_type": "code",
   "execution_count": 70,
   "id": "44fb43e5",
   "metadata": {},
   "outputs": [
    {
     "name": "stdout",
     "output_type": "stream",
     "text": [
      "0.10208979102089791\n"
     ]
    }
   ],
   "source": [
    "p_value = permutation_test( A.loc[((A['year']==16) | (A['year']==17)) & (A['festival'] == 'before'), 'Bioindicator'] , \n",
    "                            A.loc[((A['year']==16) | (A['year']==17)) & (A['festival'] == 'after'), 'Bioindicator'], \n",
    "                           method='approximate',\n",
    "                           num_rounds=10000,\n",
    "                           seed=0)\n",
    "print(p_value)"
   ]
  },
  {
   "cell_type": "code",
   "execution_count": 76,
   "id": "d1bc3291",
   "metadata": {},
   "outputs": [
    {
     "name": "stderr",
     "output_type": "stream",
     "text": [
      "/Users/kato/anaconda3/lib/python3.7/site-packages/numpy/core/fromnumeric.py:3373: RuntimeWarning: Mean of empty slice.\n",
      "  out=out, **kwargs)\n",
      "/Users/kato/anaconda3/lib/python3.7/site-packages/numpy/core/_methods.py:170: RuntimeWarning: invalid value encountered in double_scalars\n",
      "  ret = ret.dtype.type(ret / rcount)\n"
     ]
    },
    {
     "name": "stdout",
     "output_type": "stream",
     "text": [
      "0.00010\n"
     ]
    }
   ],
   "source": [
    "p_value = permutation_test( A.loc[((A['year']==16) | (A['year']==17)) & (A['festival'] == 'before'), 'Bioindicator'] , \n",
    "                            A.loc[(A['year']==20) & (A['festival'] == 'No festival'), 'Bioindicator'], \n",
    "                           method='approximate',\n",
    "                           num_rounds=10000,\n",
    "                           seed=0)\n",
    "print(format(p_value, \".5f\"))"
   ]
  },
  {
   "cell_type": "code",
   "execution_count": 77,
   "id": "87057960",
   "metadata": {},
   "outputs": [
    {
     "name": "stderr",
     "output_type": "stream",
     "text": [
      "/Users/kato/anaconda3/lib/python3.7/site-packages/numpy/core/fromnumeric.py:3373: RuntimeWarning: Mean of empty slice.\n",
      "  out=out, **kwargs)\n",
      "/Users/kato/anaconda3/lib/python3.7/site-packages/numpy/core/_methods.py:170: RuntimeWarning: invalid value encountered in double_scalars\n",
      "  ret = ret.dtype.type(ret / rcount)\n"
     ]
    },
    {
     "name": "stdout",
     "output_type": "stream",
     "text": [
      "0.0001\n"
     ]
    }
   ],
   "source": [
    "p_value = permutation_test( A.loc[((A['year']==16) | (A['year']==17)) & (A['festival'] == 'during'), 'Bioindicator'] , \n",
    "                            A.loc[((A['year']==20) & (A['festival'] == 'No festival')), 'Bioindicator'], \n",
    "                           method='approximate',\n",
    "                           num_rounds=10000,\n",
    "                           seed=0)\n",
    "print(format(p_value, \".4f\"))"
   ]
  },
  {
   "cell_type": "code",
   "execution_count": 78,
   "id": "281f0eea",
   "metadata": {},
   "outputs": [
    {
     "name": "stdout",
     "output_type": "stream",
     "text": [
      "0.0001\n"
     ]
    },
    {
     "name": "stderr",
     "output_type": "stream",
     "text": [
      "/Users/kato/anaconda3/lib/python3.7/site-packages/numpy/core/fromnumeric.py:3373: RuntimeWarning: Mean of empty slice.\n",
      "  out=out, **kwargs)\n",
      "/Users/kato/anaconda3/lib/python3.7/site-packages/numpy/core/_methods.py:170: RuntimeWarning: invalid value encountered in double_scalars\n",
      "  ret = ret.dtype.type(ret / rcount)\n"
     ]
    }
   ],
   "source": [
    "p_value = permutation_test( A.loc[((A['year']==16) | (A['year']==17)) & (A['festival'] == 'after'), 'Bioindicator'] , \n",
    "                            A.loc[((A['year']==20) & (A['festival'] == 'No festival')), 'Bioindicator'], \n",
    "                           method='approximate',\n",
    "                           num_rounds=10000,\n",
    "                           seed=0)\n",
    "print(format(p_value, \".4f\"))"
   ]
  },
  {
   "cell_type": "markdown",
   "id": "330e45e7",
   "metadata": {},
   "source": [
    "## Old Correlations (See below)"
   ]
  },
  {
   "cell_type": "code",
   "execution_count": 109,
   "id": "ad764a42",
   "metadata": {},
   "outputs": [],
   "source": [
    "# main_vars=['Bioindicator', 'Coliform', 'Bioindicator UV+',  'total' ,'rain', 'rooms']\n",
    "# A[main_vars].corr(method ='spearman')"
   ]
  },
  {
   "cell_type": "code",
   "execution_count": 107,
   "id": "e8de9147",
   "metadata": {},
   "outputs": [],
   "source": [
    "# def append_vars(ds, cols):\n",
    "#     v=ds[cols]\n",
    "#     X=ds.drop(columns=cols)\n",
    "#     return pd.concat([X.assign(cfu=ds[col], name=ds['year'].apply(lambda y: f\"{col} {y}\")) for col in cols]).dropna()"
   ]
  },
  {
   "cell_type": "code",
   "execution_count": 106,
   "id": "1476fcc6",
   "metadata": {},
   "outputs": [],
   "source": [
    "# A2=append_vars(A, ['Bioindicator', 'Bioindicator UV+', 'Coliform', 'total'])"
   ]
  },
  {
   "cell_type": "code",
   "execution_count": 105,
   "id": "e0799a8c",
   "metadata": {},
   "outputs": [],
   "source": [
    "# A.query('year==16')[main_vars].corr(method ='spearman')"
   ]
  },
  {
   "cell_type": "code",
   "execution_count": 104,
   "id": "309ecaa7",
   "metadata": {},
   "outputs": [],
   "source": [
    "# A.query('year==17')[main_vars].corr(method ='spearman')"
   ]
  },
  {
   "cell_type": "code",
   "execution_count": 103,
   "id": "1d6a1ad2",
   "metadata": {},
   "outputs": [],
   "source": [
    "# A.query('year==20')[main_vars].corr(method ='spearman')"
   ]
  },
  {
   "cell_type": "code",
   "execution_count": 100,
   "id": "7bf49000",
   "metadata": {},
   "outputs": [],
   "source": [
    "# A[main_vars].corr(method ='spearman') "
   ]
  },
  {
   "cell_type": "code",
   "execution_count": 99,
   "id": "9e6022e3",
   "metadata": {},
   "outputs": [],
   "source": [
    "# A2[['cfu', 'rooms', 'rain']].corr(method ='spearman')"
   ]
  },
  {
   "cell_type": "code",
   "execution_count": 98,
   "id": "56a8b706",
   "metadata": {},
   "outputs": [],
   "source": [
    "# def bootstrap_ci(df, variable, classes, repetitions = 1000, alpha = 0.05, random_state=None): \n",
    "    \n",
    "#     df = df[[variable, classes]]\n",
    "#     bootstrap_sample_size = len(df) \n",
    "    \n",
    "#     mean_diffs = []\n",
    "#     for i in range(repetitions):\n",
    "#             bootstrap_sample = df.sample(n = bootstrap_sample_size, replace = True, random_state = random_state)\n",
    "#             mean_diff = bootstrap_sample.groupby(classes).mean().iloc[1,0] - bootstrap_sample.groupby(classes).mean().iloc[0,0]\n",
    "#             mean_diffs.append(mean_diff)\n",
    "#     # confidence interval\n",
    "#     left = np.percentile(mean_diffs, alpha/2*100)\n",
    "#     right = np.percentile(mean_diffs, 100-alpha/2*100)\n",
    "#     # point estimate\n",
    "#     point_est = df.groupby(classes).mean().iloc[1,0] - df.groupby(classes).mean().iloc[0,0]\n",
    "#     print('Point estimate of difference between means:', round(point_est,2))\n",
    "#     print((1-alpha)*100,'%','confidence interval for the difference between means:', (round(left,2), round(right,2)))\n"
   ]
  },
  {
   "cell_type": "code",
   "execution_count": 97,
   "id": "ed8086e4",
   "metadata": {},
   "outputs": [],
   "source": [
    "# import arch.data.frenchdata\n",
    "# from arch.bootstrap import StationaryBootstrap,IndependentSamplesBootstrap"
   ]
  },
  {
   "cell_type": "code",
   "execution_count": 96,
   "id": "f84e3882",
   "metadata": {},
   "outputs": [],
   "source": [
    "# def foi(X):\n",
    "#     return X.corr(method ='spearman').iloc[0,1] #['cfu']['rain']\n",
    "    \n",
    "# bs = StationaryBootstrap(12, A[['Bioindicator','rain']])\n",
    "# results = bs.apply(foi, 2500)\n",
    "# SR = pd.DataFrame(results[:, -1:], columns=[\"SR\"])\n",
    "# fig = SR.hist(bins=40)\n"
   ]
  },
  {
   "cell_type": "code",
   "execution_count": 95,
   "id": "be7043cb",
   "metadata": {},
   "outputs": [],
   "source": [
    "# A[['Bioindicator','rain']].corr(method='spearman').iloc[0,1]"
   ]
  },
  {
   "cell_type": "code",
   "execution_count": 94,
   "id": "a43d0490",
   "metadata": {},
   "outputs": [],
   "source": [
    "# l = SR.SR\n",
    "\n",
    "# total_size = len(SR.SR)\n",
    "# true = np.sum(l <0.12)\n",
    "\n",
    "# true/total_size"
   ]
  },
  {
   "cell_type": "code",
   "execution_count": 93,
   "id": "5cea2c52",
   "metadata": {},
   "outputs": [],
   "source": [
    "# def foi(X):\n",
    "#     return X[['cfu', 'rooms', 'rain']].corr(method ='spearman')['cfu']['rain']\n",
    "    \n",
    "# bs = StationaryBootstrap(12, A2)\n",
    "# results = bs.apply(foi, 2500)\n",
    "# SR = pd.DataFrame(results[:, -1:], columns=[\"SR\"])\n",
    "# fig = SR.hist(bins=40)"
   ]
  },
  {
   "cell_type": "code",
   "execution_count": 92,
   "id": "6513801d",
   "metadata": {},
   "outputs": [],
   "source": [
    "# ci = bs.conf_int(foi, 1000, method=\"percentile\", reuse=True)\n",
    "# ci"
   ]
  },
  {
   "cell_type": "markdown",
   "id": "f91dabc0",
   "metadata": {},
   "source": [
    "## Bootstrap"
   ]
  },
  {
   "cell_type": "code",
   "execution_count": 91,
   "id": "c354d1f4",
   "metadata": {},
   "outputs": [],
   "source": [
    "# def boot_matrix(z, B):\n",
    "#     \"\"\"Bootstrap sample\n",
    "    \n",
    "#     Returns all bootstrap samples in a matrix\"\"\"\n",
    "    \n",
    "#     n = len(z)  # sample size\n",
    "#     idz = np.random.randint(0, n, size=(B, n))  # indices to pick for all boostrap samples\n",
    "#     return z[idz]\n",
    "\n",
    "# def bootstrap_mean(x, B=10000, alpha=0.05, plot=False):\n",
    "#     \"\"\"Bootstrap standard error and (1-alpha)*100% c.i. for the population mean\n",
    "    \n",
    "#     Returns bootstrapped standard error and different types of confidence intervals\"\"\"\n",
    "   \n",
    "#     # Deterministic things\n",
    "#     n = len(x)  # sample size\n",
    "#     orig = x.mean()  # sample mean\n",
    "#     se_mean = x.std()/np.sqrt(n) # standard error of the mean\n",
    "#     qt = stats.t.ppf(q=1 - alpha/2, df=n - 1) # Student quantile\n",
    "    \n",
    "#     # Generate boostrap distribution of sample mean\n",
    "#     xboot = boot_matrix(x, B=B)\n",
    "#     sampling_distribution = xboot.mean(axis=1)\n",
    "   \n",
    "#    # Standard error and sample quantiles\n",
    "#     se_mean_boot = sampling_distribution.std()\n",
    "#     quantile_boot = np.percentile(sampling_distribution, q=(100*alpha/2, 100*(1-alpha/2)))\n",
    " \n",
    "#     # RESULTS\n",
    "#     print(\"Estimated mean:\", orig)\n",
    "#     print(\"Classic standard error:\", se_mean)\n",
    "#     print(\"Classic student c.i.:\", orig + np.array([-qt, qt])*se_mean)\n",
    "#     print(\"\\nBootstrap results:\")\n",
    "#     print(\"Standard error:\", se_mean_boot)\n",
    "#     print(\"t-type c.i.:\", orig + np.array([-qt, qt])*se_mean_boot)\n",
    "#     print(\"Percentile c.i.:\", quantile_boot)\n",
    "#     print(\"Basic c.i.:\", 2*orig - quantile_boot[::-1])\n",
    "\n",
    "#     if plot:\n",
    "#         plt.hist(sampling_distribution, bins=\"fd\")"
   ]
  },
  {
   "cell_type": "code",
   "execution_count": 90,
   "id": "f5aeb55a",
   "metadata": {},
   "outputs": [],
   "source": [
    "# def mean_diff(x, y):\n",
    "#     return x.mean() - y.mean()\n",
    "\n",
    "# bs = IndependentSamplesBootstrap(A.loc[A['year'] == 16], A.loc[A['year'] == 20])\n",
    "# print(bs.conf_int(mean_diff, method=\"studentized\"))\n"
   ]
  },
  {
   "cell_type": "markdown",
   "id": "7b01b3b1",
   "metadata": {},
   "source": [
    "## Carlos correlations and p-value (Pearson)\n",
    "\n",
    "\n",
    "Taken from a answer here: https://stackoverflow.com/questions/25571882/pandas-columns-correlation-with-statistical-significance"
   ]
  },
  {
   "cell_type": "code",
   "execution_count": 89,
   "id": "bd63c0b7",
   "metadata": {},
   "outputs": [],
   "source": [
    "# from scipy.stats import pearsonr\n",
    "# import numpy as np\n",
    "\n",
    "# def calculate_pvalues(df):\n",
    "#     df = df.dropna()._get_numeric_data()\n",
    "#     dfcols = pd.DataFrame(columns=df.columns)\n",
    "#     pvalues = dfcols.transpose().join(dfcols, how='outer')\n",
    "#     for r in df.columns:\n",
    "#         for c in df.columns:\n",
    "#             pvalues[r][c] = round(pearsonr(df[r], df[c])[1], 4)\n",
    "#     return pvalues\n",
    "\n",
    "\n",
    "# main_vars=['Bioindicator', 'Coliform', 'Bioindicator UV+',  'total' ,'rain', 'rooms']\n",
    "# p_df = A[main_vars]\n",
    "\n",
    "# rho = p_df.corr()\n",
    "# pval = p_df.corr(method=lambda x, y: pearsonr(x, y)[1]) - np.eye(*rho.shape)\n",
    "# p = pval.applymap(lambda x: ''.join(['*' for t in [0.01,0.05,0.1] if x<=t]))\n",
    "# rho.round(2).astype(str) + p"
   ]
  },
  {
   "cell_type": "code",
   "execution_count": 87,
   "id": "48f17892",
   "metadata": {},
   "outputs": [],
   "source": [
    "# p16_df= A.query('year==16')[main_vars]\n",
    "\n",
    "# rho = p16_df.corr()\n",
    "# pval = p16_df.corr(method=lambda x, y: pearsonr(x, y)[1]) - np.eye(*rho.shape)\n",
    "# p = pval.applymap(lambda x: ''.join(['*' for t in [0.01,0.05,0.1] if x<=t]))\n",
    "# rho.round(2).astype(str) + p"
   ]
  },
  {
   "cell_type": "code",
   "execution_count": 86,
   "id": "24a7059d",
   "metadata": {},
   "outputs": [],
   "source": [
    "# p17_df= A.query('year==17')[main_vars]\n",
    "\n",
    "# rho = p17_df.corr()\n",
    "# pval = p17_df.corr(method=lambda x, y: pearsonr(x, y)[1]) - np.eye(*rho.shape)\n",
    "# p = pval.applymap(lambda x: ''.join(['*' for t in [0.01,0.05,0.1] if x<=t]))\n",
    "# rho.round(2).astype(str) + p"
   ]
  },
  {
   "cell_type": "code",
   "execution_count": 85,
   "id": "1c4db863",
   "metadata": {},
   "outputs": [],
   "source": [
    "# p20_df= A.query('year==20')[main_vars]\n",
    "\n",
    "# rho = p20_df.corr()\n",
    "# pval = p20_df.corr(method=lambda x, y: pearsonr(x, y)[1]) - np.eye(*rho.shape)\n",
    "# p = pval.applymap(lambda x: ''.join(['*' for t in [0.01,0.05,0.1] if x<=t]))\n",
    "# rho.round(2).astype(str) + p"
   ]
  },
  {
   "cell_type": "markdown",
   "id": "493a6b42",
   "metadata": {},
   "source": [
    "## Correlation with Spearman Method\n",
    "\n",
    "https://docs.scipy.org/doc/scipy/reference/generated/scipy.stats.spearmanr.html"
   ]
  },
  {
   "cell_type": "code",
   "execution_count": 14,
   "id": "5f879561",
   "metadata": {},
   "outputs": [
    {
     "data": {
      "text/html": [
       "<div>\n",
       "<style scoped>\n",
       "    .dataframe tbody tr th:only-of-type {\n",
       "        vertical-align: middle;\n",
       "    }\n",
       "\n",
       "    .dataframe tbody tr th {\n",
       "        vertical-align: top;\n",
       "    }\n",
       "\n",
       "    .dataframe thead th {\n",
       "        text-align: right;\n",
       "    }\n",
       "</style>\n",
       "<table border=\"1\" class=\"dataframe\">\n",
       "  <thead>\n",
       "    <tr style=\"text-align: right;\">\n",
       "      <th></th>\n",
       "      <th>Bioindicator</th>\n",
       "      <th>Coliform</th>\n",
       "      <th>Bioindicator UV+</th>\n",
       "      <th>total</th>\n",
       "      <th>rain</th>\n",
       "      <th>rooms</th>\n",
       "    </tr>\n",
       "  </thead>\n",
       "  <tbody>\n",
       "    <tr>\n",
       "      <th>Bioindicator</th>\n",
       "      <td>1.0***</td>\n",
       "      <td>0.09***</td>\n",
       "      <td>0.99***</td>\n",
       "      <td>0.16***</td>\n",
       "      <td>-0.03*</td>\n",
       "      <td>0.23***</td>\n",
       "    </tr>\n",
       "    <tr>\n",
       "      <th>Coliform</th>\n",
       "      <td>0.09***</td>\n",
       "      <td>1.0***</td>\n",
       "      <td>0.46***</td>\n",
       "      <td>0.68***</td>\n",
       "      <td>-0.12</td>\n",
       "      <td>0.04***</td>\n",
       "    </tr>\n",
       "    <tr>\n",
       "      <th>Bioindicator UV+</th>\n",
       "      <td>0.99***</td>\n",
       "      <td>0.46***</td>\n",
       "      <td>1.0***</td>\n",
       "      <td>0.42***</td>\n",
       "      <td>-0.3</td>\n",
       "      <td>0.31*</td>\n",
       "    </tr>\n",
       "    <tr>\n",
       "      <th>total</th>\n",
       "      <td>0.16***</td>\n",
       "      <td>0.68***</td>\n",
       "      <td>0.42***</td>\n",
       "      <td>1.0***</td>\n",
       "      <td>-0.01</td>\n",
       "      <td>0.25***</td>\n",
       "    </tr>\n",
       "    <tr>\n",
       "      <th>rain</th>\n",
       "      <td>-0.03*</td>\n",
       "      <td>-0.12</td>\n",
       "      <td>-0.3</td>\n",
       "      <td>-0.01</td>\n",
       "      <td>1.0***</td>\n",
       "      <td>0.25***</td>\n",
       "    </tr>\n",
       "    <tr>\n",
       "      <th>rooms</th>\n",
       "      <td>0.23***</td>\n",
       "      <td>0.04***</td>\n",
       "      <td>0.31*</td>\n",
       "      <td>0.25***</td>\n",
       "      <td>0.25***</td>\n",
       "      <td>1.0***</td>\n",
       "    </tr>\n",
       "  </tbody>\n",
       "</table>\n",
       "</div>"
      ],
      "text/plain": [
       "                 Bioindicator Coliform Bioindicator UV+    total     rain  \\\n",
       "Bioindicator           1.0***  0.09***          0.99***  0.16***   -0.03*   \n",
       "Coliform              0.09***   1.0***          0.46***  0.68***    -0.12   \n",
       "Bioindicator UV+      0.99***  0.46***           1.0***  0.42***     -0.3   \n",
       "total                 0.16***  0.68***          0.42***   1.0***    -0.01   \n",
       "rain                   -0.03*    -0.12             -0.3    -0.01   1.0***   \n",
       "rooms                 0.23***  0.04***            0.31*  0.25***  0.25***   \n",
       "\n",
       "                    rooms  \n",
       "Bioindicator      0.23***  \n",
       "Coliform          0.04***  \n",
       "Bioindicator UV+    0.31*  \n",
       "total             0.25***  \n",
       "rain              0.25***  \n",
       "rooms              1.0***  "
      ]
     },
     "execution_count": 14,
     "metadata": {},
     "output_type": "execute_result"
    }
   ],
   "source": [
    "from scipy.stats import spearmanr\n",
    "import numpy as np\n",
    "\n",
    "\n",
    "def calculate_pvalues(df):\n",
    "    df = df.dropna()._get_numeric_data()\n",
    "    dfcols = pd.DataFrame(columns=df.columns)\n",
    "    pvalues = dfcols.transpose().join(dfcols, how='outer')\n",
    "    for r in df.columns:\n",
    "        for c in df.columns:\n",
    "            pvalues[r][c] = round(pearsonr(df[r], df[c])[1], 4)\n",
    "    return pvalues\n",
    "\n",
    "\n",
    "main_vars=['Bioindicator', 'Coliform', 'Bioindicator UV+',  'total' ,'rain', 'rooms']\n",
    "p_df = A[main_vars]\n",
    "\n",
    "rho = p_df.corr()\n",
    "pval = p_df.corr(method=lambda x, y: spearmanr(x, y)[1]) - np.eye(*rho.shape)\n",
    "p = pval.applymap(lambda x: ''.join(['*' for t in [0.01,0.05,0.1] if x<=t]))\n",
    "rho.round(2).astype(str) + p"
   ]
  },
  {
   "cell_type": "code",
   "execution_count": 26,
   "id": "af8f42f3",
   "metadata": {},
   "outputs": [
    {
     "data": {
      "text/html": [
       "<div>\n",
       "<style scoped>\n",
       "    .dataframe tbody tr th:only-of-type {\n",
       "        vertical-align: middle;\n",
       "    }\n",
       "\n",
       "    .dataframe tbody tr th {\n",
       "        vertical-align: top;\n",
       "    }\n",
       "\n",
       "    .dataframe thead th {\n",
       "        text-align: right;\n",
       "    }\n",
       "</style>\n",
       "<table border=\"1\" class=\"dataframe\">\n",
       "  <thead>\n",
       "    <tr style=\"text-align: right;\">\n",
       "      <th></th>\n",
       "      <th>Bioindicator</th>\n",
       "      <th>Coliform</th>\n",
       "      <th>Bioindicator UV+</th>\n",
       "      <th>total</th>\n",
       "      <th>rain</th>\n",
       "      <th>rooms</th>\n",
       "    </tr>\n",
       "  </thead>\n",
       "  <tbody>\n",
       "    <tr>\n",
       "      <th>Bioindicator</th>\n",
       "      <td>1.0 p-value: 0.00000</td>\n",
       "      <td>0.09 p-value: 0.00001</td>\n",
       "      <td>0.99 p-value: 0.00000</td>\n",
       "      <td>0.16 p-value: 0.00000</td>\n",
       "      <td>-0.03 p-value: 0.06981</td>\n",
       "      <td>0.23 p-value: 0.00002</td>\n",
       "    </tr>\n",
       "    <tr>\n",
       "      <th>Coliform</th>\n",
       "      <td>0.09 p-value: 0.00001</td>\n",
       "      <td>1.0 p-value: 0.00000</td>\n",
       "      <td>0.46 p-value: 0.00004</td>\n",
       "      <td>0.68 p-value: 0.00000</td>\n",
       "      <td>-0.12 p-value: 0.66865</td>\n",
       "      <td>0.04 p-value: 0.00239</td>\n",
       "    </tr>\n",
       "    <tr>\n",
       "      <th>Bioindicator UV+</th>\n",
       "      <td>0.99 p-value: 0.00000</td>\n",
       "      <td>0.46 p-value: 0.00004</td>\n",
       "      <td>1.0 p-value: 0.00000</td>\n",
       "      <td>0.42 p-value: 0.00000</td>\n",
       "      <td>-0.3 p-value: 0.12247</td>\n",
       "      <td>0.31 p-value: 0.05533</td>\n",
       "    </tr>\n",
       "    <tr>\n",
       "      <th>total</th>\n",
       "      <td>0.16 p-value: 0.00000</td>\n",
       "      <td>0.68 p-value: 0.00000</td>\n",
       "      <td>0.42 p-value: 0.00000</td>\n",
       "      <td>1.0 p-value: 0.00000</td>\n",
       "      <td>-0.01 p-value: 0.43823</td>\n",
       "      <td>0.25 p-value: 0.00238</td>\n",
       "    </tr>\n",
       "    <tr>\n",
       "      <th>rain</th>\n",
       "      <td>-0.03 p-value: 0.06981</td>\n",
       "      <td>-0.12 p-value: 0.66865</td>\n",
       "      <td>-0.3 p-value: 0.12247</td>\n",
       "      <td>-0.01 p-value: 0.43823</td>\n",
       "      <td>1.0 p-value: 0.00000</td>\n",
       "      <td>0.25 p-value: 0.00000</td>\n",
       "    </tr>\n",
       "    <tr>\n",
       "      <th>rooms</th>\n",
       "      <td>0.23 p-value: 0.00002</td>\n",
       "      <td>0.04 p-value: 0.00239</td>\n",
       "      <td>0.31 p-value: 0.05533</td>\n",
       "      <td>0.25 p-value: 0.00238</td>\n",
       "      <td>0.25 p-value: 0.00000</td>\n",
       "      <td>1.0 p-value: 0.00000</td>\n",
       "    </tr>\n",
       "  </tbody>\n",
       "</table>\n",
       "</div>"
      ],
      "text/plain": [
       "                            Bioindicator                Coliform  \\\n",
       "Bioindicator        1.0 p-value: 0.00000   0.09 p-value: 0.00001   \n",
       "Coliform           0.09 p-value: 0.00001    1.0 p-value: 0.00000   \n",
       "Bioindicator UV+   0.99 p-value: 0.00000   0.46 p-value: 0.00004   \n",
       "total              0.16 p-value: 0.00000   0.68 p-value: 0.00000   \n",
       "rain              -0.03 p-value: 0.06981  -0.12 p-value: 0.66865   \n",
       "rooms              0.23 p-value: 0.00002   0.04 p-value: 0.00239   \n",
       "\n",
       "                       Bioindicator UV+                   total  \\\n",
       "Bioindicator      0.99 p-value: 0.00000   0.16 p-value: 0.00000   \n",
       "Coliform          0.46 p-value: 0.00004   0.68 p-value: 0.00000   \n",
       "Bioindicator UV+   1.0 p-value: 0.00000   0.42 p-value: 0.00000   \n",
       "total             0.42 p-value: 0.00000    1.0 p-value: 0.00000   \n",
       "rain              -0.3 p-value: 0.12247  -0.01 p-value: 0.43823   \n",
       "rooms             0.31 p-value: 0.05533   0.25 p-value: 0.00238   \n",
       "\n",
       "                                    rain                  rooms  \n",
       "Bioindicator      -0.03 p-value: 0.06981  0.23 p-value: 0.00002  \n",
       "Coliform          -0.12 p-value: 0.66865  0.04 p-value: 0.00239  \n",
       "Bioindicator UV+   -0.3 p-value: 0.12247  0.31 p-value: 0.05533  \n",
       "total             -0.01 p-value: 0.43823  0.25 p-value: 0.00238  \n",
       "rain                1.0 p-value: 0.00000  0.25 p-value: 0.00000  \n",
       "rooms              0.25 p-value: 0.00000   1.0 p-value: 0.00000  "
      ]
     },
     "execution_count": 26,
     "metadata": {},
     "output_type": "execute_result"
    }
   ],
   "source": [
    "main_vars=['Bioindicator', 'Coliform', 'Bioindicator UV+',  'total' ,'rain', 'rooms']\n",
    "p_df = A[main_vars]\n",
    "\n",
    "rho = p_df.corr()\n",
    "pval = p_df.corr(method=lambda x, y: spearmanr(x, y)[1]) - np.eye(*rho.shape)\n",
    "p = pval.applymap(lambda x: ''.join([' p-value: ', str(format(x, \".5f\"))]))\n",
    "rho.round(2).astype(str) + p"
   ]
  },
  {
   "cell_type": "code",
   "execution_count": 79,
   "id": "8d05ebb3",
   "metadata": {},
   "outputs": [],
   "source": [
    "# p16_df= A.query('year==16')[main_vars]\n",
    "\n",
    "# rho = p16_df.corr()\n",
    "# pval = p16_df.corr(method=lambda x, y: spearmanr(x, y)[1]) - np.eye(*rho.shape)\n",
    "# p = pval.applymap(lambda x: ''.join(['*' for t in [0.01,0.05,0.1] if x<=t]))\n",
    "# rho.round(2).astype(str) + p\n",
    "# plt.show()\n",
    "\n",
    "# rho = p16_df.corr()\n",
    "# pval = p16_df.corr(method=lambda x, y: spearmanr(x, y)[1]) - np.eye(*rho.shape)\n",
    "# p = pval.applymap(lambda x: ''.join([' p-value: ', str(format(x, \".5f\"))]))\n",
    "# rho.round(2).astype(str) + p"
   ]
  },
  {
   "cell_type": "code",
   "execution_count": 80,
   "id": "ee3383b4",
   "metadata": {},
   "outputs": [],
   "source": [
    "# p17_df= A.query('year==17')[main_vars]\n",
    "\n",
    "# rho = p17_df.corr()\n",
    "# pval = p17_df.corr(method=lambda x, y: spearmanr(x, y)[1]) - np.eye(*rho.shape)\n",
    "# p = pval.applymap(lambda x: ''.join(['*' for t in [0.01,0.05,0.1] if x<=t]))\n",
    "# rho.round(2).astype(str) + p\n",
    "# plt.show()\n",
    "\n",
    "# rho = p17_df.corr()\n",
    "# pval = p17_df.corr(method=lambda x, y: spearmanr(x, y)[1]) - np.eye(*rho.shape)\n",
    "# p = pval.applymap(lambda x: ''.join([' p-value: ', str(format(x, \".5f\"))]))\n",
    "# rho.round(2).astype(str) + p"
   ]
  },
  {
   "cell_type": "code",
   "execution_count": 81,
   "id": "e0d3537b",
   "metadata": {},
   "outputs": [],
   "source": [
    "# p1617_df= A.query('(year==16) | (year == 17)')[main_vars]\n",
    "\n",
    "# rho = p1617_df.corr()\n",
    "# pval = p1617_df.corr(method=lambda x, y: spearmanr(x, y)[1]) - np.eye(*rho.shape)\n",
    "# p = pval.applymap(lambda x: ''.join([' p-value: ', str(format(x, \".5f\"))]))\n",
    "# rho.round(2).astype(str) + p"
   ]
  },
  {
   "cell_type": "code",
   "execution_count": 82,
   "id": "afd1ff60",
   "metadata": {},
   "outputs": [],
   "source": [
    "# p20_df= A.query('year==20')[main_vars]\n",
    "\n",
    "# rho = p20_df.corr()\n",
    "# pval = p20_df.corr(method=lambda x, y: spearmanr(x, y)[1]) - np.eye(*rho.shape)\n",
    "# p = pval.applymap(lambda x: ''.join(['*' for t in [0.01,0.05,0.1] if x<=t]))\n",
    "# rho.round(2).astype(str) + p"
   ]
  },
  {
   "cell_type": "markdown",
   "id": "91d82a03",
   "metadata": {},
   "source": [
    "## Kendals Tau"
   ]
  },
  {
   "cell_type": "code",
   "execution_count": 83,
   "id": "78414e09",
   "metadata": {},
   "outputs": [],
   "source": [
    "# from scipy.stats import kendalltau\n",
    "# import numpy as np\n",
    "\n",
    "\n",
    "# def calculate_pvalues(df):\n",
    "#     df = df.dropna()._get_numeric_data()\n",
    "#     dfcols = pd.DataFrame(columns=df.columns)\n",
    "#     pvalues = dfcols.transpose().join(dfcols, how='outer')\n",
    "#     for r in df.columns:\n",
    "#         for c in df.columns:\n",
    "#             pvalues[r][c] = round(pearsonr(df[r], df[c])[1], 4)\n",
    "#     return pvalues\n",
    "\n",
    "\n",
    "# main_vars=['Bioindicator', 'Coliform', 'Bioindicator UV+',  'total' ,'rain', 'rooms']\n",
    "# p_df = A[main_vars]\n",
    "\n",
    "# rho = p_df.corr()\n",
    "# pval = p_df.corr(method=lambda x, y: kendalltau(x, y)[1]) - np.eye(*rho.shape)\n",
    "# p = pval.applymap(lambda x: ''.join(['*' for t in [0.01,0.05,0.1] if x<=t]))\n",
    "# rho.round(2).astype(str) + p"
   ]
  },
  {
   "cell_type": "code",
   "execution_count": 84,
   "id": "2604687c",
   "metadata": {},
   "outputs": [],
   "source": [
    "# main_vars=['Bioindicator', 'Coliform', 'Bioindicator UV+',  'total' ,'rain', 'rooms']\n",
    "# p_df = A[main_vars]\n",
    "\n",
    "# rho = p_df.corr()\n",
    "# pval = p_df.corr(method=lambda x, y: kendalltau(x, y)[1]) - np.eye(*rho.shape)\n",
    "# p = pval.applymap(lambda x: ''.join([' p-value: ', str(format(x, \".5f\"))]))\n",
    "# rho.round(2).astype(str) + p"
   ]
  }
 ],
 "metadata": {
  "kernelspec": {
   "display_name": "Python (myenv)",
   "language": "python",
   "name": "myenv"
  },
  "language_info": {
   "codemirror_mode": {
    "name": "ipython",
    "version": 3
   },
   "file_extension": ".py",
   "mimetype": "text/x-python",
   "name": "python",
   "nbconvert_exporter": "python",
   "pygments_lexer": "ipython3",
   "version": "3.7.10"
  }
 },
 "nbformat": 4,
 "nbformat_minor": 5
}
