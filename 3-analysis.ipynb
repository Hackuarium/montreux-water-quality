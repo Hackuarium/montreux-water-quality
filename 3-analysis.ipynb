{
 "cells": [
  {
   "cell_type": "code",
   "execution_count": null,
   "id": "apparent-bahrain",
   "metadata": {},
   "outputs": [],
   "source": [
    "import pandas as pd\n",
    "import numpy as np\n",
    "import matplotlib\n",
    "import matplotlib.pyplot as plt\n",
    "import matplotlib.ticker\n",
    "import os\n",
    "import seaborn as sns\n",
    "from scipy import stats\n",
    "from mlxtend.evaluate import permutation_test"
   ]
  },
  {
   "cell_type": "code",
   "execution_count": null,
   "id": "fundamental-level",
   "metadata": {},
   "outputs": [],
   "source": [
    "A=pd.read_pickle(\"data/allyears-avg_plate.pkl\")\n"
   ]
  },
  {
   "cell_type": "code",
   "execution_count": null,
   "id": "awful-newman",
   "metadata": {},
   "outputs": [],
   "source": [
    "# Permutation test for combined off-festival vs festival period\n",
    "p_value = permutation_test( A.loc[A['festival'] == 'during', 'Bioindicator'] , \n",
    "                            A.loc[A['festival'] != 'during', 'Bioindicator'] , \n",
    "                           method='approximate',\n",
    "                           num_rounds=10000,\n",
    "                           seed=0)\n",
    "print(p_value)"
   ]
  },
  {
   "cell_type": "code",
   "execution_count": null,
   "id": "departmental-vatican",
   "metadata": {},
   "outputs": [],
   "source": [
    "for c in ['Bioindicator','Coliform']:\n",
    "    p1 = permutation_test( A.loc[A['year'] == 16 , c] , \n",
    "                                A.loc[A['year'] == 17, c] , \n",
    "                               method='approximate',\n",
    "                               num_rounds=10000,\n",
    "                               seed=0)\n",
    "    p2 = permutation_test( A.loc[A['year'] == 16 , c] , \n",
    "                                A.loc[A['year'] == 20, c] , \n",
    "                               method='approximate',\n",
    "                               num_rounds=10000,\n",
    "                               seed=0)\n",
    "    p3 = permutation_test( A.loc[A['year'] == 17 , c] , \n",
    "                                A.loc[A['year'] == 20, c] , \n",
    "                               method='approximate',\n",
    "                               num_rounds=10000,\n",
    "                               seed=0)\n",
    "    print(f\"16vs17 = {p1}, 16vs20 = {p2}, 17vs20 = {p3} on {c}\")"
   ]
  },
  {
   "cell_type": "code",
   "execution_count": null,
   "id": "comfortable-salad",
   "metadata": {},
   "outputs": [],
   "source": [
    "p_value = permutation_test( A.loc[(A['year']==16) & (A['festival'] == 'during'), 'Bioindicator'] , \n",
    "                            A.loc[(A['year']==17) & (A['festival'] == 'during'), 'Bioindicator'], \n",
    "                           method='approximate',\n",
    "                           num_rounds=10000,\n",
    "                           seed=0)\n",
    "print(p_value)"
   ]
  },
  {
   "cell_type": "code",
   "execution_count": null,
   "id": "portuguese-productivity",
   "metadata": {},
   "outputs": [],
   "source": [
    "p_value = permutation_test( A.loc[(A['year']==16) & (A['festival'] == 'during'), 'Bioindicator'] , \n",
    "                            A.loc[(A['year']==16) & (A['festival'] != 'during'), 'Bioindicator'], \n",
    "                           method='approximate',\n",
    "                           num_rounds=10000,\n",
    "                           seed=0)\n",
    "print(p_value)"
   ]
  },
  {
   "cell_type": "code",
   "execution_count": null,
   "id": "stretch-shift",
   "metadata": {},
   "outputs": [],
   "source": [
    "p_value = permutation_test( A.loc[(A['year']==17) & (A['festival'] == 'during'), 'Bioindicator'] , \n",
    "                            A.loc[(A['year']==17) & (A['festival'] != 'during'), 'Bioindicator'], \n",
    "                           method='approximate',\n",
    "                           num_rounds=10000,\n",
    "                           seed=0)\n",
    "print(p_value)"
   ]
  },
  {
   "cell_type": "code",
   "execution_count": null,
   "id": "plastic-tenant",
   "metadata": {},
   "outputs": [],
   "source": [
    "main_vars=['Bioindicator', 'Coliform', 'Bioindicator UV+',  'total' ,'rain', 'rooms']\n",
    "A[main_vars].corr(method ='spearman')"
   ]
  },
  {
   "cell_type": "code",
   "execution_count": null,
   "id": "marked-trauma",
   "metadata": {},
   "outputs": [],
   "source": [
    "def append_vars(ds, cols):\n",
    "    v=ds[cols]\n",
    "    X=ds.drop(columns=cols)\n",
    "    return pd.concat([X.assign(cfu=ds[col], name=ds['year'].apply(lambda y: f\"{col} {y}\")) for col in cols]).dropna()"
   ]
  },
  {
   "cell_type": "code",
   "execution_count": null,
   "id": "patent-watts",
   "metadata": {},
   "outputs": [],
   "source": [
    "A2=append_vars(A, ['Bioindicator', 'Bioindicator UV+', 'Coliform', 'total'])"
   ]
  },
  {
   "cell_type": "code",
   "execution_count": null,
   "id": "trying-fifth",
   "metadata": {},
   "outputs": [],
   "source": [
    "A.query('year==16')[main_vars].corr(method ='spearman')"
   ]
  },
  {
   "cell_type": "code",
   "execution_count": null,
   "id": "sticky-sense",
   "metadata": {},
   "outputs": [],
   "source": [
    "A.query('year==17')[main_vars].corr(method ='spearman')"
   ]
  },
  {
   "cell_type": "code",
   "execution_count": null,
   "id": "forty-gross",
   "metadata": {},
   "outputs": [],
   "source": [
    "A.query('year==20')[main_vars].corr(method ='spearman')"
   ]
  },
  {
   "cell_type": "code",
   "execution_count": null,
   "id": "handed-shield",
   "metadata": {},
   "outputs": [],
   "source": [
    "A[main_vars].corr(method ='spearman') "
   ]
  },
  {
   "cell_type": "code",
   "execution_count": null,
   "id": "seasonal-drain",
   "metadata": {},
   "outputs": [],
   "source": [
    "A2[['cfu', 'rooms', 'rain']].corr(method ='spearman')"
   ]
  },
  {
   "cell_type": "code",
   "execution_count": null,
   "id": "popular-princess",
   "metadata": {},
   "outputs": [],
   "source": []
  },
  {
   "cell_type": "code",
   "execution_count": null,
   "id": "protecting-sullivan",
   "metadata": {},
   "outputs": [],
   "source": [
    "def bootstrap_ci(df, variable, classes, repetitions = 1000, alpha = 0.05, random_state=None): \n",
    "    \n",
    "    df = df[[variable, classes]]\n",
    "    bootstrap_sample_size = len(df) \n",
    "    \n",
    "    mean_diffs = []\n",
    "    for i in range(repetitions):\n",
    "            bootstrap_sample = df.sample(n = bootstrap_sample_size, replace = True, random_state = random_state)\n",
    "            mean_diff = bootstrap_sample.groupby(classes).mean().iloc[1,0] - bootstrap_sample.groupby(classes).mean().iloc[0,0]\n",
    "            mean_diffs.append(mean_diff)\n",
    "    # confidence interval\n",
    "    left = np.percentile(mean_diffs, alpha/2*100)\n",
    "    right = np.percentile(mean_diffs, 100-alpha/2*100)\n",
    "    # point estimate\n",
    "    point_est = df.groupby(classes).mean().iloc[1,0] - df.groupby(classes).mean().iloc[0,0]\n",
    "    print('Point estimate of difference between means:', round(point_est,2))\n",
    "    print((1-alpha)*100,'%','confidence interval for the difference between means:', (round(left,2), round(right,2)))\n"
   ]
  },
  {
   "cell_type": "code",
   "execution_count": null,
   "id": "canadian-influence",
   "metadata": {},
   "outputs": [],
   "source": [
    "import arch.data.frenchdata\n",
    "from arch.bootstrap import StationaryBootstrap,IndependentSamplesBootstrap\n"
   ]
  },
  {
   "cell_type": "code",
   "execution_count": null,
   "id": "employed-tucson",
   "metadata": {},
   "outputs": [],
   "source": [
    "def foi(X):\n",
    "    return X[['cfu', 'rooms', 'rain']].corr(method ='spearman')['cfu']['rain']\n",
    "    \n",
    "bs = StationaryBootstrap(12, A2)\n",
    "results = bs.apply(foi, 2500)\n",
    "SR = pd.DataFrame(results[:, -1:], columns=[\"SR\"])\n",
    "fig = SR.hist(bins=40)\n"
   ]
  },
  {
   "cell_type": "code",
   "execution_count": null,
   "id": "usual-cache",
   "metadata": {},
   "outputs": [],
   "source": [
    "ci = bs.conf_int(foi, 1000, method=\"percentile\", reuse=True)\n",
    "ci\n"
   ]
  },
  {
   "cell_type": "code",
   "execution_count": null,
   "id": "outside-miniature",
   "metadata": {},
   "outputs": [],
   "source": []
  },
  {
   "cell_type": "code",
   "execution_count": null,
   "id": "interpreted-attempt",
   "metadata": {},
   "outputs": [],
   "source": []
  },
  {
   "cell_type": "code",
   "execution_count": null,
   "id": "according-collins",
   "metadata": {},
   "outputs": [],
   "source": [
    "def mean_diff(x, y):\n",
    "    return x.mean() - y.mean()\n",
    "\n",
    "bs = IndependentSamplesBootstrap(A.loc[A['year'] == 16], A.loc[A['year'] == 20])\n",
    "print(bs.conf_int(mean_diff, method=\"studentized\"))\n"
   ]
  },
  {
   "cell_type": "code",
   "execution_count": null,
   "id": "helpful-terrorist",
   "metadata": {},
   "outputs": [],
   "source": []
  }
 ],
 "metadata": {
  "kernelspec": {
   "display_name": "Python 3",
   "language": "python",
   "name": "python3"
  },
  "language_info": {
   "codemirror_mode": {
    "name": "ipython",
    "version": 3
   },
   "file_extension": ".py",
   "mimetype": "text/x-python",
   "name": "python",
   "nbconvert_exporter": "python",
   "pygments_lexer": "ipython3",
   "version": "3.9.3"
  }
 },
 "nbformat": 4,
 "nbformat_minor": 5
}
