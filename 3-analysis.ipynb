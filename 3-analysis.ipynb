{
 "cells": [
  {
   "cell_type": "code",
   "execution_count": null,
   "id": "twenty-financing",
   "metadata": {},
   "outputs": [],
   "source": [
    "import pandas as pd\n",
    "import numpy as np\n",
    "import matplotlib\n",
    "import matplotlib.pyplot as plt\n",
    "import matplotlib.ticker\n",
    "import os\n",
    "import seaborn as sns\n",
    "from scipy import stats\n",
    "from mlxtend.evaluate import permutation_test"
   ]
  },
  {
   "cell_type": "code",
   "execution_count": null,
   "id": "portable-penguin",
   "metadata": {},
   "outputs": [],
   "source": [
    "A=pd.read_pickle(\"data/allyears-avg_plate.pkl\")\n"
   ]
  },
  {
   "cell_type": "code",
   "execution_count": null,
   "id": "tough-mandate",
   "metadata": {},
   "outputs": [],
   "source": [
    "# Permutation test for combined off-festival vs festival period\n",
    "p_value = permutation_test( A.loc[A['festival'] == 'during', 'Bioindicator'] , \n",
    "                            A.loc[A['festival'] != 'during', 'Bioindicator'] , \n",
    "                           method='approximate',\n",
    "                           num_rounds=10000,\n",
    "                           seed=0)\n",
    "print(p_value)"
   ]
  },
  {
   "cell_type": "code",
   "execution_count": null,
   "id": "forced-individual",
   "metadata": {},
   "outputs": [],
   "source": [
    "for c in ['Bioindicator','Coliform']:\n",
    "    p1 = permutation_test( A.loc[A['year'] == 16 , c] , \n",
    "                                A.loc[A['year'] == 17, c] , \n",
    "                               method='approximate',\n",
    "                               num_rounds=10000,\n",
    "                               seed=0)\n",
    "    p2 = permutation_test( A.loc[A['year'] == 16 , c] , \n",
    "                                A.loc[A['year'] == 20, c] , \n",
    "                               method='approximate',\n",
    "                               num_rounds=10000,\n",
    "                               seed=0)\n",
    "    p3 = permutation_test( A.loc[A['year'] == 17 , c] , \n",
    "                                A.loc[A['year'] == 20, c] , \n",
    "                               method='approximate',\n",
    "                               num_rounds=10000,\n",
    "                               seed=0)\n",
    "    print(f\"16vs17 = {p1}, 16vs20 = {p2}, 17vs20 = {p3} on {c}\")"
   ]
  },
  {
   "cell_type": "code",
   "execution_count": null,
   "id": "injured-anatomy",
   "metadata": {},
   "outputs": [],
   "source": [
    "p_value = permutation_test( A.loc[(A['year']==16) & (A['festival'] == 'during'), 'Bioindicator'] , \n",
    "                            A.loc[(A['year']==17) & (A['festival'] == 'during'), 'Bioindicator'], \n",
    "                           method='approximate',\n",
    "                           num_rounds=10000,\n",
    "                           seed=0)\n",
    "print(p_value)"
   ]
  },
  {
   "cell_type": "code",
   "execution_count": null,
   "id": "prescribed-philippines",
   "metadata": {},
   "outputs": [],
   "source": [
    "p_value = permutation_test( A.loc[(A['year']==16) & (A['festival'] == 'during'), 'Bioindicator'] , \n",
    "                            A.loc[(A['year']==16) & (A['festival'] != 'during'), 'Bioindicator'], \n",
    "                           method='approximate',\n",
    "                           num_rounds=10000,\n",
    "                           seed=0)\n",
    "print(p_value)"
   ]
  },
  {
   "cell_type": "code",
   "execution_count": null,
   "id": "elect-hostel",
   "metadata": {},
   "outputs": [],
   "source": [
    "p_value = permutation_test( A.loc[(A['year']==17) & (A['festival'] == 'during'), 'Bioindicator'] , \n",
    "                            A.loc[(A['year']==17) & (A['festival'] != 'during'), 'Bioindicator'], \n",
    "                           method='approximate',\n",
    "                           num_rounds=10000,\n",
    "                           seed=0)\n",
    "print(p_value)"
   ]
  },
  {
   "cell_type": "code",
   "execution_count": null,
   "id": "educational-found",
   "metadata": {},
   "outputs": [],
   "source": [
    "main_vars=['Bioindicator', 'Coliform', 'Bioindicator UV+',  'total' ,'rain', 'rooms']\n",
    "A[main_vars].corr(method ='spearman')"
   ]
  },
  {
   "cell_type": "code",
   "execution_count": null,
   "id": "compressed-world",
   "metadata": {},
   "outputs": [],
   "source": [
    "def append_vars(ds, cols):\n",
    "    v=ds[cols]\n",
    "    X=ds.drop(columns=cols)\n",
    "    return pd.concat([X.assign(cfu=ds[col], name=ds['year'].apply(lambda y: f\"{col} {y}\")) for col in cols]).dropna()"
   ]
  },
  {
   "cell_type": "code",
   "execution_count": null,
   "id": "empirical-ability",
   "metadata": {},
   "outputs": [],
   "source": [
    "A2=append_vars(A, ['Bioindicator', 'Bioindicator UV+', 'Coliform', 'total'])"
   ]
  },
  {
   "cell_type": "code",
   "execution_count": null,
   "id": "delayed-insight",
   "metadata": {},
   "outputs": [],
   "source": [
    "A.query('year==16')[main_vars].corr(method ='spearman')"
   ]
  },
  {
   "cell_type": "code",
   "execution_count": null,
   "id": "elegant-nightlife",
   "metadata": {},
   "outputs": [],
   "source": [
    "A.query('year==17')[main_vars].corr(method ='spearman')"
   ]
  },
  {
   "cell_type": "code",
   "execution_count": null,
   "id": "outstanding-workstation",
   "metadata": {},
   "outputs": [],
   "source": [
    "A.query('year==20')[main_vars].corr(method ='spearman')"
   ]
  },
  {
   "cell_type": "code",
   "execution_count": null,
   "id": "lucky-packet",
   "metadata": {},
   "outputs": [],
   "source": [
    "A[main_vars].corr(method ='spearman') "
   ]
  },
  {
   "cell_type": "code",
   "execution_count": null,
   "id": "metropolitan-juvenile",
   "metadata": {},
   "outputs": [],
   "source": [
    "A2[['cfu', 'rooms', 'rain']].corr(method ='spearman')"
   ]
  },
  {
   "cell_type": "code",
   "execution_count": null,
   "id": "outside-assessment",
   "metadata": {},
   "outputs": [],
   "source": []
  },
  {
   "cell_type": "code",
   "execution_count": null,
   "id": "frequent-pizza",
   "metadata": {},
   "outputs": [],
   "source": []
  }
 ],
 "metadata": {
  "kernelspec": {
   "display_name": "Python 3",
   "language": "python",
   "name": "python3"
  },
  "language_info": {
   "codemirror_mode": {
    "name": "ipython",
    "version": 3
   },
   "file_extension": ".py",
   "mimetype": "text/x-python",
   "name": "python",
   "nbconvert_exporter": "python",
   "pygments_lexer": "ipython3",
   "version": "3.9.2"
  }
 },
 "nbformat": 4,
 "nbformat_minor": 5
}
