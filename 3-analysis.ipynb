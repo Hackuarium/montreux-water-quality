{
 "cells": [
  {
   "cell_type": "code",
   "execution_count": 19,
   "id": "87632a5a",
   "metadata": {},
   "outputs": [
    {
     "name": "stdout",
     "output_type": "stream",
     "text": [
      "Collecting arch\n",
      "  Downloading arch-4.19-cp37-cp37m-macosx_10_9_x86_64.whl (797 kB)\n",
      "Requirement already satisfied: scipy>=1.2.3 in /Users/kato/anaconda3/lib/python3.7/site-packages (from arch) (1.6.2)\n",
      "Requirement already satisfied: cython>=0.29.14 in /Users/kato/anaconda3/lib/python3.7/site-packages (from arch) (0.29.23)\n",
      "Requirement already satisfied: numpy>=1.14 in /Users/kato/anaconda3/lib/python3.7/site-packages (from arch) (1.19.2)\n",
      "Requirement already satisfied: statsmodels>=0.10 in /Users/kato/anaconda3/lib/python3.7/site-packages (from arch) (0.12.2)\n",
      "Requirement already satisfied: pandas>=0.23 in /Users/kato/anaconda3/lib/python3.7/site-packages (from arch) (1.2.4)\n",
      "Collecting property-cached>=1.6.4\n",
      "  Downloading property_cached-1.6.4-py2.py3-none-any.whl (7.8 kB)\n",
      "Requirement already satisfied: python-dateutil>=2.7.3 in /Users/kato/anaconda3/lib/python3.7/site-packages (from pandas>=0.23->arch) (2.8.1)\n",
      "Requirement already satisfied: pytz>=2017.3 in /Users/kato/anaconda3/lib/python3.7/site-packages (from pandas>=0.23->arch) (2021.1)\n",
      "Requirement already satisfied: six>=1.5 in /Users/kato/anaconda3/lib/python3.7/site-packages (from python-dateutil>=2.7.3->pandas>=0.23->arch) (1.15.0)\n",
      "Requirement already satisfied: patsy>=0.5 in /Users/kato/anaconda3/lib/python3.7/site-packages (from statsmodels>=0.10->arch) (0.5.1)\n",
      "Installing collected packages: property-cached, arch\n",
      "Successfully installed arch-4.19 property-cached-1.6.4\n"
     ]
    }
   ],
   "source": [
    "%%bash \n",
    "pip install arch\n",
    "pip install numpy\n",
    "pip install pandas\n",
    "pip install seaborn\n",
    "pip install mlxtend"
   ]
  },
  {
   "cell_type": "code",
   "execution_count": 2,
   "id": "0d92282e",
   "metadata": {},
   "outputs": [],
   "source": [
    "import pandas as pd\n",
    "import numpy as np\n",
    "import matplotlib\n",
    "import matplotlib.pyplot as plt\n",
    "import matplotlib.ticker\n",
    "import os\n",
    "import seaborn as sns\n",
    "from scipy import stats\n",
    "from mlxtend.evaluate import permutation_test"
   ]
  },
  {
   "cell_type": "code",
   "execution_count": 3,
   "id": "50db6a45",
   "metadata": {},
   "outputs": [],
   "source": [
    "A=pd.read_pickle(\"data/allyears-avg_plate.pkl\")\n"
   ]
  },
  {
   "cell_type": "code",
   "execution_count": 4,
   "id": "9adc3479",
   "metadata": {},
   "outputs": [
    {
     "name": "stdout",
     "output_type": "stream",
     "text": [
      "0.0007999200079992001\n"
     ]
    }
   ],
   "source": [
    "# Permutation test for combined off-festival vs festival period\n",
    "p_value = permutation_test( A.loc[A['festival'] == 'during', 'Bioindicator'] , \n",
    "                            A.loc[A['festival'] != 'during', 'Bioindicator'] , \n",
    "                           method='approximate',\n",
    "                           num_rounds=10000,\n",
    "                           seed=0)\n",
    "print(p_value)"
   ]
  },
  {
   "cell_type": "code",
   "execution_count": 5,
   "id": "777c9d6c",
   "metadata": {},
   "outputs": [
    {
     "name": "stdout",
     "output_type": "stream",
     "text": [
      "16vs17 = 0.013998600139986002, 16vs20 = 0.0644935506449355, 17vs20 = 0.29727027297270275 on Bioindicator\n",
      "16vs17 = 0.8538146185381462, 16vs20 = 0.0013998600139986002, 17vs20 = 0.0026997300269973002 on Coliform\n"
     ]
    }
   ],
   "source": [
    "for c in ['Bioindicator','Coliform']:\n",
    "    p1 = permutation_test( A.loc[A['year'] == 16 , c] , \n",
    "                                A.loc[A['year'] == 17, c] , \n",
    "                               method='approximate',\n",
    "                               num_rounds=10000,\n",
    "                               seed=0)\n",
    "    p2 = permutation_test( A.loc[A['year'] == 16 , c] , \n",
    "                                A.loc[A['year'] == 20, c] , \n",
    "                               method='approximate',\n",
    "                               num_rounds=10000,\n",
    "                               seed=0)\n",
    "    p3 = permutation_test( A.loc[A['year'] == 17 , c] , \n",
    "                                A.loc[A['year'] == 20, c] , \n",
    "                               method='approximate',\n",
    "                               num_rounds=10000,\n",
    "                               seed=0)\n",
    "    print(f\"16vs17 = {p1}, 16vs20 = {p2}, 17vs20 = {p3} on {c}\")"
   ]
  },
  {
   "cell_type": "code",
   "execution_count": 6,
   "id": "3cdb3d82",
   "metadata": {},
   "outputs": [
    {
     "name": "stdout",
     "output_type": "stream",
     "text": [
      "0.35326467353264673\n"
     ]
    }
   ],
   "source": [
    "p_value = permutation_test( A.loc[(A['year']==16) & (A['festival'] == 'during'), 'Bioindicator'] , \n",
    "                            A.loc[(A['year']==17) & (A['festival'] == 'during'), 'Bioindicator'], \n",
    "                           method='approximate',\n",
    "                           num_rounds=10000,\n",
    "                           seed=0)\n",
    "print(p_value)"
   ]
  },
  {
   "cell_type": "code",
   "execution_count": 7,
   "id": "46204c24",
   "metadata": {},
   "outputs": [
    {
     "name": "stdout",
     "output_type": "stream",
     "text": [
      "0.0387961203879612\n"
     ]
    }
   ],
   "source": [
    "p_value = permutation_test( A.loc[(A['year']==16) & (A['festival'] == 'during'), 'Bioindicator'] , \n",
    "                            A.loc[(A['year']==16) & (A['festival'] != 'during'), 'Bioindicator'], \n",
    "                           method='approximate',\n",
    "                           num_rounds=10000,\n",
    "                           seed=0)\n",
    "print(p_value)"
   ]
  },
  {
   "cell_type": "code",
   "execution_count": 8,
   "id": "35243d23",
   "metadata": {},
   "outputs": [
    {
     "name": "stdout",
     "output_type": "stream",
     "text": [
      "0.0014998500149985001\n"
     ]
    }
   ],
   "source": [
    "p_value = permutation_test( A.loc[(A['year']==17) & (A['festival'] == 'during'), 'Bioindicator'] , \n",
    "                            A.loc[(A['year']==17) & (A['festival'] != 'during'), 'Bioindicator'], \n",
    "                           method='approximate',\n",
    "                           num_rounds=10000,\n",
    "                           seed=0)\n",
    "print(p_value)"
   ]
  },
  {
   "cell_type": "code",
   "execution_count": 9,
   "id": "071991f6",
   "metadata": {},
   "outputs": [
    {
     "data": {
      "text/html": [
       "<div>\n",
       "<style scoped>\n",
       "    .dataframe tbody tr th:only-of-type {\n",
       "        vertical-align: middle;\n",
       "    }\n",
       "\n",
       "    .dataframe tbody tr th {\n",
       "        vertical-align: top;\n",
       "    }\n",
       "\n",
       "    .dataframe thead th {\n",
       "        text-align: right;\n",
       "    }\n",
       "</style>\n",
       "<table border=\"1\" class=\"dataframe\">\n",
       "  <thead>\n",
       "    <tr style=\"text-align: right;\">\n",
       "      <th></th>\n",
       "      <th>Bioindicator</th>\n",
       "      <th>Coliform</th>\n",
       "      <th>Bioindicator UV+</th>\n",
       "      <th>total</th>\n",
       "      <th>rain</th>\n",
       "      <th>rooms</th>\n",
       "    </tr>\n",
       "  </thead>\n",
       "  <tbody>\n",
       "    <tr>\n",
       "      <th>Bioindicator</th>\n",
       "      <td>1.000000</td>\n",
       "      <td>0.413961</td>\n",
       "      <td>0.798730</td>\n",
       "      <td>0.479667</td>\n",
       "      <td>0.108622</td>\n",
       "      <td>0.321153</td>\n",
       "    </tr>\n",
       "    <tr>\n",
       "      <th>Coliform</th>\n",
       "      <td>0.413961</td>\n",
       "      <td>1.000000</td>\n",
       "      <td>0.332692</td>\n",
       "      <td>0.828321</td>\n",
       "      <td>-0.048135</td>\n",
       "      <td>0.240064</td>\n",
       "    </tr>\n",
       "    <tr>\n",
       "      <th>Bioindicator UV+</th>\n",
       "      <td>0.798730</td>\n",
       "      <td>0.332692</td>\n",
       "      <td>1.000000</td>\n",
       "      <td>0.579050</td>\n",
       "      <td>-0.160397</td>\n",
       "      <td>0.228377</td>\n",
       "    </tr>\n",
       "    <tr>\n",
       "      <th>total</th>\n",
       "      <td>0.479667</td>\n",
       "      <td>0.828321</td>\n",
       "      <td>0.579050</td>\n",
       "      <td>1.000000</td>\n",
       "      <td>-0.074906</td>\n",
       "      <td>0.223255</td>\n",
       "    </tr>\n",
       "    <tr>\n",
       "      <th>rain</th>\n",
       "      <td>0.108622</td>\n",
       "      <td>-0.048135</td>\n",
       "      <td>-0.160397</td>\n",
       "      <td>-0.074906</td>\n",
       "      <td>1.000000</td>\n",
       "      <td>0.399218</td>\n",
       "    </tr>\n",
       "    <tr>\n",
       "      <th>rooms</th>\n",
       "      <td>0.321153</td>\n",
       "      <td>0.240064</td>\n",
       "      <td>0.228377</td>\n",
       "      <td>0.223255</td>\n",
       "      <td>0.399218</td>\n",
       "      <td>1.000000</td>\n",
       "    </tr>\n",
       "  </tbody>\n",
       "</table>\n",
       "</div>"
      ],
      "text/plain": [
       "                  Bioindicator  Coliform  Bioindicator UV+     total  \\\n",
       "Bioindicator          1.000000  0.413961          0.798730  0.479667   \n",
       "Coliform              0.413961  1.000000          0.332692  0.828321   \n",
       "Bioindicator UV+      0.798730  0.332692          1.000000  0.579050   \n",
       "total                 0.479667  0.828321          0.579050  1.000000   \n",
       "rain                  0.108622 -0.048135         -0.160397 -0.074906   \n",
       "rooms                 0.321153  0.240064          0.228377  0.223255   \n",
       "\n",
       "                      rain     rooms  \n",
       "Bioindicator      0.108622  0.321153  \n",
       "Coliform         -0.048135  0.240064  \n",
       "Bioindicator UV+ -0.160397  0.228377  \n",
       "total            -0.074906  0.223255  \n",
       "rain              1.000000  0.399218  \n",
       "rooms             0.399218  1.000000  "
      ]
     },
     "execution_count": 9,
     "metadata": {},
     "output_type": "execute_result"
    }
   ],
   "source": [
    "main_vars=['Bioindicator', 'Coliform', 'Bioindicator UV+',  'total' ,'rain', 'rooms']\n",
    "A[main_vars].corr(method ='spearman')"
   ]
  },
  {
   "cell_type": "code",
   "execution_count": 10,
   "id": "0ac01a68",
   "metadata": {},
   "outputs": [],
   "source": [
    "def append_vars(ds, cols):\n",
    "    v=ds[cols]\n",
    "    X=ds.drop(columns=cols)\n",
    "    return pd.concat([X.assign(cfu=ds[col], name=ds['year'].apply(lambda y: f\"{col} {y}\")) for col in cols]).dropna()"
   ]
  },
  {
   "cell_type": "code",
   "execution_count": 11,
   "id": "42b959ac",
   "metadata": {},
   "outputs": [],
   "source": [
    "A2=append_vars(A, ['Bioindicator', 'Bioindicator UV+', 'Coliform', 'total'])"
   ]
  },
  {
   "cell_type": "code",
   "execution_count": 12,
   "id": "6fcb603e",
   "metadata": {},
   "outputs": [
    {
     "data": {
      "text/html": [
       "<div>\n",
       "<style scoped>\n",
       "    .dataframe tbody tr th:only-of-type {\n",
       "        vertical-align: middle;\n",
       "    }\n",
       "\n",
       "    .dataframe tbody tr th {\n",
       "        vertical-align: top;\n",
       "    }\n",
       "\n",
       "    .dataframe thead th {\n",
       "        text-align: right;\n",
       "    }\n",
       "</style>\n",
       "<table border=\"1\" class=\"dataframe\">\n",
       "  <thead>\n",
       "    <tr style=\"text-align: right;\">\n",
       "      <th></th>\n",
       "      <th>Bioindicator</th>\n",
       "      <th>Coliform</th>\n",
       "      <th>Bioindicator UV+</th>\n",
       "      <th>total</th>\n",
       "      <th>rain</th>\n",
       "      <th>rooms</th>\n",
       "    </tr>\n",
       "  </thead>\n",
       "  <tbody>\n",
       "    <tr>\n",
       "      <th>Bioindicator</th>\n",
       "      <td>1.000000</td>\n",
       "      <td>0.523058</td>\n",
       "      <td>NaN</td>\n",
       "      <td>0.715661</td>\n",
       "      <td>0.258406</td>\n",
       "      <td>0.428517</td>\n",
       "    </tr>\n",
       "    <tr>\n",
       "      <th>Coliform</th>\n",
       "      <td>0.523058</td>\n",
       "      <td>1.000000</td>\n",
       "      <td>NaN</td>\n",
       "      <td>0.525955</td>\n",
       "      <td>0.000000</td>\n",
       "      <td>0.025524</td>\n",
       "    </tr>\n",
       "    <tr>\n",
       "      <th>Bioindicator UV+</th>\n",
       "      <td>NaN</td>\n",
       "      <td>NaN</td>\n",
       "      <td>NaN</td>\n",
       "      <td>NaN</td>\n",
       "      <td>NaN</td>\n",
       "      <td>NaN</td>\n",
       "    </tr>\n",
       "    <tr>\n",
       "      <th>total</th>\n",
       "      <td>0.715661</td>\n",
       "      <td>0.525955</td>\n",
       "      <td>NaN</td>\n",
       "      <td>1.000000</td>\n",
       "      <td>0.067048</td>\n",
       "      <td>0.200959</td>\n",
       "    </tr>\n",
       "    <tr>\n",
       "      <th>rain</th>\n",
       "      <td>0.258406</td>\n",
       "      <td>0.000000</td>\n",
       "      <td>NaN</td>\n",
       "      <td>0.067048</td>\n",
       "      <td>1.000000</td>\n",
       "      <td>0.893917</td>\n",
       "    </tr>\n",
       "    <tr>\n",
       "      <th>rooms</th>\n",
       "      <td>0.428517</td>\n",
       "      <td>0.025524</td>\n",
       "      <td>NaN</td>\n",
       "      <td>0.200959</td>\n",
       "      <td>0.893917</td>\n",
       "      <td>1.000000</td>\n",
       "    </tr>\n",
       "  </tbody>\n",
       "</table>\n",
       "</div>"
      ],
      "text/plain": [
       "                  Bioindicator  Coliform  Bioindicator UV+     total  \\\n",
       "Bioindicator          1.000000  0.523058               NaN  0.715661   \n",
       "Coliform              0.523058  1.000000               NaN  0.525955   \n",
       "Bioindicator UV+           NaN       NaN               NaN       NaN   \n",
       "total                 0.715661  0.525955               NaN  1.000000   \n",
       "rain                  0.258406  0.000000               NaN  0.067048   \n",
       "rooms                 0.428517  0.025524               NaN  0.200959   \n",
       "\n",
       "                      rain     rooms  \n",
       "Bioindicator      0.258406  0.428517  \n",
       "Coliform          0.000000  0.025524  \n",
       "Bioindicator UV+       NaN       NaN  \n",
       "total             0.067048  0.200959  \n",
       "rain              1.000000  0.893917  \n",
       "rooms             0.893917  1.000000  "
      ]
     },
     "execution_count": 12,
     "metadata": {},
     "output_type": "execute_result"
    }
   ],
   "source": [
    "A.query('year==16')[main_vars].corr(method ='spearman')"
   ]
  },
  {
   "cell_type": "code",
   "execution_count": 13,
   "id": "196f2f38",
   "metadata": {},
   "outputs": [
    {
     "data": {
      "text/html": [
       "<div>\n",
       "<style scoped>\n",
       "    .dataframe tbody tr th:only-of-type {\n",
       "        vertical-align: middle;\n",
       "    }\n",
       "\n",
       "    .dataframe tbody tr th {\n",
       "        vertical-align: top;\n",
       "    }\n",
       "\n",
       "    .dataframe thead th {\n",
       "        text-align: right;\n",
       "    }\n",
       "</style>\n",
       "<table border=\"1\" class=\"dataframe\">\n",
       "  <thead>\n",
       "    <tr style=\"text-align: right;\">\n",
       "      <th></th>\n",
       "      <th>Bioindicator</th>\n",
       "      <th>Coliform</th>\n",
       "      <th>Bioindicator UV+</th>\n",
       "      <th>total</th>\n",
       "      <th>rain</th>\n",
       "      <th>rooms</th>\n",
       "    </tr>\n",
       "  </thead>\n",
       "  <tbody>\n",
       "    <tr>\n",
       "      <th>Bioindicator</th>\n",
       "      <td>1.000000</td>\n",
       "      <td>0.524712</td>\n",
       "      <td>0.798730</td>\n",
       "      <td>0.560946</td>\n",
       "      <td>0.044919</td>\n",
       "      <td>0.318992</td>\n",
       "    </tr>\n",
       "    <tr>\n",
       "      <th>Coliform</th>\n",
       "      <td>0.524712</td>\n",
       "      <td>1.000000</td>\n",
       "      <td>0.332692</td>\n",
       "      <td>0.863527</td>\n",
       "      <td>-0.205598</td>\n",
       "      <td>0.645251</td>\n",
       "    </tr>\n",
       "    <tr>\n",
       "      <th>Bioindicator UV+</th>\n",
       "      <td>0.798730</td>\n",
       "      <td>0.332692</td>\n",
       "      <td>1.000000</td>\n",
       "      <td>0.579050</td>\n",
       "      <td>-0.160397</td>\n",
       "      <td>0.228377</td>\n",
       "    </tr>\n",
       "    <tr>\n",
       "      <th>total</th>\n",
       "      <td>0.560946</td>\n",
       "      <td>0.863527</td>\n",
       "      <td>0.579050</td>\n",
       "      <td>1.000000</td>\n",
       "      <td>-0.279654</td>\n",
       "      <td>0.648239</td>\n",
       "    </tr>\n",
       "    <tr>\n",
       "      <th>rain</th>\n",
       "      <td>0.044919</td>\n",
       "      <td>-0.205598</td>\n",
       "      <td>-0.160397</td>\n",
       "      <td>-0.279654</td>\n",
       "      <td>1.000000</td>\n",
       "      <td>-0.013363</td>\n",
       "    </tr>\n",
       "    <tr>\n",
       "      <th>rooms</th>\n",
       "      <td>0.318992</td>\n",
       "      <td>0.645251</td>\n",
       "      <td>0.228377</td>\n",
       "      <td>0.648239</td>\n",
       "      <td>-0.013363</td>\n",
       "      <td>1.000000</td>\n",
       "    </tr>\n",
       "  </tbody>\n",
       "</table>\n",
       "</div>"
      ],
      "text/plain": [
       "                  Bioindicator  Coliform  Bioindicator UV+     total  \\\n",
       "Bioindicator          1.000000  0.524712          0.798730  0.560946   \n",
       "Coliform              0.524712  1.000000          0.332692  0.863527   \n",
       "Bioindicator UV+      0.798730  0.332692          1.000000  0.579050   \n",
       "total                 0.560946  0.863527          0.579050  1.000000   \n",
       "rain                  0.044919 -0.205598         -0.160397 -0.279654   \n",
       "rooms                 0.318992  0.645251          0.228377  0.648239   \n",
       "\n",
       "                      rain     rooms  \n",
       "Bioindicator      0.044919  0.318992  \n",
       "Coliform         -0.205598  0.645251  \n",
       "Bioindicator UV+ -0.160397  0.228377  \n",
       "total            -0.279654  0.648239  \n",
       "rain              1.000000 -0.013363  \n",
       "rooms            -0.013363  1.000000  "
      ]
     },
     "execution_count": 13,
     "metadata": {},
     "output_type": "execute_result"
    }
   ],
   "source": [
    "A.query('year==17')[main_vars].corr(method ='spearman')"
   ]
  },
  {
   "cell_type": "code",
   "execution_count": 14,
   "id": "55a1cfdf",
   "metadata": {},
   "outputs": [
    {
     "data": {
      "text/html": [
       "<div>\n",
       "<style scoped>\n",
       "    .dataframe tbody tr th:only-of-type {\n",
       "        vertical-align: middle;\n",
       "    }\n",
       "\n",
       "    .dataframe tbody tr th {\n",
       "        vertical-align: top;\n",
       "    }\n",
       "\n",
       "    .dataframe thead th {\n",
       "        text-align: right;\n",
       "    }\n",
       "</style>\n",
       "<table border=\"1\" class=\"dataframe\">\n",
       "  <thead>\n",
       "    <tr style=\"text-align: right;\">\n",
       "      <th></th>\n",
       "      <th>Bioindicator</th>\n",
       "      <th>Coliform</th>\n",
       "      <th>Bioindicator UV+</th>\n",
       "      <th>total</th>\n",
       "      <th>rain</th>\n",
       "      <th>rooms</th>\n",
       "    </tr>\n",
       "  </thead>\n",
       "  <tbody>\n",
       "    <tr>\n",
       "      <th>Bioindicator</th>\n",
       "      <td>1.000000</td>\n",
       "      <td>0.282178</td>\n",
       "      <td>NaN</td>\n",
       "      <td>0.313524</td>\n",
       "      <td>0.121148</td>\n",
       "      <td>0.261842</td>\n",
       "    </tr>\n",
       "    <tr>\n",
       "      <th>Coliform</th>\n",
       "      <td>0.282178</td>\n",
       "      <td>1.000000</td>\n",
       "      <td>NaN</td>\n",
       "      <td>0.808145</td>\n",
       "      <td>0.159472</td>\n",
       "      <td>0.508954</td>\n",
       "    </tr>\n",
       "    <tr>\n",
       "      <th>Bioindicator UV+</th>\n",
       "      <td>NaN</td>\n",
       "      <td>NaN</td>\n",
       "      <td>NaN</td>\n",
       "      <td>NaN</td>\n",
       "      <td>NaN</td>\n",
       "      <td>NaN</td>\n",
       "    </tr>\n",
       "    <tr>\n",
       "      <th>total</th>\n",
       "      <td>0.313524</td>\n",
       "      <td>0.808145</td>\n",
       "      <td>NaN</td>\n",
       "      <td>1.000000</td>\n",
       "      <td>0.292094</td>\n",
       "      <td>0.668511</td>\n",
       "    </tr>\n",
       "    <tr>\n",
       "      <th>rain</th>\n",
       "      <td>0.121148</td>\n",
       "      <td>0.159472</td>\n",
       "      <td>NaN</td>\n",
       "      <td>0.292094</td>\n",
       "      <td>1.000000</td>\n",
       "      <td>0.579178</td>\n",
       "    </tr>\n",
       "    <tr>\n",
       "      <th>rooms</th>\n",
       "      <td>0.261842</td>\n",
       "      <td>0.508954</td>\n",
       "      <td>NaN</td>\n",
       "      <td>0.668511</td>\n",
       "      <td>0.579178</td>\n",
       "      <td>1.000000</td>\n",
       "    </tr>\n",
       "  </tbody>\n",
       "</table>\n",
       "</div>"
      ],
      "text/plain": [
       "                  Bioindicator  Coliform  Bioindicator UV+     total  \\\n",
       "Bioindicator          1.000000  0.282178               NaN  0.313524   \n",
       "Coliform              0.282178  1.000000               NaN  0.808145   \n",
       "Bioindicator UV+           NaN       NaN               NaN       NaN   \n",
       "total                 0.313524  0.808145               NaN  1.000000   \n",
       "rain                  0.121148  0.159472               NaN  0.292094   \n",
       "rooms                 0.261842  0.508954               NaN  0.668511   \n",
       "\n",
       "                      rain     rooms  \n",
       "Bioindicator      0.121148  0.261842  \n",
       "Coliform          0.159472  0.508954  \n",
       "Bioindicator UV+       NaN       NaN  \n",
       "total             0.292094  0.668511  \n",
       "rain              1.000000  0.579178  \n",
       "rooms             0.579178  1.000000  "
      ]
     },
     "execution_count": 14,
     "metadata": {},
     "output_type": "execute_result"
    }
   ],
   "source": [
    "A.query('year==20')[main_vars].corr(method ='spearman')"
   ]
  },
  {
   "cell_type": "code",
   "execution_count": 15,
   "id": "ca2a01b0",
   "metadata": {},
   "outputs": [
    {
     "data": {
      "text/html": [
       "<div>\n",
       "<style scoped>\n",
       "    .dataframe tbody tr th:only-of-type {\n",
       "        vertical-align: middle;\n",
       "    }\n",
       "\n",
       "    .dataframe tbody tr th {\n",
       "        vertical-align: top;\n",
       "    }\n",
       "\n",
       "    .dataframe thead th {\n",
       "        text-align: right;\n",
       "    }\n",
       "</style>\n",
       "<table border=\"1\" class=\"dataframe\">\n",
       "  <thead>\n",
       "    <tr style=\"text-align: right;\">\n",
       "      <th></th>\n",
       "      <th>Bioindicator</th>\n",
       "      <th>Coliform</th>\n",
       "      <th>Bioindicator UV+</th>\n",
       "      <th>total</th>\n",
       "      <th>rain</th>\n",
       "      <th>rooms</th>\n",
       "    </tr>\n",
       "  </thead>\n",
       "  <tbody>\n",
       "    <tr>\n",
       "      <th>Bioindicator</th>\n",
       "      <td>1.000000</td>\n",
       "      <td>0.413961</td>\n",
       "      <td>0.798730</td>\n",
       "      <td>0.479667</td>\n",
       "      <td>0.108622</td>\n",
       "      <td>0.321153</td>\n",
       "    </tr>\n",
       "    <tr>\n",
       "      <th>Coliform</th>\n",
       "      <td>0.413961</td>\n",
       "      <td>1.000000</td>\n",
       "      <td>0.332692</td>\n",
       "      <td>0.828321</td>\n",
       "      <td>-0.048135</td>\n",
       "      <td>0.240064</td>\n",
       "    </tr>\n",
       "    <tr>\n",
       "      <th>Bioindicator UV+</th>\n",
       "      <td>0.798730</td>\n",
       "      <td>0.332692</td>\n",
       "      <td>1.000000</td>\n",
       "      <td>0.579050</td>\n",
       "      <td>-0.160397</td>\n",
       "      <td>0.228377</td>\n",
       "    </tr>\n",
       "    <tr>\n",
       "      <th>total</th>\n",
       "      <td>0.479667</td>\n",
       "      <td>0.828321</td>\n",
       "      <td>0.579050</td>\n",
       "      <td>1.000000</td>\n",
       "      <td>-0.074906</td>\n",
       "      <td>0.223255</td>\n",
       "    </tr>\n",
       "    <tr>\n",
       "      <th>rain</th>\n",
       "      <td>0.108622</td>\n",
       "      <td>-0.048135</td>\n",
       "      <td>-0.160397</td>\n",
       "      <td>-0.074906</td>\n",
       "      <td>1.000000</td>\n",
       "      <td>0.399218</td>\n",
       "    </tr>\n",
       "    <tr>\n",
       "      <th>rooms</th>\n",
       "      <td>0.321153</td>\n",
       "      <td>0.240064</td>\n",
       "      <td>0.228377</td>\n",
       "      <td>0.223255</td>\n",
       "      <td>0.399218</td>\n",
       "      <td>1.000000</td>\n",
       "    </tr>\n",
       "  </tbody>\n",
       "</table>\n",
       "</div>"
      ],
      "text/plain": [
       "                  Bioindicator  Coliform  Bioindicator UV+     total  \\\n",
       "Bioindicator          1.000000  0.413961          0.798730  0.479667   \n",
       "Coliform              0.413961  1.000000          0.332692  0.828321   \n",
       "Bioindicator UV+      0.798730  0.332692          1.000000  0.579050   \n",
       "total                 0.479667  0.828321          0.579050  1.000000   \n",
       "rain                  0.108622 -0.048135         -0.160397 -0.074906   \n",
       "rooms                 0.321153  0.240064          0.228377  0.223255   \n",
       "\n",
       "                      rain     rooms  \n",
       "Bioindicator      0.108622  0.321153  \n",
       "Coliform         -0.048135  0.240064  \n",
       "Bioindicator UV+ -0.160397  0.228377  \n",
       "total            -0.074906  0.223255  \n",
       "rain              1.000000  0.399218  \n",
       "rooms             0.399218  1.000000  "
      ]
     },
     "execution_count": 15,
     "metadata": {},
     "output_type": "execute_result"
    }
   ],
   "source": [
    "A[main_vars].corr(method ='spearman') "
   ]
  },
  {
   "cell_type": "code",
   "execution_count": 16,
   "id": "f32282f0",
   "metadata": {},
   "outputs": [
    {
     "data": {
      "text/html": [
       "<div>\n",
       "<style scoped>\n",
       "    .dataframe tbody tr th:only-of-type {\n",
       "        vertical-align: middle;\n",
       "    }\n",
       "\n",
       "    .dataframe tbody tr th {\n",
       "        vertical-align: top;\n",
       "    }\n",
       "\n",
       "    .dataframe thead th {\n",
       "        text-align: right;\n",
       "    }\n",
       "</style>\n",
       "<table border=\"1\" class=\"dataframe\">\n",
       "  <thead>\n",
       "    <tr style=\"text-align: right;\">\n",
       "      <th></th>\n",
       "      <th>cfu</th>\n",
       "      <th>rooms</th>\n",
       "      <th>rain</th>\n",
       "    </tr>\n",
       "  </thead>\n",
       "  <tbody>\n",
       "    <tr>\n",
       "      <th>cfu</th>\n",
       "      <td>1.000000</td>\n",
       "      <td>0.221528</td>\n",
       "      <td>-0.035081</td>\n",
       "    </tr>\n",
       "    <tr>\n",
       "      <th>rooms</th>\n",
       "      <td>0.221528</td>\n",
       "      <td>1.000000</td>\n",
       "      <td>0.345761</td>\n",
       "    </tr>\n",
       "    <tr>\n",
       "      <th>rain</th>\n",
       "      <td>-0.035081</td>\n",
       "      <td>0.345761</td>\n",
       "      <td>1.000000</td>\n",
       "    </tr>\n",
       "  </tbody>\n",
       "</table>\n",
       "</div>"
      ],
      "text/plain": [
       "            cfu     rooms      rain\n",
       "cfu    1.000000  0.221528 -0.035081\n",
       "rooms  0.221528  1.000000  0.345761\n",
       "rain  -0.035081  0.345761  1.000000"
      ]
     },
     "execution_count": 16,
     "metadata": {},
     "output_type": "execute_result"
    }
   ],
   "source": [
    "A2[['cfu', 'rooms', 'rain']].corr(method ='spearman')"
   ]
  },
  {
   "cell_type": "code",
   "execution_count": null,
   "id": "863f7146",
   "metadata": {},
   "outputs": [],
   "source": []
  },
  {
   "cell_type": "code",
   "execution_count": 17,
   "id": "9452e227",
   "metadata": {},
   "outputs": [],
   "source": [
    "def bootstrap_ci(df, variable, classes, repetitions = 1000, alpha = 0.05, random_state=None): \n",
    "    \n",
    "    df = df[[variable, classes]]\n",
    "    bootstrap_sample_size = len(df) \n",
    "    \n",
    "    mean_diffs = []\n",
    "    for i in range(repetitions):\n",
    "            bootstrap_sample = df.sample(n = bootstrap_sample_size, replace = True, random_state = random_state)\n",
    "            mean_diff = bootstrap_sample.groupby(classes).mean().iloc[1,0] - bootstrap_sample.groupby(classes).mean().iloc[0,0]\n",
    "            mean_diffs.append(mean_diff)\n",
    "    # confidence interval\n",
    "    left = np.percentile(mean_diffs, alpha/2*100)\n",
    "    right = np.percentile(mean_diffs, 100-alpha/2*100)\n",
    "    # point estimate\n",
    "    point_est = df.groupby(classes).mean().iloc[1,0] - df.groupby(classes).mean().iloc[0,0]\n",
    "    print('Point estimate of difference between means:', round(point_est,2))\n",
    "    print((1-alpha)*100,'%','confidence interval for the difference between means:', (round(left,2), round(right,2)))\n"
   ]
  },
  {
   "cell_type": "code",
   "execution_count": 20,
   "id": "8e038d1f",
   "metadata": {},
   "outputs": [],
   "source": [
    "import arch.data.frenchdata\n",
    "from arch.bootstrap import StationaryBootstrap,IndependentSamplesBootstrap"
   ]
  },
  {
   "cell_type": "code",
   "execution_count": 21,
   "id": "4c090135",
   "metadata": {},
   "outputs": [
    {
     "data": {
      "image/png": "[encoded data removed]",
      "text/plain": [
       "<Figure size 432x288 with 1 Axes>"
      ]
     },
     "metadata": {
      "needs_background": "light"
     },
     "output_type": "display_data"
    }
   ],
   "source": [
    "def foi(X):\n",
    "    return X[['cfu', 'rooms', 'rain']].corr(method ='spearman')['cfu']['rain']\n",
    "    \n",
    "bs = StationaryBootstrap(12, A2)\n",
    "results = bs.apply(foi, 2500)\n",
    "SR = pd.DataFrame(results[:, -1:], columns=[\"SR\"])\n",
    "fig = SR.hist(bins=40)\n"
   ]
  },
  {
   "cell_type": "code",
   "execution_count": 22,
   "id": "8626f555",
   "metadata": {},
   "outputs": [
    {
     "name": "stderr",
     "output_type": "stream",
     "text": [
      "/Users/kato/anaconda3/lib/python3.7/site-packages/arch/bootstrap/base.py:685: RuntimeWarning: The conditions to reuse the previous bootstrap has not been satisfied. A new bootstrap will be used.\n",
      "  warnings.warn(warn, RuntimeWarning)\n"
     ]
    },
    {
     "data": {
      "text/plain": [
       "array([[-0.20008459],\n",
       "       [ 0.1353287 ]])"
      ]
     },
     "execution_count": 22,
     "metadata": {},
     "output_type": "execute_result"
    }
   ],
   "source": [
    "ci = bs.conf_int(foi, 1000, method=\"percentile\", reuse=True)\n",
    "ci\n"
   ]
  },
  {
   "cell_type": "code",
   "execution_count": null,
   "id": "c5439dd4",
   "metadata": {},
   "outputs": [],
   "source": []
  },
  {
   "cell_type": "code",
   "execution_count": null,
   "id": "b169f30e",
   "metadata": {},
   "outputs": [],
   "source": []
  },
  {
   "cell_type": "code",
   "execution_count": 23,
   "id": "10e19f63",
   "metadata": {},
   "outputs": [
    {
     "ename": "StudentizationError",
     "evalue": "\nThe estimated covariance computed in the studentication is numerically 0.\nThis might occur if your statistic has no variation. It is not possible to\napply the studentized bootstrap if any of the variances the values returned\nby func have not variability when resampled. The estimated covariance\nis:\n\n [[6.09003938e+05 0.00000000e+00 4.05197396e+02 1.44864454e+04\n  3.80442704e+04 2.58022158e+05 4.02730564e+02            nan]\n [0.00000000e+00 0.00000000e+00 0.00000000e+00 0.00000000e+00\n  0.00000000e+00 0.00000000e+00 0.00000000e+00            nan]\n [4.05197396e+02 0.00000000e+00 1.20137112e+00 1.89703409e+01\n  3.85232060e-01 1.19202958e+02 1.74850725e-01            nan]\n [1.44864454e+04 0.00000000e+00 1.89703409e+01 2.85057591e+03\n  2.97990400e+03 1.27440394e+04 2.54599447e+00            nan]\n [3.80442704e+04 0.00000000e+00 3.85232060e-01 2.97990400e+03\n  2.19226485e+04 7.36443613e+04 1.36616522e+01            nan]\n [2.58022158e+05 0.00000000e+00 1.19202958e+02 1.27440394e+04\n  7.36443613e+04 3.70711246e+05 9.70945622e+01            nan]\n [4.02730564e+02 0.00000000e+00 1.74850725e-01 2.54599447e+00\n  1.36616522e+01 9.70945622e+01 3.78825688e-01            nan]\n [           nan            nan            nan            nan\n             nan            nan            nan            nan]]\n",
     "output_type": "error",
     "traceback": [
      "\u001b[0;31m---------------------------------------------------------------------------\u001b[0m",
      "\u001b[0;31mStudentizationError\u001b[0m                       Traceback (most recent call last)",
      "\u001b[0;32m<ipython-input-23-adc3cdb23f1e>\u001b[0m in \u001b[0;36m<module>\u001b[0;34m\u001b[0m\n\u001b[1;32m      3\u001b[0m \u001b[0;34m\u001b[0m\u001b[0m\n\u001b[1;32m      4\u001b[0m \u001b[0mbs\u001b[0m \u001b[0;34m=\u001b[0m \u001b[0mIndependentSamplesBootstrap\u001b[0m\u001b[0;34m(\u001b[0m\u001b[0mA\u001b[0m\u001b[0;34m.\u001b[0m\u001b[0mloc\u001b[0m\u001b[0;34m[\u001b[0m\u001b[0mA\u001b[0m\u001b[0;34m[\u001b[0m\u001b[0;34m'year'\u001b[0m\u001b[0;34m]\u001b[0m \u001b[0;34m==\u001b[0m \u001b[0;36m16\u001b[0m\u001b[0;34m]\u001b[0m\u001b[0;34m,\u001b[0m \u001b[0mA\u001b[0m\u001b[0;34m.\u001b[0m\u001b[0mloc\u001b[0m\u001b[0;34m[\u001b[0m\u001b[0mA\u001b[0m\u001b[0;34m[\u001b[0m\u001b[0;34m'year'\u001b[0m\u001b[0;34m]\u001b[0m \u001b[0;34m==\u001b[0m \u001b[0;36m20\u001b[0m\u001b[0;34m]\u001b[0m\u001b[0;34m)\u001b[0m\u001b[0;34m\u001b[0m\u001b[0;34m\u001b[0m\u001b[0m\n\u001b[0;32m----> 5\u001b[0;31m \u001b[0mprint\u001b[0m\u001b[0;34m(\u001b[0m\u001b[0mbs\u001b[0m\u001b[0;34m.\u001b[0m\u001b[0mconf_int\u001b[0m\u001b[0;34m(\u001b[0m\u001b[0mmean_diff\u001b[0m\u001b[0;34m,\u001b[0m \u001b[0mmethod\u001b[0m\u001b[0;34m=\u001b[0m\u001b[0;34m\"studentized\"\u001b[0m\u001b[0;34m)\u001b[0m\u001b[0;34m)\u001b[0m\u001b[0;34m\u001b[0m\u001b[0;34m\u001b[0m\u001b[0m\n\u001b[0m",
      "\u001b[0;32m~/anaconda3/lib/python3.7/site-packages/arch/bootstrap/base.py\u001b[0m in \u001b[0;36mconf_int\u001b[0;34m(self, func, reps, method, size, tail, extra_kwargs, reuse, sampling, std_err_func, studentize_reps)\u001b[0m\n\u001b[1;32m    690\u001b[0m                 \u001b[0mstd_err_func\u001b[0m\u001b[0;34m=\u001b[0m\u001b[0mstd_err_func\u001b[0m\u001b[0;34m,\u001b[0m\u001b[0;34m\u001b[0m\u001b[0;34m\u001b[0m\u001b[0m\n\u001b[1;32m    691\u001b[0m                 \u001b[0mstudentize_reps\u001b[0m\u001b[0;34m=\u001b[0m\u001b[0mstudentize_reps\u001b[0m\u001b[0;34m,\u001b[0m  \u001b[0;31m# noqa\u001b[0m\u001b[0;34m\u001b[0m\u001b[0;34m\u001b[0m\u001b[0m\n\u001b[0;32m--> 692\u001b[0;31m                 \u001b[0msampling\u001b[0m\u001b[0;34m=\u001b[0m\u001b[0msampling\u001b[0m\u001b[0;34m,\u001b[0m\u001b[0;34m\u001b[0m\u001b[0;34m\u001b[0m\u001b[0m\n\u001b[0m\u001b[1;32m    693\u001b[0m             )\n\u001b[1;32m    694\u001b[0m \u001b[0;34m\u001b[0m\u001b[0m\n",
      "\u001b[0;32m~/anaconda3/lib/python3.7/site-packages/arch/bootstrap/base.py\u001b[0m in \u001b[0;36m_construct_bootstrap_estimates\u001b[0;34m(self, func, reps, extra_kwargs, std_err_func, studentize_reps, sampling)\u001b[0m\n\u001b[1;32m    943\u001b[0m                 \u001b[0merr\u001b[0m \u001b[0;34m=\u001b[0m \u001b[0mresults\u001b[0m\u001b[0;34m[\u001b[0m\u001b[0mcount\u001b[0m\u001b[0;34m]\u001b[0m \u001b[0;34m-\u001b[0m \u001b[0mbase\u001b[0m\u001b[0;34m\u001b[0m\u001b[0;34m\u001b[0m\u001b[0m\n\u001b[1;32m    944\u001b[0m                 \u001b[0;32mif\u001b[0m \u001b[0mnp\u001b[0m\u001b[0;34m.\u001b[0m\u001b[0many\u001b[0m\u001b[0;34m(\u001b[0m\u001b[0mstd_err\u001b[0m \u001b[0;34m<=\u001b[0m \u001b[0;34m(\u001b[0m\u001b[0meps\u001b[0m \u001b[0;34m*\u001b[0m \u001b[0mnp\u001b[0m\u001b[0;34m.\u001b[0m\u001b[0mabs\u001b[0m\u001b[0;34m(\u001b[0m\u001b[0merr\u001b[0m\u001b[0;34m)\u001b[0m\u001b[0;34m)\u001b[0m\u001b[0;34m)\u001b[0m\u001b[0;34m:\u001b[0m\u001b[0;34m\u001b[0m\u001b[0;34m\u001b[0m\u001b[0m\n\u001b[0;32m--> 945\u001b[0;31m                     \u001b[0;32mraise\u001b[0m \u001b[0mStudentizationError\u001b[0m\u001b[0;34m(\u001b[0m\u001b[0mstudentization_error\u001b[0m\u001b[0;34m.\u001b[0m\u001b[0mformat\u001b[0m\u001b[0;34m(\u001b[0m\u001b[0mcov\u001b[0m\u001b[0;34m=\u001b[0m\u001b[0mcov\u001b[0m\u001b[0;34m)\u001b[0m\u001b[0;34m)\u001b[0m\u001b[0;34m\u001b[0m\u001b[0;34m\u001b[0m\u001b[0m\n\u001b[0m\u001b[1;32m    946\u001b[0m                 \u001b[0mstudentized_results\u001b[0m\u001b[0;34m[\u001b[0m\u001b[0mcount\u001b[0m\u001b[0;34m]\u001b[0m \u001b[0;34m=\u001b[0m \u001b[0merr\u001b[0m \u001b[0;34m/\u001b[0m \u001b[0mstd_err\u001b[0m\u001b[0;34m\u001b[0m\u001b[0;34m\u001b[0m\u001b[0m\n\u001b[1;32m    947\u001b[0m             \u001b[0mcount\u001b[0m \u001b[0;34m+=\u001b[0m \u001b[0;36m1\u001b[0m\u001b[0;34m\u001b[0m\u001b[0;34m\u001b[0m\u001b[0m\n",
      "\u001b[0;31mStudentizationError\u001b[0m: \nThe estimated covariance computed in the studentication is numerically 0.\nThis might occur if your statistic has no variation. It is not possible to\napply the studentized bootstrap if any of the variances the values returned\nby func have not variability when resampled. The estimated covariance\nis:\n\n [[6.09003938e+05 0.00000000e+00 4.05197396e+02 1.44864454e+04\n  3.80442704e+04 2.58022158e+05 4.02730564e+02            nan]\n [0.00000000e+00 0.00000000e+00 0.00000000e+00 0.00000000e+00\n  0.00000000e+00 0.00000000e+00 0.00000000e+00            nan]\n [4.05197396e+02 0.00000000e+00 1.20137112e+00 1.89703409e+01\n  3.85232060e-01 1.19202958e+02 1.74850725e-01            nan]\n [1.44864454e+04 0.00000000e+00 1.89703409e+01 2.85057591e+03\n  2.97990400e+03 1.27440394e+04 2.54599447e+00            nan]\n [3.80442704e+04 0.00000000e+00 3.85232060e-01 2.97990400e+03\n  2.19226485e+04 7.36443613e+04 1.36616522e+01            nan]\n [2.58022158e+05 0.00000000e+00 1.19202958e+02 1.27440394e+04\n  7.36443613e+04 3.70711246e+05 9.70945622e+01            nan]\n [4.02730564e+02 0.00000000e+00 1.74850725e-01 2.54599447e+00\n  1.36616522e+01 9.70945622e+01 3.78825688e-01            nan]\n [           nan            nan            nan            nan\n             nan            nan            nan            nan]]\n"
     ]
    }
   ],
   "source": [
    "def mean_diff(x, y):\n",
    "    return x.mean() - y.mean()\n",
    "\n",
    "bs = IndependentSamplesBootstrap(A.loc[A['year'] == 16], A.loc[A['year'] == 20])\n",
    "print(bs.conf_int(mean_diff, method=\"studentized\"))\n"
   ]
  },
  {
   "cell_type": "code",
   "execution_count": null,
   "id": "346ea7e2",
   "metadata": {},
   "outputs": [],
   "source": []
  }
 ],
 "metadata": {
  "kernelspec": {
   "display_name": "Python (myenv)",
   "language": "python",
   "name": "myenv"
  },
  "language_info": {
   "codemirror_mode": {
    "name": "ipython",
    "version": 3
   },
   "file_extension": ".py",
   "mimetype": "text/x-python",
   "name": "python",
   "nbconvert_exporter": "python",
   "pygments_lexer": "ipython3",
   "version": "3.7.10"
  }
 },
 "nbformat": 4,
 "nbformat_minor": 5
}
