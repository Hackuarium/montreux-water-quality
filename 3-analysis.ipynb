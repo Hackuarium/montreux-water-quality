{
 "cells": [
  {
   "cell_type": "code",
   "execution_count": 2,
   "id": "089ebb01",
   "metadata": {},
   "outputs": [
    {
     "name": "stdout",
     "output_type": "stream",
     "text": [
      "Requirement already satisfied: arch in /srv/conda/envs/notebook/lib/python3.7/site-packages (4.19)\n",
      "Requirement already satisfied: statsmodels>=0.10 in /srv/conda/envs/notebook/lib/python3.7/site-packages (from arch) (0.12.2)\n",
      "Requirement already satisfied: numpy>=1.14 in /srv/conda/envs/notebook/lib/python3.7/site-packages (from arch) (1.20.2)\n",
      "Requirement already satisfied: pandas>=0.23 in /srv/conda/envs/notebook/lib/python3.7/site-packages (from arch) (1.2.4)\n",
      "Requirement already satisfied: cython>=0.29.14 in /srv/conda/envs/notebook/lib/python3.7/site-packages (from arch) (0.29.23)\n",
      "Requirement already satisfied: property-cached>=1.6.4 in /srv/conda/envs/notebook/lib/python3.7/site-packages (from arch) (1.6.4)\n",
      "Requirement already satisfied: scipy>=1.2.3 in /srv/conda/envs/notebook/lib/python3.7/site-packages (from arch) (1.6.2)\n",
      "Requirement already satisfied: python-dateutil>=2.7.3 in /srv/conda/envs/notebook/lib/python3.7/site-packages (from pandas>=0.23->arch) (2.8.1)\n",
      "Requirement already satisfied: pytz>=2017.3 in /srv/conda/envs/notebook/lib/python3.7/site-packages (from pandas>=0.23->arch) (2021.1)\n",
      "Requirement already satisfied: six>=1.5 in /srv/conda/envs/notebook/lib/python3.7/site-packages (from python-dateutil>=2.7.3->pandas>=0.23->arch) (1.15.0)\n",
      "Requirement already satisfied: patsy>=0.5 in /srv/conda/envs/notebook/lib/python3.7/site-packages (from statsmodels>=0.10->arch) (0.5.1)\n",
      "Requirement already satisfied: numpy in /srv/conda/envs/notebook/lib/python3.7/site-packages (1.20.2)\n",
      "Requirement already satisfied: pandas in /srv/conda/envs/notebook/lib/python3.7/site-packages (1.2.4)\n",
      "Requirement already satisfied: python-dateutil>=2.7.3 in /srv/conda/envs/notebook/lib/python3.7/site-packages (from pandas) (2.8.1)\n",
      "Requirement already satisfied: pytz>=2017.3 in /srv/conda/envs/notebook/lib/python3.7/site-packages (from pandas) (2021.1)\n",
      "Requirement already satisfied: numpy>=1.16.5 in /srv/conda/envs/notebook/lib/python3.7/site-packages (from pandas) (1.20.2)\n",
      "Requirement already satisfied: six>=1.5 in /srv/conda/envs/notebook/lib/python3.7/site-packages (from python-dateutil>=2.7.3->pandas) (1.15.0)\n",
      "Requirement already satisfied: seaborn in /srv/conda/envs/notebook/lib/python3.7/site-packages (0.11.1)\n",
      "Requirement already satisfied: matplotlib>=2.2 in /srv/conda/envs/notebook/lib/python3.7/site-packages (from seaborn) (3.4.1)\n",
      "Requirement already satisfied: scipy>=1.0 in /srv/conda/envs/notebook/lib/python3.7/site-packages (from seaborn) (1.6.2)\n",
      "Requirement already satisfied: pandas>=0.23 in /srv/conda/envs/notebook/lib/python3.7/site-packages (from seaborn) (1.2.4)\n",
      "Requirement already satisfied: numpy>=1.15 in /srv/conda/envs/notebook/lib/python3.7/site-packages (from seaborn) (1.20.2)\n",
      "Requirement already satisfied: cycler>=0.10 in /srv/conda/envs/notebook/lib/python3.7/site-packages (from matplotlib>=2.2->seaborn) (0.10.0)\n",
      "Requirement already satisfied: kiwisolver>=1.0.1 in /srv/conda/envs/notebook/lib/python3.7/site-packages (from matplotlib>=2.2->seaborn) (1.3.1)\n",
      "Requirement already satisfied: python-dateutil>=2.7 in /srv/conda/envs/notebook/lib/python3.7/site-packages (from matplotlib>=2.2->seaborn) (2.8.1)\n",
      "Requirement already satisfied: pyparsing>=2.2.1 in /srv/conda/envs/notebook/lib/python3.7/site-packages (from matplotlib>=2.2->seaborn) (2.4.7)\n",
      "Requirement already satisfied: pillow>=6.2.0 in /srv/conda/envs/notebook/lib/python3.7/site-packages (from matplotlib>=2.2->seaborn) (8.2.0)\n",
      "Requirement already satisfied: six in /srv/conda/envs/notebook/lib/python3.7/site-packages (from cycler>=0.10->matplotlib>=2.2->seaborn) (1.15.0)\n",
      "Requirement already satisfied: pytz>=2017.3 in /srv/conda/envs/notebook/lib/python3.7/site-packages (from pandas>=0.23->seaborn) (2021.1)\n",
      "Requirement already satisfied: mlxtend in /srv/conda/envs/notebook/lib/python3.7/site-packages (0.18.0)\n",
      "Requirement already satisfied: scipy>=1.2.1 in /srv/conda/envs/notebook/lib/python3.7/site-packages (from mlxtend) (1.6.2)\n",
      "Requirement already satisfied: numpy>=1.16.2 in /srv/conda/envs/notebook/lib/python3.7/site-packages (from mlxtend) (1.20.2)\n",
      "Requirement already satisfied: matplotlib>=3.0.0 in /srv/conda/envs/notebook/lib/python3.7/site-packages (from mlxtend) (3.4.1)\n",
      "Requirement already satisfied: joblib>=0.13.2 in /srv/conda/envs/notebook/lib/python3.7/site-packages (from mlxtend) (1.0.1)\n",
      "Requirement already satisfied: setuptools in /srv/conda/envs/notebook/lib/python3.7/site-packages (from mlxtend) (49.6.0.post20210108)\n",
      "Requirement already satisfied: scikit-learn>=0.20.3 in /srv/conda/envs/notebook/lib/python3.7/site-packages (from mlxtend) (0.24.1)\n",
      "Requirement already satisfied: pandas>=0.24.2 in /srv/conda/envs/notebook/lib/python3.7/site-packages (from mlxtend) (1.2.4)\n",
      "Requirement already satisfied: python-dateutil>=2.7 in /srv/conda/envs/notebook/lib/python3.7/site-packages (from matplotlib>=3.0.0->mlxtend) (2.8.1)\n",
      "Requirement already satisfied: pyparsing>=2.2.1 in /srv/conda/envs/notebook/lib/python3.7/site-packages (from matplotlib>=3.0.0->mlxtend) (2.4.7)\n",
      "Requirement already satisfied: cycler>=0.10 in /srv/conda/envs/notebook/lib/python3.7/site-packages (from matplotlib>=3.0.0->mlxtend) (0.10.0)\n",
      "Requirement already satisfied: pillow>=6.2.0 in /srv/conda/envs/notebook/lib/python3.7/site-packages (from matplotlib>=3.0.0->mlxtend) (8.2.0)\n",
      "Requirement already satisfied: kiwisolver>=1.0.1 in /srv/conda/envs/notebook/lib/python3.7/site-packages (from matplotlib>=3.0.0->mlxtend) (1.3.1)\n",
      "Requirement already satisfied: six in /srv/conda/envs/notebook/lib/python3.7/site-packages (from cycler>=0.10->matplotlib>=3.0.0->mlxtend) (1.15.0)\n",
      "Requirement already satisfied: pytz>=2017.3 in /srv/conda/envs/notebook/lib/python3.7/site-packages (from pandas>=0.24.2->mlxtend) (2021.1)\n",
      "Requirement already satisfied: threadpoolctl>=2.0.0 in /srv/conda/envs/notebook/lib/python3.7/site-packages (from scikit-learn>=0.20.3->mlxtend) (2.1.0)\n"
     ]
    }
   ],
   "source": [
    "%%bash \n",
    "pip install arch\n",
    "pip install numpy\n",
    "pip install pandas\n",
    "pip install seaborn\n",
    "pip install mlxtend"
   ]
  },
  {
   "cell_type": "code",
   "execution_count": 3,
   "id": "0b731b85",
   "metadata": {},
   "outputs": [],
   "source": [
    "import pandas as pd\n",
    "import numpy as np\n",
    "import matplotlib\n",
    "import matplotlib.pyplot as plt\n",
    "import matplotlib.ticker\n",
    "import os\n",
    "import seaborn as sns\n",
    "from scipy import stats\n",
    "from mlxtend.evaluate import permutation_test"
   ]
  },
  {
   "cell_type": "code",
   "execution_count": 30,
   "id": "ccb87d00",
   "metadata": {},
   "outputs": [],
   "source": [
    "#A=pd.read_pickle(\"data/allyears-avg_plate.pkl\")\n",
    "A=pd.read_pickle(\"data/allyears.pkl\")"
   ]
  },
  {
   "cell_type": "code",
   "execution_count": 31,
   "id": "c4b3386c",
   "metadata": {},
   "outputs": [
    {
     "name": "stdout",
     "output_type": "stream",
     "text": [
      "9.999000099990002e-05\n"
     ]
    }
   ],
   "source": [
    "# Permutation test for combined off-festival vs festival period\n",
    "p_value = permutation_test( A.loc[A['festival'] == 'during', 'Bioindicator'] , \n",
    "                            A.loc[A['festival'] != 'during', 'Bioindicator'] , \n",
    "                           method='approximate',\n",
    "                           num_rounds=10000,\n",
    "                           seed=0)\n",
    "print(p_value)"
   ]
  },
  {
   "cell_type": "code",
   "execution_count": 12,
   "id": "ff888644",
   "metadata": {},
   "outputs": [
    {
     "data": {
      "text/plain": [
       "rooms               5636.720645\n",
       "year                  17.900000\n",
       "rain                   5.025000\n",
       "Bioindicator          58.055556\n",
       "Coliform             289.583333\n",
       "total               1490.138889\n",
       "week                   4.600000\n",
       "Bioindicator UV+       9.722222\n",
       "dtype: float64"
      ]
     },
     "execution_count": 12,
     "metadata": {},
     "output_type": "execute_result"
    }
   ],
   "source": [
    "A.query('festival != \"during\"').mean()"
   ]
  },
  {
   "cell_type": "code",
   "execution_count": 37,
   "id": "f57802b4",
   "metadata": {},
   "outputs": [
    {
     "name": "stdout",
     "output_type": "stream",
     "text": [
      "16vs17 = 9.999000099990002e-05, 16vs20 = 0.007099290070992901, 17vs20 = 9.999000099990002e-05 on Bioindicator\n",
      "16vs17 = 0.7629237076292371, 16vs20 = 9.999000099990002e-05, 17vs20 = 9.999000099990002e-05 on Coliform\n"
     ]
    }
   ],
   "source": [
    "for c in ['Bioindicator','Coliform']:\n",
    "    p1 = permutation_test( A.loc[A['year'] == 16 , c] , \n",
    "                                A.loc[A['year'] == 17, c] , \n",
    "                               method='approximate',\n",
    "                               num_rounds=10000,\n",
    "                               seed=0)\n",
    "    p2 = permutation_test( A.loc[A['year'] == 16 , c] , \n",
    "                                A.loc[A['year'] == 20, c] , \n",
    "                               method='approximate',\n",
    "                               num_rounds=10000,\n",
    "                               seed=0)\n",
    "    p3 = permutation_test( A.loc[A['year'] == 17 , c] , \n",
    "                                A.loc[A['year'] == 20, c] , \n",
    "                               method='approximate',\n",
    "                               num_rounds=10000,\n",
    "                               seed=0)\n",
    "    print(f\"16vs17 = {p1}, 16vs20 = {p2}, 17vs20 = {p3} on {c}\")"
   ]
  },
  {
   "cell_type": "code",
   "execution_count": 40,
   "id": "1c0c338b",
   "metadata": {},
   "outputs": [
    {
     "data": {
      "text/plain": [
       "(124.30555555555556, 108.68055555555556, 644.4444444444445)"
      ]
     },
     "execution_count": 40,
     "metadata": {},
     "output_type": "execute_result"
    }
   ],
   "source": [
    "A.query('year == 16')['Coliform'].mean(), A.query('year == 17')['Coliform'].mean(), A.query('year == 20')['Coliform'].mean()"
   ]
  },
  {
   "cell_type": "code",
   "execution_count": 33,
   "id": "9212bd43",
   "metadata": {},
   "outputs": [
    {
     "data": {
      "text/plain": [
       "18      0.0\n",
       "19      0.0\n",
       "20      0.0\n",
       "21    500.0\n",
       "22      0.0\n",
       "23    250.0\n",
       "24      0.0\n",
       "25      0.0\n",
       "26    250.0\n",
       "27    550.0\n",
       "28    425.0\n",
       "29    300.0\n",
       "30    800.0\n",
       "31    900.0\n",
       "32    825.0\n",
       "33    125.0\n",
       "34     50.0\n",
       "35    175.0\n",
       "Name: Bioindicator, dtype: float64"
      ]
     },
     "execution_count": 33,
     "metadata": {},
     "output_type": "execute_result"
    }
   ],
   "source": [
    "A.loc[(A['year']==16) & (A['festival'] == 'during'), 'Bioindicator']"
   ]
  },
  {
   "cell_type": "code",
   "execution_count": 34,
   "id": "c7cbf1e8",
   "metadata": {},
   "outputs": [
    {
     "data": {
      "text/plain": [
       "27    250.0\n",
       "28    250.0\n",
       "29    275.0\n",
       "30     25.0\n",
       "31    175.0\n",
       "32     75.0\n",
       "33    325.0\n",
       "34    200.0\n",
       "35    275.0\n",
       "36    300.0\n",
       "37    200.0\n",
       "38    200.0\n",
       "39      0.0\n",
       "40      0.0\n",
       "41      0.0\n",
       "42      0.0\n",
       "43      0.0\n",
       "44      0.0\n",
       "Name: Bioindicator, dtype: float64"
      ]
     },
     "execution_count": 34,
     "metadata": {},
     "output_type": "execute_result"
    }
   ],
   "source": [
    "A.loc[(A['year']==17) & (A['festival'] == 'during'), 'Bioindicator']"
   ]
  },
  {
   "cell_type": "code",
   "execution_count": 36,
   "id": "a09f3b18",
   "metadata": {},
   "outputs": [
    {
     "data": {
      "text/plain": [
       "27    250.0\n",
       "28    250.0\n",
       "29    275.0\n",
       "30     25.0\n",
       "31    175.0\n",
       "32     75.0\n",
       "33    325.0\n",
       "34    200.0\n",
       "35    275.0\n",
       "36    300.0\n",
       "37    200.0\n",
       "38    200.0\n",
       "39      0.0\n",
       "40      0.0\n",
       "41      0.0\n",
       "42      0.0\n",
       "43      0.0\n",
       "44      0.0\n",
       "Name: Bioindicator UV+, dtype: float64"
      ]
     },
     "execution_count": 36,
     "metadata": {},
     "output_type": "execute_result"
    }
   ],
   "source": [
    "A.loc[(A['year']==17) & (A['festival'] == 'during'), 'Bioindicator UV+']"
   ]
  },
  {
   "cell_type": "code",
   "execution_count": 21,
   "id": "bec02e2a",
   "metadata": {},
   "outputs": [
    {
     "name": "stdout",
     "output_type": "stream",
     "text": [
      "0.35326467353264673\n"
     ]
    }
   ],
   "source": [
    "p_value = permutation_test( A.loc[(A['year']==16) & (A['festival'] == 'during'), 'Bioindicator'] , \n",
    "                            A.loc[(A['year']==17) & (A['festival'] == 'during'), 'Bioindicator'], \n",
    "                           method='approximate',\n",
    "                           num_rounds=10000,\n",
    "                           seed=0)\n",
    "print(p_value)\n",
    "#0.35326467353264673 BUV+"
   ]
  },
  {
   "cell_type": "code",
   "execution_count": 7,
   "id": "27bed269",
   "metadata": {},
   "outputs": [
    {
     "name": "stdout",
     "output_type": "stream",
     "text": [
      "0.0387961203879612\n"
     ]
    }
   ],
   "source": [
    "p_value = permutation_test( A.loc[(A['year']==16) & (A['festival'] == 'during'), 'Bioindicator'] , \n",
    "                            A.loc[(A['year']==16) & (A['festival'] != 'during'), 'Bioindicator'], \n",
    "                           method='approximate',\n",
    "                           num_rounds=10000,\n",
    "                           seed=0)\n",
    "print(p_value)"
   ]
  },
  {
   "cell_type": "code",
   "execution_count": 8,
   "id": "36365716",
   "metadata": {},
   "outputs": [
    {
     "name": "stdout",
     "output_type": "stream",
     "text": [
      "0.0014998500149985001\n"
     ]
    }
   ],
   "source": [
    "p_value = permutation_test( A.loc[(A['year']==17) & (A['festival'] == 'during'), 'Bioindicator'] , \n",
    "                            A.loc[(A['year']==17) & (A['festival'] != 'during'), 'Bioindicator'], \n",
    "                           method='approximate',\n",
    "                           num_rounds=10000,\n",
    "                           seed=0)\n",
    "print(p_value)"
   ]
  },
  {
   "cell_type": "code",
   "execution_count": 41,
   "id": "b5cac599",
   "metadata": {},
   "outputs": [
    {
     "data": {
      "text/html": [
       "<div>\n",
       "<style scoped>\n",
       "    .dataframe tbody tr th:only-of-type {\n",
       "        vertical-align: middle;\n",
       "    }\n",
       "\n",
       "    .dataframe tbody tr th {\n",
       "        vertical-align: top;\n",
       "    }\n",
       "\n",
       "    .dataframe thead th {\n",
       "        text-align: right;\n",
       "    }\n",
       "</style>\n",
       "<table border=\"1\" class=\"dataframe\">\n",
       "  <thead>\n",
       "    <tr style=\"text-align: right;\">\n",
       "      <th></th>\n",
       "      <th>Bioindicator</th>\n",
       "      <th>Coliform</th>\n",
       "      <th>Bioindicator UV+</th>\n",
       "      <th>total</th>\n",
       "      <th>rain</th>\n",
       "      <th>rooms</th>\n",
       "    </tr>\n",
       "  </thead>\n",
       "  <tbody>\n",
       "    <tr>\n",
       "      <th>Bioindicator</th>\n",
       "      <td>1.000000</td>\n",
       "      <td>0.300159</td>\n",
       "      <td>0.834559</td>\n",
       "      <td>0.360940</td>\n",
       "      <td>0.123900</td>\n",
       "      <td>0.287612</td>\n",
       "    </tr>\n",
       "    <tr>\n",
       "      <th>Coliform</th>\n",
       "      <td>0.300159</td>\n",
       "      <td>1.000000</td>\n",
       "      <td>0.463321</td>\n",
       "      <td>0.785548</td>\n",
       "      <td>-0.029285</td>\n",
       "      <td>0.205608</td>\n",
       "    </tr>\n",
       "    <tr>\n",
       "      <th>Bioindicator UV+</th>\n",
       "      <td>0.834559</td>\n",
       "      <td>0.463321</td>\n",
       "      <td>1.000000</td>\n",
       "      <td>0.582578</td>\n",
       "      <td>-0.183682</td>\n",
       "      <td>0.226850</td>\n",
       "    </tr>\n",
       "    <tr>\n",
       "      <th>total</th>\n",
       "      <td>0.360940</td>\n",
       "      <td>0.785548</td>\n",
       "      <td>0.582578</td>\n",
       "      <td>1.000000</td>\n",
       "      <td>-0.053015</td>\n",
       "      <td>0.205720</td>\n",
       "    </tr>\n",
       "    <tr>\n",
       "      <th>rain</th>\n",
       "      <td>0.123900</td>\n",
       "      <td>-0.029285</td>\n",
       "      <td>-0.183682</td>\n",
       "      <td>-0.053015</td>\n",
       "      <td>1.000000</td>\n",
       "      <td>0.399218</td>\n",
       "    </tr>\n",
       "    <tr>\n",
       "      <th>rooms</th>\n",
       "      <td>0.287612</td>\n",
       "      <td>0.205608</td>\n",
       "      <td>0.226850</td>\n",
       "      <td>0.205720</td>\n",
       "      <td>0.399218</td>\n",
       "      <td>1.000000</td>\n",
       "    </tr>\n",
       "  </tbody>\n",
       "</table>\n",
       "</div>"
      ],
      "text/plain": [
       "                  Bioindicator  Coliform  Bioindicator UV+     total  \\\n",
       "Bioindicator          1.000000  0.300159          0.834559  0.360940   \n",
       "Coliform              0.300159  1.000000          0.463321  0.785548   \n",
       "Bioindicator UV+      0.834559  0.463321          1.000000  0.582578   \n",
       "total                 0.360940  0.785548          0.582578  1.000000   \n",
       "rain                  0.123900 -0.029285         -0.183682 -0.053015   \n",
       "rooms                 0.287612  0.205608          0.226850  0.205720   \n",
       "\n",
       "                      rain     rooms  \n",
       "Bioindicator      0.123900  0.287612  \n",
       "Coliform         -0.029285  0.205608  \n",
       "Bioindicator UV+ -0.183682  0.226850  \n",
       "total            -0.053015  0.205720  \n",
       "rain              1.000000  0.399218  \n",
       "rooms             0.399218  1.000000  "
      ]
     },
     "execution_count": 41,
     "metadata": {},
     "output_type": "execute_result"
    }
   ],
   "source": [
    "main_vars=['Bioindicator', 'Coliform', 'Bioindicator UV+',  'total' ,'rain', 'rooms']\n",
    "A[main_vars].corr(method ='spearman')"
   ]
  },
  {
   "cell_type": "code",
   "execution_count": 42,
   "id": "6bb8b243",
   "metadata": {},
   "outputs": [],
   "source": [
    "def append_vars(ds, cols):\n",
    "    v=ds[cols]\n",
    "    X=ds.drop(columns=cols)\n",
    "    return pd.concat([X.assign(cfu=ds[col], name=ds['year'].apply(lambda y: f\"{col} {y}\")) for col in cols]).dropna()"
   ]
  },
  {
   "cell_type": "code",
   "execution_count": 43,
   "id": "87339837",
   "metadata": {},
   "outputs": [],
   "source": [
    "A2=append_vars(A, ['Bioindicator', 'Bioindicator UV+', 'Coliform', 'total'])"
   ]
  },
  {
   "cell_type": "code",
   "execution_count": 44,
   "id": "3ad67f3e",
   "metadata": {},
   "outputs": [
    {
     "data": {
      "text/html": [
       "<div>\n",
       "<style scoped>\n",
       "    .dataframe tbody tr th:only-of-type {\n",
       "        vertical-align: middle;\n",
       "    }\n",
       "\n",
       "    .dataframe tbody tr th {\n",
       "        vertical-align: top;\n",
       "    }\n",
       "\n",
       "    .dataframe thead th {\n",
       "        text-align: right;\n",
       "    }\n",
       "</style>\n",
       "<table border=\"1\" class=\"dataframe\">\n",
       "  <thead>\n",
       "    <tr style=\"text-align: right;\">\n",
       "      <th></th>\n",
       "      <th>Bioindicator</th>\n",
       "      <th>Coliform</th>\n",
       "      <th>Bioindicator UV+</th>\n",
       "      <th>total</th>\n",
       "      <th>rain</th>\n",
       "      <th>rooms</th>\n",
       "    </tr>\n",
       "  </thead>\n",
       "  <tbody>\n",
       "    <tr>\n",
       "      <th>Bioindicator</th>\n",
       "      <td>1.000000</td>\n",
       "      <td>0.463458</td>\n",
       "      <td>NaN</td>\n",
       "      <td>0.687153</td>\n",
       "      <td>0.319278</td>\n",
       "      <td>0.425990</td>\n",
       "    </tr>\n",
       "    <tr>\n",
       "      <th>Coliform</th>\n",
       "      <td>0.463458</td>\n",
       "      <td>1.000000</td>\n",
       "      <td>NaN</td>\n",
       "      <td>0.586674</td>\n",
       "      <td>0.000310</td>\n",
       "      <td>0.018802</td>\n",
       "    </tr>\n",
       "    <tr>\n",
       "      <th>Bioindicator UV+</th>\n",
       "      <td>NaN</td>\n",
       "      <td>NaN</td>\n",
       "      <td>NaN</td>\n",
       "      <td>NaN</td>\n",
       "      <td>NaN</td>\n",
       "      <td>NaN</td>\n",
       "    </tr>\n",
       "    <tr>\n",
       "      <th>total</th>\n",
       "      <td>0.687153</td>\n",
       "      <td>0.586674</td>\n",
       "      <td>NaN</td>\n",
       "      <td>1.000000</td>\n",
       "      <td>0.083664</td>\n",
       "      <td>0.152319</td>\n",
       "    </tr>\n",
       "    <tr>\n",
       "      <th>rain</th>\n",
       "      <td>0.319278</td>\n",
       "      <td>0.000310</td>\n",
       "      <td>NaN</td>\n",
       "      <td>0.083664</td>\n",
       "      <td>1.000000</td>\n",
       "      <td>0.893917</td>\n",
       "    </tr>\n",
       "    <tr>\n",
       "      <th>rooms</th>\n",
       "      <td>0.425990</td>\n",
       "      <td>0.018802</td>\n",
       "      <td>NaN</td>\n",
       "      <td>0.152319</td>\n",
       "      <td>0.893917</td>\n",
       "      <td>1.000000</td>\n",
       "    </tr>\n",
       "  </tbody>\n",
       "</table>\n",
       "</div>"
      ],
      "text/plain": [
       "                  Bioindicator  Coliform  Bioindicator UV+     total  \\\n",
       "Bioindicator          1.000000  0.463458               NaN  0.687153   \n",
       "Coliform              0.463458  1.000000               NaN  0.586674   \n",
       "Bioindicator UV+           NaN       NaN               NaN       NaN   \n",
       "total                 0.687153  0.586674               NaN  1.000000   \n",
       "rain                  0.319278  0.000310               NaN  0.083664   \n",
       "rooms                 0.425990  0.018802               NaN  0.152319   \n",
       "\n",
       "                      rain     rooms  \n",
       "Bioindicator      0.319278  0.425990  \n",
       "Coliform          0.000310  0.018802  \n",
       "Bioindicator UV+       NaN       NaN  \n",
       "total             0.083664  0.152319  \n",
       "rain              1.000000  0.893917  \n",
       "rooms             0.893917  1.000000  "
      ]
     },
     "execution_count": 44,
     "metadata": {},
     "output_type": "execute_result"
    }
   ],
   "source": [
    "A.query('year==16')[main_vars].corr(method ='spearman')"
   ]
  },
  {
   "cell_type": "code",
   "execution_count": 45,
   "id": "195509a3",
   "metadata": {},
   "outputs": [
    {
     "data": {
      "text/html": [
       "<div>\n",
       "<style scoped>\n",
       "    .dataframe tbody tr th:only-of-type {\n",
       "        vertical-align: middle;\n",
       "    }\n",
       "\n",
       "    .dataframe tbody tr th {\n",
       "        vertical-align: top;\n",
       "    }\n",
       "\n",
       "    .dataframe thead th {\n",
       "        text-align: right;\n",
       "    }\n",
       "</style>\n",
       "<table border=\"1\" class=\"dataframe\">\n",
       "  <thead>\n",
       "    <tr style=\"text-align: right;\">\n",
       "      <th></th>\n",
       "      <th>Bioindicator</th>\n",
       "      <th>Coliform</th>\n",
       "      <th>Bioindicator UV+</th>\n",
       "      <th>total</th>\n",
       "      <th>rain</th>\n",
       "      <th>rooms</th>\n",
       "    </tr>\n",
       "  </thead>\n",
       "  <tbody>\n",
       "    <tr>\n",
       "      <th>Bioindicator</th>\n",
       "      <td>1.000000</td>\n",
       "      <td>0.630557</td>\n",
       "      <td>0.834559</td>\n",
       "      <td>0.609393</td>\n",
       "      <td>-0.026901</td>\n",
       "      <td>0.250758</td>\n",
       "    </tr>\n",
       "    <tr>\n",
       "      <th>Coliform</th>\n",
       "      <td>0.630557</td>\n",
       "      <td>1.000000</td>\n",
       "      <td>0.463321</td>\n",
       "      <td>0.782111</td>\n",
       "      <td>-0.219374</td>\n",
       "      <td>0.439946</td>\n",
       "    </tr>\n",
       "    <tr>\n",
       "      <th>Bioindicator UV+</th>\n",
       "      <td>0.834559</td>\n",
       "      <td>0.463321</td>\n",
       "      <td>1.000000</td>\n",
       "      <td>0.582578</td>\n",
       "      <td>-0.183682</td>\n",
       "      <td>0.226850</td>\n",
       "    </tr>\n",
       "    <tr>\n",
       "      <th>total</th>\n",
       "      <td>0.609393</td>\n",
       "      <td>0.782111</td>\n",
       "      <td>0.582578</td>\n",
       "      <td>1.000000</td>\n",
       "      <td>-0.294689</td>\n",
       "      <td>0.562313</td>\n",
       "    </tr>\n",
       "    <tr>\n",
       "      <th>rain</th>\n",
       "      <td>-0.026901</td>\n",
       "      <td>-0.219374</td>\n",
       "      <td>-0.183682</td>\n",
       "      <td>-0.294689</td>\n",
       "      <td>1.000000</td>\n",
       "      <td>-0.013363</td>\n",
       "    </tr>\n",
       "    <tr>\n",
       "      <th>rooms</th>\n",
       "      <td>0.250758</td>\n",
       "      <td>0.439946</td>\n",
       "      <td>0.226850</td>\n",
       "      <td>0.562313</td>\n",
       "      <td>-0.013363</td>\n",
       "      <td>1.000000</td>\n",
       "    </tr>\n",
       "  </tbody>\n",
       "</table>\n",
       "</div>"
      ],
      "text/plain": [
       "                  Bioindicator  Coliform  Bioindicator UV+     total  \\\n",
       "Bioindicator          1.000000  0.630557          0.834559  0.609393   \n",
       "Coliform              0.630557  1.000000          0.463321  0.782111   \n",
       "Bioindicator UV+      0.834559  0.463321          1.000000  0.582578   \n",
       "total                 0.609393  0.782111          0.582578  1.000000   \n",
       "rain                 -0.026901 -0.219374         -0.183682 -0.294689   \n",
       "rooms                 0.250758  0.439946          0.226850  0.562313   \n",
       "\n",
       "                      rain     rooms  \n",
       "Bioindicator     -0.026901  0.250758  \n",
       "Coliform         -0.219374  0.439946  \n",
       "Bioindicator UV+ -0.183682  0.226850  \n",
       "total            -0.294689  0.562313  \n",
       "rain              1.000000 -0.013363  \n",
       "rooms            -0.013363  1.000000  "
      ]
     },
     "execution_count": 45,
     "metadata": {},
     "output_type": "execute_result"
    }
   ],
   "source": [
    "A.query('year==17')[main_vars].corr(method ='spearman')"
   ]
  },
  {
   "cell_type": "code",
   "execution_count": 14,
   "id": "ef933bc9",
   "metadata": {},
   "outputs": [
    {
     "data": {
      "text/html": [
       "<div>\n",
       "<style scoped>\n",
       "    .dataframe tbody tr th:only-of-type {\n",
       "        vertical-align: middle;\n",
       "    }\n",
       "\n",
       "    .dataframe tbody tr th {\n",
       "        vertical-align: top;\n",
       "    }\n",
       "\n",
       "    .dataframe thead th {\n",
       "        text-align: right;\n",
       "    }\n",
       "</style>\n",
       "<table border=\"1\" class=\"dataframe\">\n",
       "  <thead>\n",
       "    <tr style=\"text-align: right;\">\n",
       "      <th></th>\n",
       "      <th>Bioindicator</th>\n",
       "      <th>Coliform</th>\n",
       "      <th>Bioindicator UV+</th>\n",
       "      <th>total</th>\n",
       "      <th>rain</th>\n",
       "      <th>rooms</th>\n",
       "    </tr>\n",
       "  </thead>\n",
       "  <tbody>\n",
       "    <tr>\n",
       "      <th>Bioindicator</th>\n",
       "      <td>1.000000</td>\n",
       "      <td>0.282178</td>\n",
       "      <td>NaN</td>\n",
       "      <td>0.313524</td>\n",
       "      <td>0.121148</td>\n",
       "      <td>0.261842</td>\n",
       "    </tr>\n",
       "    <tr>\n",
       "      <th>Coliform</th>\n",
       "      <td>0.282178</td>\n",
       "      <td>1.000000</td>\n",
       "      <td>NaN</td>\n",
       "      <td>0.808145</td>\n",
       "      <td>0.159472</td>\n",
       "      <td>0.508954</td>\n",
       "    </tr>\n",
       "    <tr>\n",
       "      <th>Bioindicator UV+</th>\n",
       "      <td>NaN</td>\n",
       "      <td>NaN</td>\n",
       "      <td>NaN</td>\n",
       "      <td>NaN</td>\n",
       "      <td>NaN</td>\n",
       "      <td>NaN</td>\n",
       "    </tr>\n",
       "    <tr>\n",
       "      <th>total</th>\n",
       "      <td>0.313524</td>\n",
       "      <td>0.808145</td>\n",
       "      <td>NaN</td>\n",
       "      <td>1.000000</td>\n",
       "      <td>0.292094</td>\n",
       "      <td>0.668511</td>\n",
       "    </tr>\n",
       "    <tr>\n",
       "      <th>rain</th>\n",
       "      <td>0.121148</td>\n",
       "      <td>0.159472</td>\n",
       "      <td>NaN</td>\n",
       "      <td>0.292094</td>\n",
       "      <td>1.000000</td>\n",
       "      <td>0.579178</td>\n",
       "    </tr>\n",
       "    <tr>\n",
       "      <th>rooms</th>\n",
       "      <td>0.261842</td>\n",
       "      <td>0.508954</td>\n",
       "      <td>NaN</td>\n",
       "      <td>0.668511</td>\n",
       "      <td>0.579178</td>\n",
       "      <td>1.000000</td>\n",
       "    </tr>\n",
       "  </tbody>\n",
       "</table>\n",
       "</div>"
      ],
      "text/plain": [
       "                  Bioindicator  Coliform  Bioindicator UV+     total  \\\n",
       "Bioindicator          1.000000  0.282178               NaN  0.313524   \n",
       "Coliform              0.282178  1.000000               NaN  0.808145   \n",
       "Bioindicator UV+           NaN       NaN               NaN       NaN   \n",
       "total                 0.313524  0.808145               NaN  1.000000   \n",
       "rain                  0.121148  0.159472               NaN  0.292094   \n",
       "rooms                 0.261842  0.508954               NaN  0.668511   \n",
       "\n",
       "                      rain     rooms  \n",
       "Bioindicator      0.121148  0.261842  \n",
       "Coliform          0.159472  0.508954  \n",
       "Bioindicator UV+       NaN       NaN  \n",
       "total             0.292094  0.668511  \n",
       "rain              1.000000  0.579178  \n",
       "rooms             0.579178  1.000000  "
      ]
     },
     "execution_count": 14,
     "metadata": {},
     "output_type": "execute_result"
    }
   ],
   "source": [
    "A.query('year==20')[main_vars].corr(method ='spearman')"
   ]
  },
  {
   "cell_type": "code",
   "execution_count": 15,
   "id": "15888ae0",
   "metadata": {},
   "outputs": [
    {
     "data": {
      "text/html": [
       "<div>\n",
       "<style scoped>\n",
       "    .dataframe tbody tr th:only-of-type {\n",
       "        vertical-align: middle;\n",
       "    }\n",
       "\n",
       "    .dataframe tbody tr th {\n",
       "        vertical-align: top;\n",
       "    }\n",
       "\n",
       "    .dataframe thead th {\n",
       "        text-align: right;\n",
       "    }\n",
       "</style>\n",
       "<table border=\"1\" class=\"dataframe\">\n",
       "  <thead>\n",
       "    <tr style=\"text-align: right;\">\n",
       "      <th></th>\n",
       "      <th>Bioindicator</th>\n",
       "      <th>Coliform</th>\n",
       "      <th>Bioindicator UV+</th>\n",
       "      <th>total</th>\n",
       "      <th>rain</th>\n",
       "      <th>rooms</th>\n",
       "    </tr>\n",
       "  </thead>\n",
       "  <tbody>\n",
       "    <tr>\n",
       "      <th>Bioindicator</th>\n",
       "      <td>1.000000</td>\n",
       "      <td>0.413961</td>\n",
       "      <td>0.798730</td>\n",
       "      <td>0.479667</td>\n",
       "      <td>0.108622</td>\n",
       "      <td>0.321153</td>\n",
       "    </tr>\n",
       "    <tr>\n",
       "      <th>Coliform</th>\n",
       "      <td>0.413961</td>\n",
       "      <td>1.000000</td>\n",
       "      <td>0.332692</td>\n",
       "      <td>0.828321</td>\n",
       "      <td>-0.048135</td>\n",
       "      <td>0.240064</td>\n",
       "    </tr>\n",
       "    <tr>\n",
       "      <th>Bioindicator UV+</th>\n",
       "      <td>0.798730</td>\n",
       "      <td>0.332692</td>\n",
       "      <td>1.000000</td>\n",
       "      <td>0.579050</td>\n",
       "      <td>-0.160397</td>\n",
       "      <td>0.228377</td>\n",
       "    </tr>\n",
       "    <tr>\n",
       "      <th>total</th>\n",
       "      <td>0.479667</td>\n",
       "      <td>0.828321</td>\n",
       "      <td>0.579050</td>\n",
       "      <td>1.000000</td>\n",
       "      <td>-0.074906</td>\n",
       "      <td>0.223255</td>\n",
       "    </tr>\n",
       "    <tr>\n",
       "      <th>rain</th>\n",
       "      <td>0.108622</td>\n",
       "      <td>-0.048135</td>\n",
       "      <td>-0.160397</td>\n",
       "      <td>-0.074906</td>\n",
       "      <td>1.000000</td>\n",
       "      <td>0.399218</td>\n",
       "    </tr>\n",
       "    <tr>\n",
       "      <th>rooms</th>\n",
       "      <td>0.321153</td>\n",
       "      <td>0.240064</td>\n",
       "      <td>0.228377</td>\n",
       "      <td>0.223255</td>\n",
       "      <td>0.399218</td>\n",
       "      <td>1.000000</td>\n",
       "    </tr>\n",
       "  </tbody>\n",
       "</table>\n",
       "</div>"
      ],
      "text/plain": [
       "                  Bioindicator  Coliform  Bioindicator UV+     total  \\\n",
       "Bioindicator          1.000000  0.413961          0.798730  0.479667   \n",
       "Coliform              0.413961  1.000000          0.332692  0.828321   \n",
       "Bioindicator UV+      0.798730  0.332692          1.000000  0.579050   \n",
       "total                 0.479667  0.828321          0.579050  1.000000   \n",
       "rain                  0.108622 -0.048135         -0.160397 -0.074906   \n",
       "rooms                 0.321153  0.240064          0.228377  0.223255   \n",
       "\n",
       "                      rain     rooms  \n",
       "Bioindicator      0.108622  0.321153  \n",
       "Coliform         -0.048135  0.240064  \n",
       "Bioindicator UV+ -0.160397  0.228377  \n",
       "total            -0.074906  0.223255  \n",
       "rain              1.000000  0.399218  \n",
       "rooms             0.399218  1.000000  "
      ]
     },
     "execution_count": 15,
     "metadata": {},
     "output_type": "execute_result"
    }
   ],
   "source": [
    "A[main_vars].corr(method ='spearman') "
   ]
  },
  {
   "cell_type": "code",
   "execution_count": 16,
   "id": "0e1bdb70",
   "metadata": {},
   "outputs": [
    {
     "data": {
      "text/html": [
       "<div>\n",
       "<style scoped>\n",
       "    .dataframe tbody tr th:only-of-type {\n",
       "        vertical-align: middle;\n",
       "    }\n",
       "\n",
       "    .dataframe tbody tr th {\n",
       "        vertical-align: top;\n",
       "    }\n",
       "\n",
       "    .dataframe thead th {\n",
       "        text-align: right;\n",
       "    }\n",
       "</style>\n",
       "<table border=\"1\" class=\"dataframe\">\n",
       "  <thead>\n",
       "    <tr style=\"text-align: right;\">\n",
       "      <th></th>\n",
       "      <th>cfu</th>\n",
       "      <th>rooms</th>\n",
       "      <th>rain</th>\n",
       "    </tr>\n",
       "  </thead>\n",
       "  <tbody>\n",
       "    <tr>\n",
       "      <th>cfu</th>\n",
       "      <td>1.000000</td>\n",
       "      <td>0.221528</td>\n",
       "      <td>-0.035081</td>\n",
       "    </tr>\n",
       "    <tr>\n",
       "      <th>rooms</th>\n",
       "      <td>0.221528</td>\n",
       "      <td>1.000000</td>\n",
       "      <td>0.345761</td>\n",
       "    </tr>\n",
       "    <tr>\n",
       "      <th>rain</th>\n",
       "      <td>-0.035081</td>\n",
       "      <td>0.345761</td>\n",
       "      <td>1.000000</td>\n",
       "    </tr>\n",
       "  </tbody>\n",
       "</table>\n",
       "</div>"
      ],
      "text/plain": [
       "            cfu     rooms      rain\n",
       "cfu    1.000000  0.221528 -0.035081\n",
       "rooms  0.221528  1.000000  0.345761\n",
       "rain  -0.035081  0.345761  1.000000"
      ]
     },
     "execution_count": 16,
     "metadata": {},
     "output_type": "execute_result"
    }
   ],
   "source": [
    "A2[['cfu', 'rooms', 'rain']].corr(method ='spearman')"
   ]
  },
  {
   "cell_type": "code",
   "execution_count": 17,
   "id": "d5fb8760",
   "metadata": {},
   "outputs": [],
   "source": [
    "def bootstrap_ci(df, variable, classes, repetitions = 1000, alpha = 0.05, random_state=None): \n",
    "    \n",
    "    df = df[[variable, classes]]\n",
    "    bootstrap_sample_size = len(df) \n",
    "    \n",
    "    mean_diffs = []\n",
    "    for i in range(repetitions):\n",
    "            bootstrap_sample = df.sample(n = bootstrap_sample_size, replace = True, random_state = random_state)\n",
    "            mean_diff = bootstrap_sample.groupby(classes).mean().iloc[1,0] - bootstrap_sample.groupby(classes).mean().iloc[0,0]\n",
    "            mean_diffs.append(mean_diff)\n",
    "    # confidence interval\n",
    "    left = np.percentile(mean_diffs, alpha/2*100)\n",
    "    right = np.percentile(mean_diffs, 100-alpha/2*100)\n",
    "    # point estimate\n",
    "    point_est = df.groupby(classes).mean().iloc[1,0] - df.groupby(classes).mean().iloc[0,0]\n",
    "    print('Point estimate of difference between means:', round(point_est,2))\n",
    "    print((1-alpha)*100,'%','confidence interval for the difference between means:', (round(left,2), round(right,2)))\n"
   ]
  },
  {
   "cell_type": "code",
   "execution_count": 69,
   "id": "b0aff600",
   "metadata": {},
   "outputs": [
    {
     "data": {
      "text/html": [
       "<div>\n",
       "<style scoped>\n",
       "    .dataframe tbody tr th:only-of-type {\n",
       "        vertical-align: middle;\n",
       "    }\n",
       "\n",
       "    .dataframe tbody tr th {\n",
       "        vertical-align: top;\n",
       "    }\n",
       "\n",
       "    .dataframe thead th {\n",
       "        text-align: right;\n",
       "    }\n",
       "</style>\n",
       "<table border=\"1\" class=\"dataframe\">\n",
       "  <thead>\n",
       "    <tr style=\"text-align: right;\">\n",
       "      <th></th>\n",
       "      <th>Bioindicator</th>\n",
       "      <th>rain</th>\n",
       "    </tr>\n",
       "  </thead>\n",
       "  <tbody>\n",
       "    <tr>\n",
       "      <th>0</th>\n",
       "      <td>200.0</td>\n",
       "      <td>0.0</td>\n",
       "    </tr>\n",
       "    <tr>\n",
       "      <th>1</th>\n",
       "      <td>0.0</td>\n",
       "      <td>0.0</td>\n",
       "    </tr>\n",
       "    <tr>\n",
       "      <th>2</th>\n",
       "      <td>0.0</td>\n",
       "      <td>0.0</td>\n",
       "    </tr>\n",
       "    <tr>\n",
       "      <th>3</th>\n",
       "      <td>0.0</td>\n",
       "      <td>0.0</td>\n",
       "    </tr>\n",
       "    <tr>\n",
       "      <th>4</th>\n",
       "      <td>0.0</td>\n",
       "      <td>0.0</td>\n",
       "    </tr>\n",
       "    <tr>\n",
       "      <th>...</th>\n",
       "      <td>...</td>\n",
       "      <td>...</td>\n",
       "    </tr>\n",
       "    <tr>\n",
       "      <th>67</th>\n",
       "      <td>100.0</td>\n",
       "      <td>1.8</td>\n",
       "    </tr>\n",
       "    <tr>\n",
       "      <th>68</th>\n",
       "      <td>300.0</td>\n",
       "      <td>1.8</td>\n",
       "    </tr>\n",
       "    <tr>\n",
       "      <th>69</th>\n",
       "      <td>0.0</td>\n",
       "      <td>1.8</td>\n",
       "    </tr>\n",
       "    <tr>\n",
       "      <th>70</th>\n",
       "      <td>0.0</td>\n",
       "      <td>1.8</td>\n",
       "    </tr>\n",
       "    <tr>\n",
       "      <th>71</th>\n",
       "      <td>200.0</td>\n",
       "      <td>1.8</td>\n",
       "    </tr>\n",
       "  </tbody>\n",
       "</table>\n",
       "<p>216 rows × 2 columns</p>\n",
       "</div>"
      ],
      "text/plain": [
       "    Bioindicator  rain\n",
       "0          200.0   0.0\n",
       "1            0.0   0.0\n",
       "2            0.0   0.0\n",
       "3            0.0   0.0\n",
       "4            0.0   0.0\n",
       "..           ...   ...\n",
       "67         100.0   1.8\n",
       "68         300.0   1.8\n",
       "69           0.0   1.8\n",
       "70           0.0   1.8\n",
       "71         200.0   1.8\n",
       "\n",
       "[216 rows x 2 columns]"
      ]
     },
     "execution_count": 69,
     "metadata": {},
     "output_type": "execute_result"
    }
   ],
   "source": [
    "A[['Bioindicator','rain']]"
   ]
  },
  {
   "cell_type": "code",
   "execution_count": 71,
   "id": "cfd07db4",
   "metadata": {},
   "outputs": [],
   "source": [
    "import arch.data.frenchdata\n",
    "from arch.bootstrap import StationaryBootstrap,IndependentSamplesBootstrap"
   ]
  },
  {
   "cell_type": "code",
   "execution_count": 83,
   "id": "dab8e7e7",
   "metadata": {},
   "outputs": [
    {
     "data": {
      "image/png": "[encoded data removed]",
      "text/plain": [
       "<Figure size 432x288 with 1 Axes>"
      ]
     },
     "metadata": {
      "needs_background": "light"
     },
     "output_type": "display_data"
    }
   ],
   "source": [
    "def foi(X):\n",
    "    return X.corr(method ='spearman').iloc[0,1] #['cfu']['rain']\n",
    "    \n",
    "bs = StationaryBootstrap(12, A[['Bioindicator','rain']])\n",
    "results = bs.apply(foi, 2500)\n",
    "SR = pd.DataFrame(results[:, -1:], columns=[\"SR\"])\n",
    "fig = SR.hist(bins=40)\n"
   ]
  },
  {
   "cell_type": "code",
   "execution_count": 82,
   "id": "0b80f60d",
   "metadata": {},
   "outputs": [
    {
     "data": {
      "text/plain": [
       "0.12390000604788295"
      ]
     },
     "execution_count": 82,
     "metadata": {},
     "output_type": "execute_result"
    }
   ],
   "source": [
    "A[['Bioindicator','rain']].corr(method='spearman').iloc[0,1]"
   ]
  },
  {
   "cell_type": "code",
   "execution_count": 99,
   "id": "60220e4a",
   "metadata": {},
   "outputs": [
    {
     "data": {
      "text/plain": [
       "0.4904"
      ]
     },
     "execution_count": 99,
     "metadata": {},
     "output_type": "execute_result"
    }
   ],
   "source": [
    "l = SR.SR\n",
    "\n",
    "total_size = len(SR.SR)\n",
    "true = np.sum(l <0.12)\n",
    "\n",
    "true/total_size"
   ]
  },
  {
   "cell_type": "code",
   "execution_count": 21,
   "id": "64a5db28",
   "metadata": {},
   "outputs": [
    {
     "data": {
      "image/png": "[encoded data removed]",
      "text/plain": [
       "<Figure size 432x288 with 1 Axes>"
      ]
     },
     "metadata": {
      "needs_background": "light"
     },
     "output_type": "display_data"
    }
   ],
   "source": [
    "def foi(X):\n",
    "    return X[['cfu', 'rooms', 'rain']].corr(method ='spearman')['cfu']['rain']\n",
    "    \n",
    "bs = StationaryBootstrap(12, A2)\n",
    "results = bs.apply(foi, 2500)\n",
    "SR = pd.DataFrame(results[:, -1:], columns=[\"SR\"])\n",
    "fig = SR.hist(bins=40)"
   ]
  },
  {
   "cell_type": "code",
   "execution_count": 22,
   "id": "b9fb137c",
   "metadata": {},
   "outputs": [
    {
     "name": "stderr",
     "output_type": "stream",
     "text": [
      "/Users/kato/anaconda3/lib/python3.7/site-packages/arch/bootstrap/base.py:685: RuntimeWarning: The conditions to reuse the previous bootstrap has not been satisfied. A new bootstrap will be used.\n",
      "  warnings.warn(warn, RuntimeWarning)\n"
     ]
    },
    {
     "data": {
      "text/plain": [
       "array([[-0.20008459],\n",
       "       [ 0.1353287 ]])"
      ]
     },
     "execution_count": 22,
     "metadata": {},
     "output_type": "execute_result"
    }
   ],
   "source": [
    "ci = bs.conf_int(foi, 1000, method=\"percentile\", reuse=True)\n",
    "ci"
   ]
  },
  {
   "cell_type": "markdown",
   "id": "9a6cc5bc",
   "metadata": {},
   "source": [
    "## Bootstrap"
   ]
  },
  {
   "cell_type": "code",
   "execution_count": null,
   "id": "3bb889d2",
   "metadata": {},
   "outputs": [],
   "source": [
    "def boot_matrix(z, B):\n",
    "    \"\"\"Bootstrap sample\n",
    "    \n",
    "    Returns all bootstrap samples in a matrix\"\"\"\n",
    "    \n",
    "    n = len(z)  # sample size\n",
    "    idz = np.random.randint(0, n, size=(B, n))  # indices to pick for all boostrap samples\n",
    "    return z[idz]\n",
    "\n",
    "def bootstrap_mean(x, B=10000, alpha=0.05, plot=False):\n",
    "    \"\"\"Bootstrap standard error and (1-alpha)*100% c.i. for the population mean\n",
    "    \n",
    "    Returns bootstrapped standard error and different types of confidence intervals\"\"\"\n",
    "   \n",
    "    # Deterministic things\n",
    "    n = len(x)  # sample size\n",
    "    orig = x.mean()  # sample mean\n",
    "    se_mean = x.std()/np.sqrt(n) # standard error of the mean\n",
    "    qt = stats.t.ppf(q=1 - alpha/2, df=n - 1) # Student quantile\n",
    "    \n",
    "    # Generate boostrap distribution of sample mean\n",
    "    xboot = boot_matrix(x, B=B)\n",
    "    sampling_distribution = xboot.mean(axis=1)\n",
    "   \n",
    "   # Standard error and sample quantiles\n",
    "    se_mean_boot = sampling_distribution.std()\n",
    "    quantile_boot = np.percentile(sampling_distribution, q=(100*alpha/2, 100*(1-alpha/2)))\n",
    " \n",
    "    # RESULTS\n",
    "    print(\"Estimated mean:\", orig)\n",
    "    print(\"Classic standard error:\", se_mean)\n",
    "    print(\"Classic student c.i.:\", orig + np.array([-qt, qt])*se_mean)\n",
    "    print(\"\\nBootstrap results:\")\n",
    "    print(\"Standard error:\", se_mean_boot)\n",
    "    print(\"t-type c.i.:\", orig + np.array([-qt, qt])*se_mean_boot)\n",
    "    print(\"Percentile c.i.:\", quantile_boot)\n",
    "    print(\"Basic c.i.:\", 2*orig - quantile_boot[::-1])\n",
    "\n",
    "    if plot:\n",
    "        plt.hist(sampling_distribution, bins=\"fd\")"
   ]
  },
  {
   "cell_type": "code",
   "execution_count": null,
   "id": "978da8f5",
   "metadata": {},
   "outputs": [],
   "source": []
  },
  {
   "cell_type": "code",
   "execution_count": 23,
   "id": "74d3eab7",
   "metadata": {},
   "outputs": [
    {
     "ename": "StudentizationError",
     "evalue": "\nThe estimated covariance computed in the studentication is numerically 0.\nThis might occur if your statistic has no variation. It is not possible to\napply the studentized bootstrap if any of the variances the values returned\nby func have not variability when resampled. The estimated covariance\nis:\n\n [[6.09003938e+05 0.00000000e+00 4.05197396e+02 1.44864454e+04\n  3.80442704e+04 2.58022158e+05 4.02730564e+02            nan]\n [0.00000000e+00 0.00000000e+00 0.00000000e+00 0.00000000e+00\n  0.00000000e+00 0.00000000e+00 0.00000000e+00            nan]\n [4.05197396e+02 0.00000000e+00 1.20137112e+00 1.89703409e+01\n  3.85232060e-01 1.19202958e+02 1.74850725e-01            nan]\n [1.44864454e+04 0.00000000e+00 1.89703409e+01 2.85057591e+03\n  2.97990400e+03 1.27440394e+04 2.54599447e+00            nan]\n [3.80442704e+04 0.00000000e+00 3.85232060e-01 2.97990400e+03\n  2.19226485e+04 7.36443613e+04 1.36616522e+01            nan]\n [2.58022158e+05 0.00000000e+00 1.19202958e+02 1.27440394e+04\n  7.36443613e+04 3.70711246e+05 9.70945622e+01            nan]\n [4.02730564e+02 0.00000000e+00 1.74850725e-01 2.54599447e+00\n  1.36616522e+01 9.70945622e+01 3.78825688e-01            nan]\n [           nan            nan            nan            nan\n             nan            nan            nan            nan]]\n",
     "output_type": "error",
     "traceback": [
      "\u001b[0;31m---------------------------------------------------------------------------\u001b[0m",
      "\u001b[0;31mStudentizationError\u001b[0m                       Traceback (most recent call last)",
      "\u001b[0;32m<ipython-input-23-adc3cdb23f1e>\u001b[0m in \u001b[0;36m<module>\u001b[0;34m\u001b[0m\n\u001b[1;32m      3\u001b[0m \u001b[0;34m\u001b[0m\u001b[0m\n\u001b[1;32m      4\u001b[0m \u001b[0mbs\u001b[0m \u001b[0;34m=\u001b[0m \u001b[0mIndependentSamplesBootstrap\u001b[0m\u001b[0;34m(\u001b[0m\u001b[0mA\u001b[0m\u001b[0;34m.\u001b[0m\u001b[0mloc\u001b[0m\u001b[0;34m[\u001b[0m\u001b[0mA\u001b[0m\u001b[0;34m[\u001b[0m\u001b[0;34m'year'\u001b[0m\u001b[0;34m]\u001b[0m \u001b[0;34m==\u001b[0m \u001b[0;36m16\u001b[0m\u001b[0;34m]\u001b[0m\u001b[0;34m,\u001b[0m \u001b[0mA\u001b[0m\u001b[0;34m.\u001b[0m\u001b[0mloc\u001b[0m\u001b[0;34m[\u001b[0m\u001b[0mA\u001b[0m\u001b[0;34m[\u001b[0m\u001b[0;34m'year'\u001b[0m\u001b[0;34m]\u001b[0m \u001b[0;34m==\u001b[0m \u001b[0;36m20\u001b[0m\u001b[0;34m]\u001b[0m\u001b[0;34m)\u001b[0m\u001b[0;34m\u001b[0m\u001b[0;34m\u001b[0m\u001b[0m\n\u001b[0;32m----> 5\u001b[0;31m \u001b[0mprint\u001b[0m\u001b[0;34m(\u001b[0m\u001b[0mbs\u001b[0m\u001b[0;34m.\u001b[0m\u001b[0mconf_int\u001b[0m\u001b[0;34m(\u001b[0m\u001b[0mmean_diff\u001b[0m\u001b[0;34m,\u001b[0m \u001b[0mmethod\u001b[0m\u001b[0;34m=\u001b[0m\u001b[0;34m\"studentized\"\u001b[0m\u001b[0;34m)\u001b[0m\u001b[0;34m)\u001b[0m\u001b[0;34m\u001b[0m\u001b[0;34m\u001b[0m\u001b[0m\n\u001b[0m",
      "\u001b[0;32m~/anaconda3/lib/python3.7/site-packages/arch/bootstrap/base.py\u001b[0m in \u001b[0;36mconf_int\u001b[0;34m(self, func, reps, method, size, tail, extra_kwargs, reuse, sampling, std_err_func, studentize_reps)\u001b[0m\n\u001b[1;32m    690\u001b[0m                 \u001b[0mstd_err_func\u001b[0m\u001b[0;34m=\u001b[0m\u001b[0mstd_err_func\u001b[0m\u001b[0;34m,\u001b[0m\u001b[0;34m\u001b[0m\u001b[0;34m\u001b[0m\u001b[0m\n\u001b[1;32m    691\u001b[0m                 \u001b[0mstudentize_reps\u001b[0m\u001b[0;34m=\u001b[0m\u001b[0mstudentize_reps\u001b[0m\u001b[0;34m,\u001b[0m  \u001b[0;31m# noqa\u001b[0m\u001b[0;34m\u001b[0m\u001b[0;34m\u001b[0m\u001b[0m\n\u001b[0;32m--> 692\u001b[0;31m                 \u001b[0msampling\u001b[0m\u001b[0;34m=\u001b[0m\u001b[0msampling\u001b[0m\u001b[0;34m,\u001b[0m\u001b[0;34m\u001b[0m\u001b[0;34m\u001b[0m\u001b[0m\n\u001b[0m\u001b[1;32m    693\u001b[0m             )\n\u001b[1;32m    694\u001b[0m \u001b[0;34m\u001b[0m\u001b[0m\n",
      "\u001b[0;32m~/anaconda3/lib/python3.7/site-packages/arch/bootstrap/base.py\u001b[0m in \u001b[0;36m_construct_bootstrap_estimates\u001b[0;34m(self, func, reps, extra_kwargs, std_err_func, studentize_reps, sampling)\u001b[0m\n\u001b[1;32m    943\u001b[0m                 \u001b[0merr\u001b[0m \u001b[0;34m=\u001b[0m \u001b[0mresults\u001b[0m\u001b[0;34m[\u001b[0m\u001b[0mcount\u001b[0m\u001b[0;34m]\u001b[0m \u001b[0;34m-\u001b[0m \u001b[0mbase\u001b[0m\u001b[0;34m\u001b[0m\u001b[0;34m\u001b[0m\u001b[0m\n\u001b[1;32m    944\u001b[0m                 \u001b[0;32mif\u001b[0m \u001b[0mnp\u001b[0m\u001b[0;34m.\u001b[0m\u001b[0many\u001b[0m\u001b[0;34m(\u001b[0m\u001b[0mstd_err\u001b[0m \u001b[0;34m<=\u001b[0m \u001b[0;34m(\u001b[0m\u001b[0meps\u001b[0m \u001b[0;34m*\u001b[0m \u001b[0mnp\u001b[0m\u001b[0;34m.\u001b[0m\u001b[0mabs\u001b[0m\u001b[0;34m(\u001b[0m\u001b[0merr\u001b[0m\u001b[0;34m)\u001b[0m\u001b[0;34m)\u001b[0m\u001b[0;34m)\u001b[0m\u001b[0;34m:\u001b[0m\u001b[0;34m\u001b[0m\u001b[0;34m\u001b[0m\u001b[0m\n\u001b[0;32m--> 945\u001b[0;31m                     \u001b[0;32mraise\u001b[0m \u001b[0mStudentizationError\u001b[0m\u001b[0;34m(\u001b[0m\u001b[0mstudentization_error\u001b[0m\u001b[0;34m.\u001b[0m\u001b[0mformat\u001b[0m\u001b[0;34m(\u001b[0m\u001b[0mcov\u001b[0m\u001b[0;34m=\u001b[0m\u001b[0mcov\u001b[0m\u001b[0;34m)\u001b[0m\u001b[0;34m)\u001b[0m\u001b[0;34m\u001b[0m\u001b[0;34m\u001b[0m\u001b[0m\n\u001b[0m\u001b[1;32m    946\u001b[0m                 \u001b[0mstudentized_results\u001b[0m\u001b[0;34m[\u001b[0m\u001b[0mcount\u001b[0m\u001b[0;34m]\u001b[0m \u001b[0;34m=\u001b[0m \u001b[0merr\u001b[0m \u001b[0;34m/\u001b[0m \u001b[0mstd_err\u001b[0m\u001b[0;34m\u001b[0m\u001b[0;34m\u001b[0m\u001b[0m\n\u001b[1;32m    947\u001b[0m             \u001b[0mcount\u001b[0m \u001b[0;34m+=\u001b[0m \u001b[0;36m1\u001b[0m\u001b[0;34m\u001b[0m\u001b[0;34m\u001b[0m\u001b[0m\n",
      "\u001b[0;31mStudentizationError\u001b[0m: \nThe estimated covariance computed in the studentication is numerically 0.\nThis might occur if your statistic has no variation. It is not possible to\napply the studentized bootstrap if any of the variances the values returned\nby func have not variability when resampled. The estimated covariance\nis:\n\n [[6.09003938e+05 0.00000000e+00 4.05197396e+02 1.44864454e+04\n  3.80442704e+04 2.58022158e+05 4.02730564e+02            nan]\n [0.00000000e+00 0.00000000e+00 0.00000000e+00 0.00000000e+00\n  0.00000000e+00 0.00000000e+00 0.00000000e+00            nan]\n [4.05197396e+02 0.00000000e+00 1.20137112e+00 1.89703409e+01\n  3.85232060e-01 1.19202958e+02 1.74850725e-01            nan]\n [1.44864454e+04 0.00000000e+00 1.89703409e+01 2.85057591e+03\n  2.97990400e+03 1.27440394e+04 2.54599447e+00            nan]\n [3.80442704e+04 0.00000000e+00 3.85232060e-01 2.97990400e+03\n  2.19226485e+04 7.36443613e+04 1.36616522e+01            nan]\n [2.58022158e+05 0.00000000e+00 1.19202958e+02 1.27440394e+04\n  7.36443613e+04 3.70711246e+05 9.70945622e+01            nan]\n [4.02730564e+02 0.00000000e+00 1.74850725e-01 2.54599447e+00\n  1.36616522e+01 9.70945622e+01 3.78825688e-01            nan]\n [           nan            nan            nan            nan\n             nan            nan            nan            nan]]\n"
     ]
    }
   ],
   "source": [
    "def mean_diff(x, y):\n",
    "    return x.mean() - y.mean()\n",
    "\n",
    "bs = IndependentSamplesBootstrap(A.loc[A['year'] == 16], A.loc[A['year'] == 20])\n",
    "print(bs.conf_int(mean_diff, method=\"studentized\"))\n"
   ]
  },
  {
   "cell_type": "code",
   "execution_count": null,
   "id": "8e25c27f",
   "metadata": {},
   "outputs": [],
   "source": []
  }
 ],
 "metadata": {
  "kernelspec": {
   "display_name": "Python 3",
   "language": "python",
   "name": "python3"
  },
  "language_info": {
   "codemirror_mode": {
    "name": "ipython",
    "version": 3
   },
   "file_extension": ".py",
   "mimetype": "text/x-python",
   "name": "python",
   "nbconvert_exporter": "python",
   "pygments_lexer": "ipython3",
   "version": "3.7.7"
  }
 },
 "nbformat": 4,
 "nbformat_minor": 5
}
