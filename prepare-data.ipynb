{
 "cells": [
  {
   "cell_type": "code",
   "execution_count": null,
   "id": "severe-conviction",
   "metadata": {},
   "outputs": [],
   "source": [
    "import numpy as np\n",
    "import pandas as pd\n",
    "import matplotlib.pyplot as plt\n",
    "import seaborn as sns\n",
    "import datetime\n"
   ]
  },
  {
   "cell_type": "code",
   "execution_count": null,
   "id": "listed-buffalo",
   "metadata": {},
   "outputs": [],
   "source": [
    "def print_full(x):\n",
    "    pd.set_option('display.max_rows', len(x))\n",
    "    print(x)\n",
    "    pd.reset_option('display.max_rows')"
   ]
  },
  {
   "cell_type": "code",
   "execution_count": null,
   "id": "flying-skiing",
   "metadata": {},
   "outputs": [],
   "source": [
    "# Load rain and hotel occupancy data\n",
    "r16 = pd.read_csv(\"data/rain2016.csv\")\n",
    "r17 = pd.read_csv(\"data/rain2017.csv\")\n",
    "r20 = pd.read_csv(\"data/rain2020.csv\")\n",
    "R=pd.concat([r16,r17,r20])[['Date', 'Rain']].sort_values('Date')\n",
    "H = pd.read_csv(\"data/hotel-nights.csv\")\n",
    "H['per_day'] = H['Rooms']/H['Days']\n",
    "R['rooms']=0\n",
    "for i, row in R.iterrows(): \n",
    "    R.at[i,\"rooms\"]=H.loc[ H['Month']==row[\"Date\"][:7] ,'per_day'].values[0]"
   ]
  },
  {
   "cell_type": "code",
   "execution_count": null,
   "id": "faced-superior",
   "metadata": {},
   "outputs": [],
   "source": [
    "ds16 = pd.read_csv(\"data/2016_Data.csv\").sort_values(['Date', 'Location'])\n",
    "ds16['medium']='easy_gel'\n",
    "ds17 = pd.read_csv(\"data/2017_Data.csv\").sort_values(['Date', 'Location'])\n",
    "ds20 = pd.read_csv(\"data/2020_Data.csv\").query(\"medium=='levine'\").sort_values(['Date', 'Location', 'Plate_number'])"
   ]
  },
  {
   "cell_type": "code",
   "execution_count": null,
   "id": "chinese-voice",
   "metadata": {
    "tags": []
   },
   "outputs": [],
   "source": [
    "def expand_columns(ds, n=3):\n",
    "    plate_prefix = [f\"P{i+1}_\" for i in range(n)]\n",
    "    X=pd.concat([ds]*n) \n",
    "    X['Plate_number']=np.tile(np.arange(1,n+1),len(ds))\n",
    "    plates=[s for s in ds.columns.tolist() if any(xs in s for xs in plate_prefix)]\n",
    "    for p in plates:\n",
    "        colname=p[3:] \n",
    "        X.loc[X['Plate_number'] == int(p[1]) , colname] =   ds[p]\n",
    "    return X\n",
    "\n",
    "def map_columns(ds, col_dict):\n",
    "    col_dict={**common_cols, **col_dict}\n",
    "    x=ds.rename(columns=col_dict)\n",
    "    return x[list(col_dict.values())]\n",
    "\n",
    "def calcRain(w):\n",
    "    i=R.loc[R['Date']==w].index.values[0]\n",
    "    r=R.iloc[i-2:i].agg('sum')['Rain']\n",
    "    h=R.iloc[i-6:i].agg('sum')['rooms']\n",
    "    return (h,r)\n",
    "\n",
    "def annotate_weeks(ds, weeks):\n",
    "    ds['week']=0\n",
    "    ds['festival']=''\n",
    "    ds['rain']=0\n",
    "    ds['rooms']=0\n",
    "    for w, i in zip(weeks, range(len(weeks))):\n",
    "        I=ds['Date']==w\n",
    "        ds.loc[I, 'week']= i+1\n",
    "        ds.loc[I, 'festival']= weeks[w]\n",
    "        h, r = calcRain(w)\n",
    "        ds.loc[I, 'rain'] = r\n",
    "        ds.loc[I, 'rooms']= h\n",
    "    return ds\n",
    "\n",
    "def prepare_year(ds, col_dict, weeks, locations, medium):\n",
    "    x=map_columns(ds, col_dict)\n",
    "    return annotate_weeks(x, weeks) \\\n",
    "            .query(' or '.join([ f\"(Location=='{u}')\" for u in locations])) \\\n",
    "            .query(f\"medium==\\'{medium}\\'\").drop(columns=['medium'])\n",
    "    \n",
    "sites=['VNX','MRD','SVT']\n",
    "common_cols={'Date' : 'Date',\n",
    "                'Location' : 'Location' ,\n",
    "                'Plate_number' : 'Plate_number',\n",
    "                'medium' : 'medium'}"
   ]
  },
  {
   "cell_type": "code",
   "execution_count": null,
   "id": "sensitive-confirmation",
   "metadata": {},
   "outputs": [],
   "source": [
    "# 2016\n",
    "weeks16= {'2016-06-21' : 'before',\n",
    "            '2016-06-28' : 'before',\n",
    "            '2016-07-05' : 'during',\n",
    "            '2016-07-12' : 'during',\n",
    "            '2016-07-19' : 'after',\n",
    "            '2016-07-26' : 'after',\n",
    "            '2016-08-02' : 'after',\n",
    "            '2016-08-09' : 'after'} \n",
    "ds16['P2_qty_sample'] = ds16['P1_qty_sample']\n",
    "ds16['P3_qty_sample'] = ds16['P1_qty_sample']\n",
    "Y16 = prepare_year(expand_columns(ds16,3), {\n",
    "                '24h_big_blue' : 'Bioindicator',\n",
    "                '24h_med_blue' : 'Coliform',\n",
    "                'qty_sample' : 'volume'\n",
    "            }, weeks16, sites, 'easy_gel')\n",
    "#Y16.to_csv(\"Y16.csv\")\n"
   ]
  },
  {
   "cell_type": "code",
   "execution_count": null,
   "id": "brazilian-seminar",
   "metadata": {},
   "outputs": [],
   "source": [
    "# 2017\n",
    "weeks17 = {'2017-06-12' : 'before',\n",
    "    '2017-06-19' : 'before',\n",
    "    '2017-06-26' : 'before',\n",
    "    '2017-07-03' : 'during',\n",
    "    '2017-07-10' : 'during',\n",
    "    '2017-07-17' : 'after',\n",
    "    '2017-07-24' : 'after',\n",
    "    '2017-07-31' : 'after',}\n",
    "\n",
    "Y17 = prepare_year(expand_columns(ds17,3), {\n",
    "            'Date' : 'Date',\n",
    "            'Location' : 'Location' ,\n",
    "            'Plate_number' : 'Plate_number',\n",
    "            '24h_big_blue' : 'Bioindicator',\n",
    "            'fluo_halo_colonies' : 'Bioindicator UV+',\n",
    "            '24h_med_blue' : 'Coliform',\n",
    "            'qty_sample' : 'volume'\n",
    "        }, weeks17, sites, 'easy_gel')\n",
    "#Y17.to_csv(\"Y17.csv\")"
   ]
  },
  {
   "cell_type": "code",
   "execution_count": null,
   "id": "finished-minneapolis",
   "metadata": {},
   "outputs": [],
   "source": [
    "# 2020\n",
    "weeks20 = {'2020-06-11' : 'before',\n",
    "                            '2020-06-18' : 'before',\n",
    "                            '2020-06-25' : 'before',\n",
    "                            '2020-07-01' : 'before',\n",
    "                            '2020-07-09' : 'before',\n",
    "                            '2020-07-16' : 'before',\n",
    "                            '2020-07-22' : 'before',\n",
    "                            '2020-08-06' : 'before'}\n",
    "\n",
    "Y20=prepare_year(ds20, { 'green_met' : 'Bioindicator',\n",
    "                            'purple' : 'Coliform',\n",
    "                            'volume' : 'volume'\n",
    "                        }, weeks20 , sites, 'levine')\n",
    "#Y20.to_csv(\"Y20.csv\")"
   ]
  },
  {
   "cell_type": "code",
   "execution_count": null,
   "id": "filled-ribbon",
   "metadata": {},
   "outputs": [],
   "source": [
    "D=pd.concat([Y16,Y17,Y20])\n",
    "D.to_pickle(\"data/allyears.pkl\")"
   ]
  }
 ],
 "metadata": {
  "kernelspec": {
   "display_name": "Python 3",
   "language": "python",
   "name": "python3"
  },
  "language_info": {
   "codemirror_mode": {
    "name": "ipython",
    "version": 3
   },
   "file_extension": ".py",
   "mimetype": "text/x-python",
   "name": "python",
   "nbconvert_exporter": "python",
   "pygments_lexer": "ipython3",
   "version": "3.9.2"
  }
 },
 "nbformat": 4,
 "nbformat_minor": 5
}
